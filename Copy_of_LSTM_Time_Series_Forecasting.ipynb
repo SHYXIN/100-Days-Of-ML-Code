{
  "nbformat": 4,
  "nbformat_minor": 0,
  "metadata": {
    "colab": {
      "provenance": [],
      "include_colab_link": true
    },
    "kernelspec": {
      "name": "python3",
      "display_name": "Python 3"
    },
    "language_info": {
      "name": "python"
    }
  },
  "cells": [
    {
      "cell_type": "markdown",
      "metadata": {
        "id": "view-in-github",
        "colab_type": "text"
      },
      "source": [
        "<a href=\"https://colab.research.google.com/github/SHYXIN/100-Days-Of-ML-Code/blob/master/Copy_of_LSTM_Time_Series_Forecasting.ipynb\" target=\"_parent\"><img src=\"https://colab.research.google.com/assets/colab-badge.svg\" alt=\"Open In Colab\"/></a>"
      ]
    },
    {
      "cell_type": "code",
      "metadata": {
        "id": "EbrFD1vMR_qS"
      },
      "source": [
        "import tensorflow as tf\n",
        "import os\n",
        "import pandas as pd\n",
        "import numpy as np"
      ],
      "execution_count": 1,
      "outputs": []
    },
    {
      "cell_type": "code",
      "metadata": {
        "id": "1q73lN27SDPC",
        "colab": {
          "base_uri": "https://localhost:8080/"
        },
        "outputId": "b6d6bb10-c311-4271-e889-a11dd1b88c2a"
      },
      "source": [
        "zip_path = tf.keras.utils.get_file(\n",
        "    origin='https://storage.googleapis.com/tensorflow/tf-keras-datasets/jena_climate_2009_2016.csv.zip',\n",
        "    fname='jena_climate_2009_2016.csv.zip',\n",
        "    extract=True)\n",
        "csv_path, _ = os.path.splitext(zip_path)"
      ],
      "execution_count": 2,
      "outputs": [
        {
          "output_type": "stream",
          "name": "stdout",
          "text": [
            "Downloading data from https://storage.googleapis.com/tensorflow/tf-keras-datasets/jena_climate_2009_2016.csv.zip\n",
            "13568290/13568290 [==============================] - 1s 0us/step\n"
          ]
        }
      ]
    },
    {
      "cell_type": "code",
      "metadata": {
        "colab": {
          "base_uri": "https://localhost:8080/",
          "height": 424
        },
        "id": "RRVN-4QOSKAx",
        "outputId": "ae1627cb-0044-4af0-a920-e5012a48ed8c"
      },
      "source": [
        "df = pd.read_csv(csv_path)\n",
        "df"
      ],
      "execution_count": 3,
      "outputs": [
        {
          "output_type": "execute_result",
          "data": {
            "text/plain": [
              "                  Date Time  p (mbar)  T (degC)  Tpot (K)  Tdew (degC)  \\\n",
              "0       01.01.2009 00:10:00    996.52     -8.02    265.40        -8.90   \n",
              "1       01.01.2009 00:20:00    996.57     -8.41    265.01        -9.28   \n",
              "2       01.01.2009 00:30:00    996.53     -8.51    264.91        -9.31   \n",
              "3       01.01.2009 00:40:00    996.51     -8.31    265.12        -9.07   \n",
              "4       01.01.2009 00:50:00    996.51     -8.27    265.15        -9.04   \n",
              "...                     ...       ...       ...       ...          ...   \n",
              "420546  31.12.2016 23:20:00   1000.07     -4.05    269.10        -8.13   \n",
              "420547  31.12.2016 23:30:00    999.93     -3.35    269.81        -8.06   \n",
              "420548  31.12.2016 23:40:00    999.82     -3.16    270.01        -8.21   \n",
              "420549  31.12.2016 23:50:00    999.81     -4.23    268.94        -8.53   \n",
              "420550  01.01.2017 00:00:00    999.82     -4.82    268.36        -8.42   \n",
              "\n",
              "        rh (%)  VPmax (mbar)  VPact (mbar)  VPdef (mbar)  sh (g/kg)  \\\n",
              "0        93.30          3.33          3.11          0.22       1.94   \n",
              "1        93.40          3.23          3.02          0.21       1.89   \n",
              "2        93.90          3.21          3.01          0.20       1.88   \n",
              "3        94.20          3.26          3.07          0.19       1.92   \n",
              "4        94.10          3.27          3.08          0.19       1.92   \n",
              "...        ...           ...           ...           ...        ...   \n",
              "420546   73.10          4.52          3.30          1.22       2.06   \n",
              "420547   69.71          4.77          3.32          1.44       2.07   \n",
              "420548   67.91          4.84          3.28          1.55       2.05   \n",
              "420549   71.80          4.46          3.20          1.26       1.99   \n",
              "420550   75.70          4.27          3.23          1.04       2.01   \n",
              "\n",
              "        H2OC (mmol/mol)  rho (g/m**3)  wv (m/s)  max. wv (m/s)  wd (deg)  \n",
              "0                  3.12       1307.75      1.03           1.75     152.3  \n",
              "1                  3.03       1309.80      0.72           1.50     136.1  \n",
              "2                  3.02       1310.24      0.19           0.63     171.6  \n",
              "3                  3.08       1309.19      0.34           0.50     198.0  \n",
              "4                  3.09       1309.00      0.32           0.63     214.3  \n",
              "...                 ...           ...       ...            ...       ...  \n",
              "420546             3.30       1292.98      0.67           1.52     240.0  \n",
              "420547             3.32       1289.44      1.14           1.92     234.3  \n",
              "420548             3.28       1288.39      1.08           2.00     215.2  \n",
              "420549             3.20       1293.56      1.49           2.16     225.8  \n",
              "420550             3.23       1296.38      1.23           1.96     184.9  \n",
              "\n",
              "[420551 rows x 15 columns]"
            ],
            "text/html": [
              "\n",
              "  <div id=\"df-3e30d533-1e75-4947-85c7-96bb8dd86d4b\" class=\"colab-df-container\">\n",
              "    <div>\n",
              "<style scoped>\n",
              "    .dataframe tbody tr th:only-of-type {\n",
              "        vertical-align: middle;\n",
              "    }\n",
              "\n",
              "    .dataframe tbody tr th {\n",
              "        vertical-align: top;\n",
              "    }\n",
              "\n",
              "    .dataframe thead th {\n",
              "        text-align: right;\n",
              "    }\n",
              "</style>\n",
              "<table border=\"1\" class=\"dataframe\">\n",
              "  <thead>\n",
              "    <tr style=\"text-align: right;\">\n",
              "      <th></th>\n",
              "      <th>Date Time</th>\n",
              "      <th>p (mbar)</th>\n",
              "      <th>T (degC)</th>\n",
              "      <th>Tpot (K)</th>\n",
              "      <th>Tdew (degC)</th>\n",
              "      <th>rh (%)</th>\n",
              "      <th>VPmax (mbar)</th>\n",
              "      <th>VPact (mbar)</th>\n",
              "      <th>VPdef (mbar)</th>\n",
              "      <th>sh (g/kg)</th>\n",
              "      <th>H2OC (mmol/mol)</th>\n",
              "      <th>rho (g/m**3)</th>\n",
              "      <th>wv (m/s)</th>\n",
              "      <th>max. wv (m/s)</th>\n",
              "      <th>wd (deg)</th>\n",
              "    </tr>\n",
              "  </thead>\n",
              "  <tbody>\n",
              "    <tr>\n",
              "      <th>0</th>\n",
              "      <td>01.01.2009 00:10:00</td>\n",
              "      <td>996.52</td>\n",
              "      <td>-8.02</td>\n",
              "      <td>265.40</td>\n",
              "      <td>-8.90</td>\n",
              "      <td>93.30</td>\n",
              "      <td>3.33</td>\n",
              "      <td>3.11</td>\n",
              "      <td>0.22</td>\n",
              "      <td>1.94</td>\n",
              "      <td>3.12</td>\n",
              "      <td>1307.75</td>\n",
              "      <td>1.03</td>\n",
              "      <td>1.75</td>\n",
              "      <td>152.3</td>\n",
              "    </tr>\n",
              "    <tr>\n",
              "      <th>1</th>\n",
              "      <td>01.01.2009 00:20:00</td>\n",
              "      <td>996.57</td>\n",
              "      <td>-8.41</td>\n",
              "      <td>265.01</td>\n",
              "      <td>-9.28</td>\n",
              "      <td>93.40</td>\n",
              "      <td>3.23</td>\n",
              "      <td>3.02</td>\n",
              "      <td>0.21</td>\n",
              "      <td>1.89</td>\n",
              "      <td>3.03</td>\n",
              "      <td>1309.80</td>\n",
              "      <td>0.72</td>\n",
              "      <td>1.50</td>\n",
              "      <td>136.1</td>\n",
              "    </tr>\n",
              "    <tr>\n",
              "      <th>2</th>\n",
              "      <td>01.01.2009 00:30:00</td>\n",
              "      <td>996.53</td>\n",
              "      <td>-8.51</td>\n",
              "      <td>264.91</td>\n",
              "      <td>-9.31</td>\n",
              "      <td>93.90</td>\n",
              "      <td>3.21</td>\n",
              "      <td>3.01</td>\n",
              "      <td>0.20</td>\n",
              "      <td>1.88</td>\n",
              "      <td>3.02</td>\n",
              "      <td>1310.24</td>\n",
              "      <td>0.19</td>\n",
              "      <td>0.63</td>\n",
              "      <td>171.6</td>\n",
              "    </tr>\n",
              "    <tr>\n",
              "      <th>3</th>\n",
              "      <td>01.01.2009 00:40:00</td>\n",
              "      <td>996.51</td>\n",
              "      <td>-8.31</td>\n",
              "      <td>265.12</td>\n",
              "      <td>-9.07</td>\n",
              "      <td>94.20</td>\n",
              "      <td>3.26</td>\n",
              "      <td>3.07</td>\n",
              "      <td>0.19</td>\n",
              "      <td>1.92</td>\n",
              "      <td>3.08</td>\n",
              "      <td>1309.19</td>\n",
              "      <td>0.34</td>\n",
              "      <td>0.50</td>\n",
              "      <td>198.0</td>\n",
              "    </tr>\n",
              "    <tr>\n",
              "      <th>4</th>\n",
              "      <td>01.01.2009 00:50:00</td>\n",
              "      <td>996.51</td>\n",
              "      <td>-8.27</td>\n",
              "      <td>265.15</td>\n",
              "      <td>-9.04</td>\n",
              "      <td>94.10</td>\n",
              "      <td>3.27</td>\n",
              "      <td>3.08</td>\n",
              "      <td>0.19</td>\n",
              "      <td>1.92</td>\n",
              "      <td>3.09</td>\n",
              "      <td>1309.00</td>\n",
              "      <td>0.32</td>\n",
              "      <td>0.63</td>\n",
              "      <td>214.3</td>\n",
              "    </tr>\n",
              "    <tr>\n",
              "      <th>...</th>\n",
              "      <td>...</td>\n",
              "      <td>...</td>\n",
              "      <td>...</td>\n",
              "      <td>...</td>\n",
              "      <td>...</td>\n",
              "      <td>...</td>\n",
              "      <td>...</td>\n",
              "      <td>...</td>\n",
              "      <td>...</td>\n",
              "      <td>...</td>\n",
              "      <td>...</td>\n",
              "      <td>...</td>\n",
              "      <td>...</td>\n",
              "      <td>...</td>\n",
              "      <td>...</td>\n",
              "    </tr>\n",
              "    <tr>\n",
              "      <th>420546</th>\n",
              "      <td>31.12.2016 23:20:00</td>\n",
              "      <td>1000.07</td>\n",
              "      <td>-4.05</td>\n",
              "      <td>269.10</td>\n",
              "      <td>-8.13</td>\n",
              "      <td>73.10</td>\n",
              "      <td>4.52</td>\n",
              "      <td>3.30</td>\n",
              "      <td>1.22</td>\n",
              "      <td>2.06</td>\n",
              "      <td>3.30</td>\n",
              "      <td>1292.98</td>\n",
              "      <td>0.67</td>\n",
              "      <td>1.52</td>\n",
              "      <td>240.0</td>\n",
              "    </tr>\n",
              "    <tr>\n",
              "      <th>420547</th>\n",
              "      <td>31.12.2016 23:30:00</td>\n",
              "      <td>999.93</td>\n",
              "      <td>-3.35</td>\n",
              "      <td>269.81</td>\n",
              "      <td>-8.06</td>\n",
              "      <td>69.71</td>\n",
              "      <td>4.77</td>\n",
              "      <td>3.32</td>\n",
              "      <td>1.44</td>\n",
              "      <td>2.07</td>\n",
              "      <td>3.32</td>\n",
              "      <td>1289.44</td>\n",
              "      <td>1.14</td>\n",
              "      <td>1.92</td>\n",
              "      <td>234.3</td>\n",
              "    </tr>\n",
              "    <tr>\n",
              "      <th>420548</th>\n",
              "      <td>31.12.2016 23:40:00</td>\n",
              "      <td>999.82</td>\n",
              "      <td>-3.16</td>\n",
              "      <td>270.01</td>\n",
              "      <td>-8.21</td>\n",
              "      <td>67.91</td>\n",
              "      <td>4.84</td>\n",
              "      <td>3.28</td>\n",
              "      <td>1.55</td>\n",
              "      <td>2.05</td>\n",
              "      <td>3.28</td>\n",
              "      <td>1288.39</td>\n",
              "      <td>1.08</td>\n",
              "      <td>2.00</td>\n",
              "      <td>215.2</td>\n",
              "    </tr>\n",
              "    <tr>\n",
              "      <th>420549</th>\n",
              "      <td>31.12.2016 23:50:00</td>\n",
              "      <td>999.81</td>\n",
              "      <td>-4.23</td>\n",
              "      <td>268.94</td>\n",
              "      <td>-8.53</td>\n",
              "      <td>71.80</td>\n",
              "      <td>4.46</td>\n",
              "      <td>3.20</td>\n",
              "      <td>1.26</td>\n",
              "      <td>1.99</td>\n",
              "      <td>3.20</td>\n",
              "      <td>1293.56</td>\n",
              "      <td>1.49</td>\n",
              "      <td>2.16</td>\n",
              "      <td>225.8</td>\n",
              "    </tr>\n",
              "    <tr>\n",
              "      <th>420550</th>\n",
              "      <td>01.01.2017 00:00:00</td>\n",
              "      <td>999.82</td>\n",
              "      <td>-4.82</td>\n",
              "      <td>268.36</td>\n",
              "      <td>-8.42</td>\n",
              "      <td>75.70</td>\n",
              "      <td>4.27</td>\n",
              "      <td>3.23</td>\n",
              "      <td>1.04</td>\n",
              "      <td>2.01</td>\n",
              "      <td>3.23</td>\n",
              "      <td>1296.38</td>\n",
              "      <td>1.23</td>\n",
              "      <td>1.96</td>\n",
              "      <td>184.9</td>\n",
              "    </tr>\n",
              "  </tbody>\n",
              "</table>\n",
              "<p>420551 rows × 15 columns</p>\n",
              "</div>\n",
              "    <div class=\"colab-df-buttons\">\n",
              "\n",
              "  <div class=\"colab-df-container\">\n",
              "    <button class=\"colab-df-convert\" onclick=\"convertToInteractive('df-3e30d533-1e75-4947-85c7-96bb8dd86d4b')\"\n",
              "            title=\"Convert this dataframe to an interactive table.\"\n",
              "            style=\"display:none;\">\n",
              "\n",
              "  <svg xmlns=\"http://www.w3.org/2000/svg\" height=\"24px\" viewBox=\"0 -960 960 960\">\n",
              "    <path d=\"M120-120v-720h720v720H120Zm60-500h600v-160H180v160Zm220 220h160v-160H400v160Zm0 220h160v-160H400v160ZM180-400h160v-160H180v160Zm440 0h160v-160H620v160ZM180-180h160v-160H180v160Zm440 0h160v-160H620v160Z\"/>\n",
              "  </svg>\n",
              "    </button>\n",
              "\n",
              "  <style>\n",
              "    .colab-df-container {\n",
              "      display:flex;\n",
              "      gap: 12px;\n",
              "    }\n",
              "\n",
              "    .colab-df-convert {\n",
              "      background-color: #E8F0FE;\n",
              "      border: none;\n",
              "      border-radius: 50%;\n",
              "      cursor: pointer;\n",
              "      display: none;\n",
              "      fill: #1967D2;\n",
              "      height: 32px;\n",
              "      padding: 0 0 0 0;\n",
              "      width: 32px;\n",
              "    }\n",
              "\n",
              "    .colab-df-convert:hover {\n",
              "      background-color: #E2EBFA;\n",
              "      box-shadow: 0px 1px 2px rgba(60, 64, 67, 0.3), 0px 1px 3px 1px rgba(60, 64, 67, 0.15);\n",
              "      fill: #174EA6;\n",
              "    }\n",
              "\n",
              "    .colab-df-buttons div {\n",
              "      margin-bottom: 4px;\n",
              "    }\n",
              "\n",
              "    [theme=dark] .colab-df-convert {\n",
              "      background-color: #3B4455;\n",
              "      fill: #D2E3FC;\n",
              "    }\n",
              "\n",
              "    [theme=dark] .colab-df-convert:hover {\n",
              "      background-color: #434B5C;\n",
              "      box-shadow: 0px 1px 3px 1px rgba(0, 0, 0, 0.15);\n",
              "      filter: drop-shadow(0px 1px 2px rgba(0, 0, 0, 0.3));\n",
              "      fill: #FFFFFF;\n",
              "    }\n",
              "  </style>\n",
              "\n",
              "    <script>\n",
              "      const buttonEl =\n",
              "        document.querySelector('#df-3e30d533-1e75-4947-85c7-96bb8dd86d4b button.colab-df-convert');\n",
              "      buttonEl.style.display =\n",
              "        google.colab.kernel.accessAllowed ? 'block' : 'none';\n",
              "\n",
              "      async function convertToInteractive(key) {\n",
              "        const element = document.querySelector('#df-3e30d533-1e75-4947-85c7-96bb8dd86d4b');\n",
              "        const dataTable =\n",
              "          await google.colab.kernel.invokeFunction('convertToInteractive',\n",
              "                                                    [key], {});\n",
              "        if (!dataTable) return;\n",
              "\n",
              "        const docLinkHtml = 'Like what you see? Visit the ' +\n",
              "          '<a target=\"_blank\" href=https://colab.research.google.com/notebooks/data_table.ipynb>data table notebook</a>'\n",
              "          + ' to learn more about interactive tables.';\n",
              "        element.innerHTML = '';\n",
              "        dataTable['output_type'] = 'display_data';\n",
              "        await google.colab.output.renderOutput(dataTable, element);\n",
              "        const docLink = document.createElement('div');\n",
              "        docLink.innerHTML = docLinkHtml;\n",
              "        element.appendChild(docLink);\n",
              "      }\n",
              "    </script>\n",
              "  </div>\n",
              "\n",
              "\n",
              "<div id=\"df-173e7d72-dc13-45fb-9f64-1d7c92f1308d\">\n",
              "  <button class=\"colab-df-quickchart\" onclick=\"quickchart('df-173e7d72-dc13-45fb-9f64-1d7c92f1308d')\"\n",
              "            title=\"Suggest charts.\"\n",
              "            style=\"display:none;\">\n",
              "\n",
              "<svg xmlns=\"http://www.w3.org/2000/svg\" height=\"24px\"viewBox=\"0 0 24 24\"\n",
              "     width=\"24px\">\n",
              "    <g>\n",
              "        <path d=\"M19 3H5c-1.1 0-2 .9-2 2v14c0 1.1.9 2 2 2h14c1.1 0 2-.9 2-2V5c0-1.1-.9-2-2-2zM9 17H7v-7h2v7zm4 0h-2V7h2v10zm4 0h-2v-4h2v4z\"/>\n",
              "    </g>\n",
              "</svg>\n",
              "  </button>\n",
              "\n",
              "<style>\n",
              "  .colab-df-quickchart {\n",
              "    background-color: #E8F0FE;\n",
              "    border: none;\n",
              "    border-radius: 50%;\n",
              "    cursor: pointer;\n",
              "    display: none;\n",
              "    fill: #1967D2;\n",
              "    height: 32px;\n",
              "    padding: 0 0 0 0;\n",
              "    width: 32px;\n",
              "  }\n",
              "\n",
              "  .colab-df-quickchart:hover {\n",
              "    background-color: #E2EBFA;\n",
              "    box-shadow: 0px 1px 2px rgba(60, 64, 67, 0.3), 0px 1px 3px 1px rgba(60, 64, 67, 0.15);\n",
              "    fill: #174EA6;\n",
              "  }\n",
              "\n",
              "  [theme=dark] .colab-df-quickchart {\n",
              "    background-color: #3B4455;\n",
              "    fill: #D2E3FC;\n",
              "  }\n",
              "\n",
              "  [theme=dark] .colab-df-quickchart:hover {\n",
              "    background-color: #434B5C;\n",
              "    box-shadow: 0px 1px 3px 1px rgba(0, 0, 0, 0.15);\n",
              "    filter: drop-shadow(0px 1px 2px rgba(0, 0, 0, 0.3));\n",
              "    fill: #FFFFFF;\n",
              "  }\n",
              "</style>\n",
              "\n",
              "  <script>\n",
              "    async function quickchart(key) {\n",
              "      const charts = await google.colab.kernel.invokeFunction(\n",
              "          'suggestCharts', [key], {});\n",
              "    }\n",
              "    (() => {\n",
              "      let quickchartButtonEl =\n",
              "        document.querySelector('#df-173e7d72-dc13-45fb-9f64-1d7c92f1308d button');\n",
              "      quickchartButtonEl.style.display =\n",
              "        google.colab.kernel.accessAllowed ? 'block' : 'none';\n",
              "    })();\n",
              "  </script>\n",
              "</div>\n",
              "    </div>\n",
              "  </div>\n"
            ]
          },
          "metadata": {},
          "execution_count": 3
        }
      ]
    },
    {
      "cell_type": "code",
      "metadata": {
        "colab": {
          "base_uri": "https://localhost:8080/",
          "height": 424
        },
        "id": "FDJTiftYSPGj",
        "outputId": "0fff5d67-630d-4a64-d821-c5b79caa9238"
      },
      "source": [
        "df = df[5::6]\n",
        "df"
      ],
      "execution_count": 4,
      "outputs": [
        {
          "output_type": "execute_result",
          "data": {
            "text/plain": [
              "                  Date Time  p (mbar)  T (degC)  Tpot (K)  Tdew (degC)  \\\n",
              "5       01.01.2009 01:00:00    996.50     -8.05    265.38        -8.78   \n",
              "11      01.01.2009 02:00:00    996.62     -8.88    264.54        -9.77   \n",
              "17      01.01.2009 03:00:00    996.84     -8.81    264.59        -9.66   \n",
              "23      01.01.2009 04:00:00    996.99     -9.05    264.34       -10.02   \n",
              "29      01.01.2009 05:00:00    997.46     -9.63    263.72       -10.65   \n",
              "...                     ...       ...       ...       ...          ...   \n",
              "420521  31.12.2016 19:10:00   1002.18     -0.98    272.01        -5.36   \n",
              "420527  31.12.2016 20:10:00   1001.40     -1.40    271.66        -6.84   \n",
              "420533  31.12.2016 21:10:00   1001.19     -2.75    270.32        -6.90   \n",
              "420539  31.12.2016 22:10:00   1000.65     -2.89    270.22        -7.15   \n",
              "420545  31.12.2016 23:10:00   1000.11     -3.93    269.23        -8.09   \n",
              "\n",
              "        rh (%)  VPmax (mbar)  VPact (mbar)  VPdef (mbar)  sh (g/kg)  \\\n",
              "5        94.40          3.33          3.14          0.19       1.96   \n",
              "11       93.20          3.12          2.90          0.21       1.81   \n",
              "17       93.50          3.13          2.93          0.20       1.83   \n",
              "23       92.60          3.07          2.85          0.23       1.78   \n",
              "29       92.20          2.94          2.71          0.23       1.69   \n",
              "...        ...           ...           ...           ...        ...   \n",
              "420521   72.00          5.69          4.09          1.59       2.54   \n",
              "420527   66.29          5.51          3.65          1.86       2.27   \n",
              "420533   72.90          4.99          3.64          1.35       2.26   \n",
              "420539   72.30          4.93          3.57          1.37       2.22   \n",
              "420545   72.60          4.56          3.31          1.25       2.06   \n",
              "\n",
              "        H2OC (mmol/mol)  rho (g/m**3)  wv (m/s)  max. wv (m/s)  wd (deg)  \n",
              "5                  3.15       1307.86      0.21           0.63     192.7  \n",
              "11                 2.91       1312.25      0.25           0.63     190.3  \n",
              "17                 2.94       1312.18      0.18           0.63     167.2  \n",
              "23                 2.85       1313.61      0.10           0.38     240.0  \n",
              "29                 2.71       1317.19      0.40           0.88     157.0  \n",
              "...                 ...           ...       ...            ...       ...  \n",
              "420521             4.08       1280.70      0.87           1.36     190.6  \n",
              "420527             3.65       1281.87      1.02           1.92     225.4  \n",
              "420533             3.63       1288.02      0.71           1.56     158.7  \n",
              "420539             3.57       1288.03      0.35           0.68     216.7  \n",
              "420545             3.31       1292.41      0.56           1.00     202.6  \n",
              "\n",
              "[70091 rows x 15 columns]"
            ],
            "text/html": [
              "\n",
              "  <div id=\"df-fc75a8be-39cd-4fba-8540-b97a0dfcbf19\" class=\"colab-df-container\">\n",
              "    <div>\n",
              "<style scoped>\n",
              "    .dataframe tbody tr th:only-of-type {\n",
              "        vertical-align: middle;\n",
              "    }\n",
              "\n",
              "    .dataframe tbody tr th {\n",
              "        vertical-align: top;\n",
              "    }\n",
              "\n",
              "    .dataframe thead th {\n",
              "        text-align: right;\n",
              "    }\n",
              "</style>\n",
              "<table border=\"1\" class=\"dataframe\">\n",
              "  <thead>\n",
              "    <tr style=\"text-align: right;\">\n",
              "      <th></th>\n",
              "      <th>Date Time</th>\n",
              "      <th>p (mbar)</th>\n",
              "      <th>T (degC)</th>\n",
              "      <th>Tpot (K)</th>\n",
              "      <th>Tdew (degC)</th>\n",
              "      <th>rh (%)</th>\n",
              "      <th>VPmax (mbar)</th>\n",
              "      <th>VPact (mbar)</th>\n",
              "      <th>VPdef (mbar)</th>\n",
              "      <th>sh (g/kg)</th>\n",
              "      <th>H2OC (mmol/mol)</th>\n",
              "      <th>rho (g/m**3)</th>\n",
              "      <th>wv (m/s)</th>\n",
              "      <th>max. wv (m/s)</th>\n",
              "      <th>wd (deg)</th>\n",
              "    </tr>\n",
              "  </thead>\n",
              "  <tbody>\n",
              "    <tr>\n",
              "      <th>5</th>\n",
              "      <td>01.01.2009 01:00:00</td>\n",
              "      <td>996.50</td>\n",
              "      <td>-8.05</td>\n",
              "      <td>265.38</td>\n",
              "      <td>-8.78</td>\n",
              "      <td>94.40</td>\n",
              "      <td>3.33</td>\n",
              "      <td>3.14</td>\n",
              "      <td>0.19</td>\n",
              "      <td>1.96</td>\n",
              "      <td>3.15</td>\n",
              "      <td>1307.86</td>\n",
              "      <td>0.21</td>\n",
              "      <td>0.63</td>\n",
              "      <td>192.7</td>\n",
              "    </tr>\n",
              "    <tr>\n",
              "      <th>11</th>\n",
              "      <td>01.01.2009 02:00:00</td>\n",
              "      <td>996.62</td>\n",
              "      <td>-8.88</td>\n",
              "      <td>264.54</td>\n",
              "      <td>-9.77</td>\n",
              "      <td>93.20</td>\n",
              "      <td>3.12</td>\n",
              "      <td>2.90</td>\n",
              "      <td>0.21</td>\n",
              "      <td>1.81</td>\n",
              "      <td>2.91</td>\n",
              "      <td>1312.25</td>\n",
              "      <td>0.25</td>\n",
              "      <td>0.63</td>\n",
              "      <td>190.3</td>\n",
              "    </tr>\n",
              "    <tr>\n",
              "      <th>17</th>\n",
              "      <td>01.01.2009 03:00:00</td>\n",
              "      <td>996.84</td>\n",
              "      <td>-8.81</td>\n",
              "      <td>264.59</td>\n",
              "      <td>-9.66</td>\n",
              "      <td>93.50</td>\n",
              "      <td>3.13</td>\n",
              "      <td>2.93</td>\n",
              "      <td>0.20</td>\n",
              "      <td>1.83</td>\n",
              "      <td>2.94</td>\n",
              "      <td>1312.18</td>\n",
              "      <td>0.18</td>\n",
              "      <td>0.63</td>\n",
              "      <td>167.2</td>\n",
              "    </tr>\n",
              "    <tr>\n",
              "      <th>23</th>\n",
              "      <td>01.01.2009 04:00:00</td>\n",
              "      <td>996.99</td>\n",
              "      <td>-9.05</td>\n",
              "      <td>264.34</td>\n",
              "      <td>-10.02</td>\n",
              "      <td>92.60</td>\n",
              "      <td>3.07</td>\n",
              "      <td>2.85</td>\n",
              "      <td>0.23</td>\n",
              "      <td>1.78</td>\n",
              "      <td>2.85</td>\n",
              "      <td>1313.61</td>\n",
              "      <td>0.10</td>\n",
              "      <td>0.38</td>\n",
              "      <td>240.0</td>\n",
              "    </tr>\n",
              "    <tr>\n",
              "      <th>29</th>\n",
              "      <td>01.01.2009 05:00:00</td>\n",
              "      <td>997.46</td>\n",
              "      <td>-9.63</td>\n",
              "      <td>263.72</td>\n",
              "      <td>-10.65</td>\n",
              "      <td>92.20</td>\n",
              "      <td>2.94</td>\n",
              "      <td>2.71</td>\n",
              "      <td>0.23</td>\n",
              "      <td>1.69</td>\n",
              "      <td>2.71</td>\n",
              "      <td>1317.19</td>\n",
              "      <td>0.40</td>\n",
              "      <td>0.88</td>\n",
              "      <td>157.0</td>\n",
              "    </tr>\n",
              "    <tr>\n",
              "      <th>...</th>\n",
              "      <td>...</td>\n",
              "      <td>...</td>\n",
              "      <td>...</td>\n",
              "      <td>...</td>\n",
              "      <td>...</td>\n",
              "      <td>...</td>\n",
              "      <td>...</td>\n",
              "      <td>...</td>\n",
              "      <td>...</td>\n",
              "      <td>...</td>\n",
              "      <td>...</td>\n",
              "      <td>...</td>\n",
              "      <td>...</td>\n",
              "      <td>...</td>\n",
              "      <td>...</td>\n",
              "    </tr>\n",
              "    <tr>\n",
              "      <th>420521</th>\n",
              "      <td>31.12.2016 19:10:00</td>\n",
              "      <td>1002.18</td>\n",
              "      <td>-0.98</td>\n",
              "      <td>272.01</td>\n",
              "      <td>-5.36</td>\n",
              "      <td>72.00</td>\n",
              "      <td>5.69</td>\n",
              "      <td>4.09</td>\n",
              "      <td>1.59</td>\n",
              "      <td>2.54</td>\n",
              "      <td>4.08</td>\n",
              "      <td>1280.70</td>\n",
              "      <td>0.87</td>\n",
              "      <td>1.36</td>\n",
              "      <td>190.6</td>\n",
              "    </tr>\n",
              "    <tr>\n",
              "      <th>420527</th>\n",
              "      <td>31.12.2016 20:10:00</td>\n",
              "      <td>1001.40</td>\n",
              "      <td>-1.40</td>\n",
              "      <td>271.66</td>\n",
              "      <td>-6.84</td>\n",
              "      <td>66.29</td>\n",
              "      <td>5.51</td>\n",
              "      <td>3.65</td>\n",
              "      <td>1.86</td>\n",
              "      <td>2.27</td>\n",
              "      <td>3.65</td>\n",
              "      <td>1281.87</td>\n",
              "      <td>1.02</td>\n",
              "      <td>1.92</td>\n",
              "      <td>225.4</td>\n",
              "    </tr>\n",
              "    <tr>\n",
              "      <th>420533</th>\n",
              "      <td>31.12.2016 21:10:00</td>\n",
              "      <td>1001.19</td>\n",
              "      <td>-2.75</td>\n",
              "      <td>270.32</td>\n",
              "      <td>-6.90</td>\n",
              "      <td>72.90</td>\n",
              "      <td>4.99</td>\n",
              "      <td>3.64</td>\n",
              "      <td>1.35</td>\n",
              "      <td>2.26</td>\n",
              "      <td>3.63</td>\n",
              "      <td>1288.02</td>\n",
              "      <td>0.71</td>\n",
              "      <td>1.56</td>\n",
              "      <td>158.7</td>\n",
              "    </tr>\n",
              "    <tr>\n",
              "      <th>420539</th>\n",
              "      <td>31.12.2016 22:10:00</td>\n",
              "      <td>1000.65</td>\n",
              "      <td>-2.89</td>\n",
              "      <td>270.22</td>\n",
              "      <td>-7.15</td>\n",
              "      <td>72.30</td>\n",
              "      <td>4.93</td>\n",
              "      <td>3.57</td>\n",
              "      <td>1.37</td>\n",
              "      <td>2.22</td>\n",
              "      <td>3.57</td>\n",
              "      <td>1288.03</td>\n",
              "      <td>0.35</td>\n",
              "      <td>0.68</td>\n",
              "      <td>216.7</td>\n",
              "    </tr>\n",
              "    <tr>\n",
              "      <th>420545</th>\n",
              "      <td>31.12.2016 23:10:00</td>\n",
              "      <td>1000.11</td>\n",
              "      <td>-3.93</td>\n",
              "      <td>269.23</td>\n",
              "      <td>-8.09</td>\n",
              "      <td>72.60</td>\n",
              "      <td>4.56</td>\n",
              "      <td>3.31</td>\n",
              "      <td>1.25</td>\n",
              "      <td>2.06</td>\n",
              "      <td>3.31</td>\n",
              "      <td>1292.41</td>\n",
              "      <td>0.56</td>\n",
              "      <td>1.00</td>\n",
              "      <td>202.6</td>\n",
              "    </tr>\n",
              "  </tbody>\n",
              "</table>\n",
              "<p>70091 rows × 15 columns</p>\n",
              "</div>\n",
              "    <div class=\"colab-df-buttons\">\n",
              "\n",
              "  <div class=\"colab-df-container\">\n",
              "    <button class=\"colab-df-convert\" onclick=\"convertToInteractive('df-fc75a8be-39cd-4fba-8540-b97a0dfcbf19')\"\n",
              "            title=\"Convert this dataframe to an interactive table.\"\n",
              "            style=\"display:none;\">\n",
              "\n",
              "  <svg xmlns=\"http://www.w3.org/2000/svg\" height=\"24px\" viewBox=\"0 -960 960 960\">\n",
              "    <path d=\"M120-120v-720h720v720H120Zm60-500h600v-160H180v160Zm220 220h160v-160H400v160Zm0 220h160v-160H400v160ZM180-400h160v-160H180v160Zm440 0h160v-160H620v160ZM180-180h160v-160H180v160Zm440 0h160v-160H620v160Z\"/>\n",
              "  </svg>\n",
              "    </button>\n",
              "\n",
              "  <style>\n",
              "    .colab-df-container {\n",
              "      display:flex;\n",
              "      gap: 12px;\n",
              "    }\n",
              "\n",
              "    .colab-df-convert {\n",
              "      background-color: #E8F0FE;\n",
              "      border: none;\n",
              "      border-radius: 50%;\n",
              "      cursor: pointer;\n",
              "      display: none;\n",
              "      fill: #1967D2;\n",
              "      height: 32px;\n",
              "      padding: 0 0 0 0;\n",
              "      width: 32px;\n",
              "    }\n",
              "\n",
              "    .colab-df-convert:hover {\n",
              "      background-color: #E2EBFA;\n",
              "      box-shadow: 0px 1px 2px rgba(60, 64, 67, 0.3), 0px 1px 3px 1px rgba(60, 64, 67, 0.15);\n",
              "      fill: #174EA6;\n",
              "    }\n",
              "\n",
              "    .colab-df-buttons div {\n",
              "      margin-bottom: 4px;\n",
              "    }\n",
              "\n",
              "    [theme=dark] .colab-df-convert {\n",
              "      background-color: #3B4455;\n",
              "      fill: #D2E3FC;\n",
              "    }\n",
              "\n",
              "    [theme=dark] .colab-df-convert:hover {\n",
              "      background-color: #434B5C;\n",
              "      box-shadow: 0px 1px 3px 1px rgba(0, 0, 0, 0.15);\n",
              "      filter: drop-shadow(0px 1px 2px rgba(0, 0, 0, 0.3));\n",
              "      fill: #FFFFFF;\n",
              "    }\n",
              "  </style>\n",
              "\n",
              "    <script>\n",
              "      const buttonEl =\n",
              "        document.querySelector('#df-fc75a8be-39cd-4fba-8540-b97a0dfcbf19 button.colab-df-convert');\n",
              "      buttonEl.style.display =\n",
              "        google.colab.kernel.accessAllowed ? 'block' : 'none';\n",
              "\n",
              "      async function convertToInteractive(key) {\n",
              "        const element = document.querySelector('#df-fc75a8be-39cd-4fba-8540-b97a0dfcbf19');\n",
              "        const dataTable =\n",
              "          await google.colab.kernel.invokeFunction('convertToInteractive',\n",
              "                                                    [key], {});\n",
              "        if (!dataTable) return;\n",
              "\n",
              "        const docLinkHtml = 'Like what you see? Visit the ' +\n",
              "          '<a target=\"_blank\" href=https://colab.research.google.com/notebooks/data_table.ipynb>data table notebook</a>'\n",
              "          + ' to learn more about interactive tables.';\n",
              "        element.innerHTML = '';\n",
              "        dataTable['output_type'] = 'display_data';\n",
              "        await google.colab.output.renderOutput(dataTable, element);\n",
              "        const docLink = document.createElement('div');\n",
              "        docLink.innerHTML = docLinkHtml;\n",
              "        element.appendChild(docLink);\n",
              "      }\n",
              "    </script>\n",
              "  </div>\n",
              "\n",
              "\n",
              "<div id=\"df-f717f3af-103d-44c8-8ec2-a81b401b90ef\">\n",
              "  <button class=\"colab-df-quickchart\" onclick=\"quickchart('df-f717f3af-103d-44c8-8ec2-a81b401b90ef')\"\n",
              "            title=\"Suggest charts.\"\n",
              "            style=\"display:none;\">\n",
              "\n",
              "<svg xmlns=\"http://www.w3.org/2000/svg\" height=\"24px\"viewBox=\"0 0 24 24\"\n",
              "     width=\"24px\">\n",
              "    <g>\n",
              "        <path d=\"M19 3H5c-1.1 0-2 .9-2 2v14c0 1.1.9 2 2 2h14c1.1 0 2-.9 2-2V5c0-1.1-.9-2-2-2zM9 17H7v-7h2v7zm4 0h-2V7h2v10zm4 0h-2v-4h2v4z\"/>\n",
              "    </g>\n",
              "</svg>\n",
              "  </button>\n",
              "\n",
              "<style>\n",
              "  .colab-df-quickchart {\n",
              "    background-color: #E8F0FE;\n",
              "    border: none;\n",
              "    border-radius: 50%;\n",
              "    cursor: pointer;\n",
              "    display: none;\n",
              "    fill: #1967D2;\n",
              "    height: 32px;\n",
              "    padding: 0 0 0 0;\n",
              "    width: 32px;\n",
              "  }\n",
              "\n",
              "  .colab-df-quickchart:hover {\n",
              "    background-color: #E2EBFA;\n",
              "    box-shadow: 0px 1px 2px rgba(60, 64, 67, 0.3), 0px 1px 3px 1px rgba(60, 64, 67, 0.15);\n",
              "    fill: #174EA6;\n",
              "  }\n",
              "\n",
              "  [theme=dark] .colab-df-quickchart {\n",
              "    background-color: #3B4455;\n",
              "    fill: #D2E3FC;\n",
              "  }\n",
              "\n",
              "  [theme=dark] .colab-df-quickchart:hover {\n",
              "    background-color: #434B5C;\n",
              "    box-shadow: 0px 1px 3px 1px rgba(0, 0, 0, 0.15);\n",
              "    filter: drop-shadow(0px 1px 2px rgba(0, 0, 0, 0.3));\n",
              "    fill: #FFFFFF;\n",
              "  }\n",
              "</style>\n",
              "\n",
              "  <script>\n",
              "    async function quickchart(key) {\n",
              "      const charts = await google.colab.kernel.invokeFunction(\n",
              "          'suggestCharts', [key], {});\n",
              "    }\n",
              "    (() => {\n",
              "      let quickchartButtonEl =\n",
              "        document.querySelector('#df-f717f3af-103d-44c8-8ec2-a81b401b90ef button');\n",
              "      quickchartButtonEl.style.display =\n",
              "        google.colab.kernel.accessAllowed ? 'block' : 'none';\n",
              "    })();\n",
              "  </script>\n",
              "</div>\n",
              "    </div>\n",
              "  </div>\n"
            ]
          },
          "metadata": {},
          "execution_count": 4
        }
      ]
    },
    {
      "cell_type": "code",
      "metadata": {
        "colab": {
          "base_uri": "https://localhost:8080/",
          "height": 896
        },
        "id": "C1MZOKB3Sg0X",
        "outputId": "1a690b40-7296-438d-f09e-798f1386f89a"
      },
      "source": [
        "df.index = pd.to_datetime(df['Date Time'], format='%d.%m.%Y %H:%M:%S')\n",
        "df[:26]"
      ],
      "execution_count": 5,
      "outputs": [
        {
          "output_type": "execute_result",
          "data": {
            "text/plain": [
              "                               Date Time  p (mbar)  T (degC)  Tpot (K)  \\\n",
              "Date Time                                                                \n",
              "2009-01-01 01:00:00  01.01.2009 01:00:00    996.50     -8.05    265.38   \n",
              "2009-01-01 02:00:00  01.01.2009 02:00:00    996.62     -8.88    264.54   \n",
              "2009-01-01 03:00:00  01.01.2009 03:00:00    996.84     -8.81    264.59   \n",
              "2009-01-01 04:00:00  01.01.2009 04:00:00    996.99     -9.05    264.34   \n",
              "2009-01-01 05:00:00  01.01.2009 05:00:00    997.46     -9.63    263.72   \n",
              "2009-01-01 06:00:00  01.01.2009 06:00:00    997.71     -9.67    263.66   \n",
              "2009-01-01 07:00:00  01.01.2009 07:00:00    998.33     -9.17    264.12   \n",
              "2009-01-01 08:00:00  01.01.2009 08:00:00    999.17     -8.10    265.12   \n",
              "2009-01-01 09:00:00  01.01.2009 09:00:00    999.69     -7.66    265.52   \n",
              "2009-01-01 10:00:00  01.01.2009 10:00:00   1000.27     -7.04    266.10   \n",
              "2009-01-01 11:00:00  01.01.2009 11:00:00   1000.87     -7.41    265.68   \n",
              "2009-01-01 12:00:00  01.01.2009 12:00:00   1000.30     -6.87    266.27   \n",
              "2009-01-01 13:00:00  01.01.2009 13:00:00   1000.03     -5.89    267.27   \n",
              "2009-01-01 14:00:00  01.01.2009 14:00:00    999.81     -5.94    267.24   \n",
              "2009-01-01 15:00:00  01.01.2009 15:00:00    999.88     -5.69    267.48   \n",
              "2009-01-01 16:00:00  01.01.2009 16:00:00    999.94     -5.40    267.76   \n",
              "2009-01-01 17:00:00  01.01.2009 17:00:00   1000.17     -5.37    267.78   \n",
              "2009-01-01 18:00:00  01.01.2009 18:00:00   1000.16     -5.25    267.90   \n",
              "2009-01-01 19:00:00  01.01.2009 19:00:00   1000.22     -5.11    268.03   \n",
              "2009-01-01 20:00:00  01.01.2009 20:00:00   1000.22     -4.90    268.24   \n",
              "2009-01-01 21:00:00  01.01.2009 21:00:00   1000.19     -4.80    268.35   \n",
              "2009-01-01 22:00:00  01.01.2009 22:00:00   1000.00     -4.50    268.66   \n",
              "2009-01-01 23:00:00  01.01.2009 23:00:00    999.77     -4.47    268.71   \n",
              "2009-01-02 00:00:00  02.01.2009 00:00:00    999.59     -4.54    268.65   \n",
              "2009-01-02 01:00:00  02.01.2009 01:00:00    999.34     -4.44    268.77   \n",
              "2009-01-02 02:00:00  02.01.2009 02:00:00    998.93     -4.29    268.95   \n",
              "\n",
              "                     Tdew (degC)  rh (%)  VPmax (mbar)  VPact (mbar)  \\\n",
              "Date Time                                                              \n",
              "2009-01-01 01:00:00        -8.78    94.4          3.33          3.14   \n",
              "2009-01-01 02:00:00        -9.77    93.2          3.12          2.90   \n",
              "2009-01-01 03:00:00        -9.66    93.5          3.13          2.93   \n",
              "2009-01-01 04:00:00       -10.02    92.6          3.07          2.85   \n",
              "2009-01-01 05:00:00       -10.65    92.2          2.94          2.71   \n",
              "2009-01-01 06:00:00       -10.62    92.7          2.93          2.71   \n",
              "2009-01-01 07:00:00       -10.10    92.9          3.04          2.83   \n",
              "2009-01-01 08:00:00        -9.05    92.8          3.31          3.07   \n",
              "2009-01-01 09:00:00        -8.84    91.2          3.43          3.13   \n",
              "2009-01-01 10:00:00        -8.17    91.6          3.60          3.30   \n",
              "2009-01-01 11:00:00        -8.66    90.7          3.50          3.17   \n",
              "2009-01-01 12:00:00        -8.28    89.6          3.64          3.27   \n",
              "2009-01-01 13:00:00        -7.46    88.6          3.93          3.48   \n",
              "2009-01-01 14:00:00        -7.43    89.1          3.92          3.49   \n",
              "2009-01-01 15:00:00        -7.00    90.4          3.99          3.61   \n",
              "2009-01-01 16:00:00        -6.86    89.4          4.08          3.65   \n",
              "2009-01-01 17:00:00        -6.82    89.4          4.09          3.66   \n",
              "2009-01-01 18:00:00        -6.75    89.1          4.13          3.68   \n",
              "2009-01-01 19:00:00        -6.57    89.4          4.17          3.73   \n",
              "2009-01-01 20:00:00        -6.38    89.3          4.24          3.79   \n",
              "2009-01-01 21:00:00        -6.14    90.2          4.27          3.85   \n",
              "2009-01-01 22:00:00        -5.82    90.4          4.37          3.95   \n",
              "2009-01-01 23:00:00        -5.84    90.1          4.38          3.95   \n",
              "2009-01-02 00:00:00        -5.46    93.2          4.36          4.06   \n",
              "2009-01-02 01:00:00        -5.19    94.4          4.39          4.15   \n",
              "2009-01-02 02:00:00        -5.04    94.5          4.44          4.20   \n",
              "\n",
              "                     VPdef (mbar)  sh (g/kg)  H2OC (mmol/mol)  rho (g/m**3)  \\\n",
              "Date Time                                                                     \n",
              "2009-01-01 01:00:00          0.19       1.96             3.15       1307.86   \n",
              "2009-01-01 02:00:00          0.21       1.81             2.91       1312.25   \n",
              "2009-01-01 03:00:00          0.20       1.83             2.94       1312.18   \n",
              "2009-01-01 04:00:00          0.23       1.78             2.85       1313.61   \n",
              "2009-01-01 05:00:00          0.23       1.69             2.71       1317.19   \n",
              "2009-01-01 06:00:00          0.21       1.69             2.72       1317.71   \n",
              "2009-01-01 07:00:00          0.22       1.76             2.83       1315.98   \n",
              "2009-01-01 08:00:00          0.24       1.92             3.08       1311.65   \n",
              "2009-01-01 09:00:00          0.30       1.95             3.13       1310.14   \n",
              "2009-01-01 10:00:00          0.30       2.05             3.29       1307.76   \n",
              "2009-01-01 11:00:00          0.33       1.97             3.17       1310.43   \n",
              "2009-01-01 12:00:00          0.38       2.03             3.26       1306.98   \n",
              "2009-01-01 13:00:00          0.45       2.17             3.48       1301.73   \n",
              "2009-01-01 14:00:00          0.43       2.17             3.49       1301.67   \n",
              "2009-01-01 15:00:00          0.38       2.25             3.61       1300.51   \n",
              "2009-01-01 16:00:00          0.43       2.27             3.65       1299.17   \n",
              "2009-01-01 17:00:00          0.43       2.28             3.66       1299.27   \n",
              "2009-01-01 18:00:00          0.45       2.29             3.68       1298.68   \n",
              "2009-01-01 19:00:00          0.44       2.32             3.73       1298.07   \n",
              "2009-01-01 20:00:00          0.45       2.36             3.78       1297.05   \n",
              "2009-01-01 21:00:00          0.42       2.40             3.85       1296.45   \n",
              "2009-01-01 22:00:00          0.42       2.46             3.95       1294.72   \n",
              "2009-01-01 23:00:00          0.43       2.46             3.95       1294.29   \n",
              "2009-01-02 00:00:00          0.30       2.53             4.06       1294.33   \n",
              "2009-01-02 01:00:00          0.25       2.58             4.15       1293.47   \n",
              "2009-01-02 02:00:00          0.24       2.62             4.20       1292.22   \n",
              "\n",
              "                     wv (m/s)  max. wv (m/s)  wd (deg)  \n",
              "Date Time                                               \n",
              "2009-01-01 01:00:00      0.21           0.63     192.7  \n",
              "2009-01-01 02:00:00      0.25           0.63     190.3  \n",
              "2009-01-01 03:00:00      0.18           0.63     167.2  \n",
              "2009-01-01 04:00:00      0.10           0.38     240.0  \n",
              "2009-01-01 05:00:00      0.40           0.88     157.0  \n",
              "2009-01-01 06:00:00      0.05           0.50     146.0  \n",
              "2009-01-01 07:00:00      2.08           2.88     348.8  \n",
              "2009-01-01 08:00:00      0.72           1.25     213.9  \n",
              "2009-01-01 09:00:00      0.34           0.63     202.2  \n",
              "2009-01-01 10:00:00      1.45           3.00     292.6  \n",
              "2009-01-01 11:00:00      1.91           3.38     269.6  \n",
              "2009-01-01 12:00:00      1.84           2.63     184.4  \n",
              "2009-01-01 13:00:00      0.57           1.25     187.3  \n",
              "2009-01-01 14:00:00      1.25           2.00     144.0  \n",
              "2009-01-01 15:00:00      1.17           1.88     134.9  \n",
              "2009-01-01 16:00:00      1.40           2.13     145.5  \n",
              "2009-01-01 17:00:00      0.85           1.63     142.2  \n",
              "2009-01-01 18:00:00      0.55           1.00     183.7  \n",
              "2009-01-01 19:00:00      0.41           0.75     176.7  \n",
              "2009-01-01 20:00:00      0.68           1.13     195.2  \n",
              "2009-01-01 21:00:00      0.44           0.75     206.3  \n",
              "2009-01-01 22:00:00      0.33           0.63     175.7  \n",
              "2009-01-01 23:00:00      0.65           1.00     219.3  \n",
              "2009-01-02 00:00:00      0.41           0.88     155.0  \n",
              "2009-01-02 01:00:00      0.28           1.00     148.1  \n",
              "2009-01-02 02:00:00      0.49           0.88     209.8  "
            ],
            "text/html": [
              "\n",
              "  <div id=\"df-e4bb8ee5-4919-4c6e-9671-216826d58d2a\" class=\"colab-df-container\">\n",
              "    <div>\n",
              "<style scoped>\n",
              "    .dataframe tbody tr th:only-of-type {\n",
              "        vertical-align: middle;\n",
              "    }\n",
              "\n",
              "    .dataframe tbody tr th {\n",
              "        vertical-align: top;\n",
              "    }\n",
              "\n",
              "    .dataframe thead th {\n",
              "        text-align: right;\n",
              "    }\n",
              "</style>\n",
              "<table border=\"1\" class=\"dataframe\">\n",
              "  <thead>\n",
              "    <tr style=\"text-align: right;\">\n",
              "      <th></th>\n",
              "      <th>Date Time</th>\n",
              "      <th>p (mbar)</th>\n",
              "      <th>T (degC)</th>\n",
              "      <th>Tpot (K)</th>\n",
              "      <th>Tdew (degC)</th>\n",
              "      <th>rh (%)</th>\n",
              "      <th>VPmax (mbar)</th>\n",
              "      <th>VPact (mbar)</th>\n",
              "      <th>VPdef (mbar)</th>\n",
              "      <th>sh (g/kg)</th>\n",
              "      <th>H2OC (mmol/mol)</th>\n",
              "      <th>rho (g/m**3)</th>\n",
              "      <th>wv (m/s)</th>\n",
              "      <th>max. wv (m/s)</th>\n",
              "      <th>wd (deg)</th>\n",
              "    </tr>\n",
              "    <tr>\n",
              "      <th>Date Time</th>\n",
              "      <th></th>\n",
              "      <th></th>\n",
              "      <th></th>\n",
              "      <th></th>\n",
              "      <th></th>\n",
              "      <th></th>\n",
              "      <th></th>\n",
              "      <th></th>\n",
              "      <th></th>\n",
              "      <th></th>\n",
              "      <th></th>\n",
              "      <th></th>\n",
              "      <th></th>\n",
              "      <th></th>\n",
              "      <th></th>\n",
              "    </tr>\n",
              "  </thead>\n",
              "  <tbody>\n",
              "    <tr>\n",
              "      <th>2009-01-01 01:00:00</th>\n",
              "      <td>01.01.2009 01:00:00</td>\n",
              "      <td>996.50</td>\n",
              "      <td>-8.05</td>\n",
              "      <td>265.38</td>\n",
              "      <td>-8.78</td>\n",
              "      <td>94.4</td>\n",
              "      <td>3.33</td>\n",
              "      <td>3.14</td>\n",
              "      <td>0.19</td>\n",
              "      <td>1.96</td>\n",
              "      <td>3.15</td>\n",
              "      <td>1307.86</td>\n",
              "      <td>0.21</td>\n",
              "      <td>0.63</td>\n",
              "      <td>192.7</td>\n",
              "    </tr>\n",
              "    <tr>\n",
              "      <th>2009-01-01 02:00:00</th>\n",
              "      <td>01.01.2009 02:00:00</td>\n",
              "      <td>996.62</td>\n",
              "      <td>-8.88</td>\n",
              "      <td>264.54</td>\n",
              "      <td>-9.77</td>\n",
              "      <td>93.2</td>\n",
              "      <td>3.12</td>\n",
              "      <td>2.90</td>\n",
              "      <td>0.21</td>\n",
              "      <td>1.81</td>\n",
              "      <td>2.91</td>\n",
              "      <td>1312.25</td>\n",
              "      <td>0.25</td>\n",
              "      <td>0.63</td>\n",
              "      <td>190.3</td>\n",
              "    </tr>\n",
              "    <tr>\n",
              "      <th>2009-01-01 03:00:00</th>\n",
              "      <td>01.01.2009 03:00:00</td>\n",
              "      <td>996.84</td>\n",
              "      <td>-8.81</td>\n",
              "      <td>264.59</td>\n",
              "      <td>-9.66</td>\n",
              "      <td>93.5</td>\n",
              "      <td>3.13</td>\n",
              "      <td>2.93</td>\n",
              "      <td>0.20</td>\n",
              "      <td>1.83</td>\n",
              "      <td>2.94</td>\n",
              "      <td>1312.18</td>\n",
              "      <td>0.18</td>\n",
              "      <td>0.63</td>\n",
              "      <td>167.2</td>\n",
              "    </tr>\n",
              "    <tr>\n",
              "      <th>2009-01-01 04:00:00</th>\n",
              "      <td>01.01.2009 04:00:00</td>\n",
              "      <td>996.99</td>\n",
              "      <td>-9.05</td>\n",
              "      <td>264.34</td>\n",
              "      <td>-10.02</td>\n",
              "      <td>92.6</td>\n",
              "      <td>3.07</td>\n",
              "      <td>2.85</td>\n",
              "      <td>0.23</td>\n",
              "      <td>1.78</td>\n",
              "      <td>2.85</td>\n",
              "      <td>1313.61</td>\n",
              "      <td>0.10</td>\n",
              "      <td>0.38</td>\n",
              "      <td>240.0</td>\n",
              "    </tr>\n",
              "    <tr>\n",
              "      <th>2009-01-01 05:00:00</th>\n",
              "      <td>01.01.2009 05:00:00</td>\n",
              "      <td>997.46</td>\n",
              "      <td>-9.63</td>\n",
              "      <td>263.72</td>\n",
              "      <td>-10.65</td>\n",
              "      <td>92.2</td>\n",
              "      <td>2.94</td>\n",
              "      <td>2.71</td>\n",
              "      <td>0.23</td>\n",
              "      <td>1.69</td>\n",
              "      <td>2.71</td>\n",
              "      <td>1317.19</td>\n",
              "      <td>0.40</td>\n",
              "      <td>0.88</td>\n",
              "      <td>157.0</td>\n",
              "    </tr>\n",
              "    <tr>\n",
              "      <th>2009-01-01 06:00:00</th>\n",
              "      <td>01.01.2009 06:00:00</td>\n",
              "      <td>997.71</td>\n",
              "      <td>-9.67</td>\n",
              "      <td>263.66</td>\n",
              "      <td>-10.62</td>\n",
              "      <td>92.7</td>\n",
              "      <td>2.93</td>\n",
              "      <td>2.71</td>\n",
              "      <td>0.21</td>\n",
              "      <td>1.69</td>\n",
              "      <td>2.72</td>\n",
              "      <td>1317.71</td>\n",
              "      <td>0.05</td>\n",
              "      <td>0.50</td>\n",
              "      <td>146.0</td>\n",
              "    </tr>\n",
              "    <tr>\n",
              "      <th>2009-01-01 07:00:00</th>\n",
              "      <td>01.01.2009 07:00:00</td>\n",
              "      <td>998.33</td>\n",
              "      <td>-9.17</td>\n",
              "      <td>264.12</td>\n",
              "      <td>-10.10</td>\n",
              "      <td>92.9</td>\n",
              "      <td>3.04</td>\n",
              "      <td>2.83</td>\n",
              "      <td>0.22</td>\n",
              "      <td>1.76</td>\n",
              "      <td>2.83</td>\n",
              "      <td>1315.98</td>\n",
              "      <td>2.08</td>\n",
              "      <td>2.88</td>\n",
              "      <td>348.8</td>\n",
              "    </tr>\n",
              "    <tr>\n",
              "      <th>2009-01-01 08:00:00</th>\n",
              "      <td>01.01.2009 08:00:00</td>\n",
              "      <td>999.17</td>\n",
              "      <td>-8.10</td>\n",
              "      <td>265.12</td>\n",
              "      <td>-9.05</td>\n",
              "      <td>92.8</td>\n",
              "      <td>3.31</td>\n",
              "      <td>3.07</td>\n",
              "      <td>0.24</td>\n",
              "      <td>1.92</td>\n",
              "      <td>3.08</td>\n",
              "      <td>1311.65</td>\n",
              "      <td>0.72</td>\n",
              "      <td>1.25</td>\n",
              "      <td>213.9</td>\n",
              "    </tr>\n",
              "    <tr>\n",
              "      <th>2009-01-01 09:00:00</th>\n",
              "      <td>01.01.2009 09:00:00</td>\n",
              "      <td>999.69</td>\n",
              "      <td>-7.66</td>\n",
              "      <td>265.52</td>\n",
              "      <td>-8.84</td>\n",
              "      <td>91.2</td>\n",
              "      <td>3.43</td>\n",
              "      <td>3.13</td>\n",
              "      <td>0.30</td>\n",
              "      <td>1.95</td>\n",
              "      <td>3.13</td>\n",
              "      <td>1310.14</td>\n",
              "      <td>0.34</td>\n",
              "      <td>0.63</td>\n",
              "      <td>202.2</td>\n",
              "    </tr>\n",
              "    <tr>\n",
              "      <th>2009-01-01 10:00:00</th>\n",
              "      <td>01.01.2009 10:00:00</td>\n",
              "      <td>1000.27</td>\n",
              "      <td>-7.04</td>\n",
              "      <td>266.10</td>\n",
              "      <td>-8.17</td>\n",
              "      <td>91.6</td>\n",
              "      <td>3.60</td>\n",
              "      <td>3.30</td>\n",
              "      <td>0.30</td>\n",
              "      <td>2.05</td>\n",
              "      <td>3.29</td>\n",
              "      <td>1307.76</td>\n",
              "      <td>1.45</td>\n",
              "      <td>3.00</td>\n",
              "      <td>292.6</td>\n",
              "    </tr>\n",
              "    <tr>\n",
              "      <th>2009-01-01 11:00:00</th>\n",
              "      <td>01.01.2009 11:00:00</td>\n",
              "      <td>1000.87</td>\n",
              "      <td>-7.41</td>\n",
              "      <td>265.68</td>\n",
              "      <td>-8.66</td>\n",
              "      <td>90.7</td>\n",
              "      <td>3.50</td>\n",
              "      <td>3.17</td>\n",
              "      <td>0.33</td>\n",
              "      <td>1.97</td>\n",
              "      <td>3.17</td>\n",
              "      <td>1310.43</td>\n",
              "      <td>1.91</td>\n",
              "      <td>3.38</td>\n",
              "      <td>269.6</td>\n",
              "    </tr>\n",
              "    <tr>\n",
              "      <th>2009-01-01 12:00:00</th>\n",
              "      <td>01.01.2009 12:00:00</td>\n",
              "      <td>1000.30</td>\n",
              "      <td>-6.87</td>\n",
              "      <td>266.27</td>\n",
              "      <td>-8.28</td>\n",
              "      <td>89.6</td>\n",
              "      <td>3.64</td>\n",
              "      <td>3.27</td>\n",
              "      <td>0.38</td>\n",
              "      <td>2.03</td>\n",
              "      <td>3.26</td>\n",
              "      <td>1306.98</td>\n",
              "      <td>1.84</td>\n",
              "      <td>2.63</td>\n",
              "      <td>184.4</td>\n",
              "    </tr>\n",
              "    <tr>\n",
              "      <th>2009-01-01 13:00:00</th>\n",
              "      <td>01.01.2009 13:00:00</td>\n",
              "      <td>1000.03</td>\n",
              "      <td>-5.89</td>\n",
              "      <td>267.27</td>\n",
              "      <td>-7.46</td>\n",
              "      <td>88.6</td>\n",
              "      <td>3.93</td>\n",
              "      <td>3.48</td>\n",
              "      <td>0.45</td>\n",
              "      <td>2.17</td>\n",
              "      <td>3.48</td>\n",
              "      <td>1301.73</td>\n",
              "      <td>0.57</td>\n",
              "      <td>1.25</td>\n",
              "      <td>187.3</td>\n",
              "    </tr>\n",
              "    <tr>\n",
              "      <th>2009-01-01 14:00:00</th>\n",
              "      <td>01.01.2009 14:00:00</td>\n",
              "      <td>999.81</td>\n",
              "      <td>-5.94</td>\n",
              "      <td>267.24</td>\n",
              "      <td>-7.43</td>\n",
              "      <td>89.1</td>\n",
              "      <td>3.92</td>\n",
              "      <td>3.49</td>\n",
              "      <td>0.43</td>\n",
              "      <td>2.17</td>\n",
              "      <td>3.49</td>\n",
              "      <td>1301.67</td>\n",
              "      <td>1.25</td>\n",
              "      <td>2.00</td>\n",
              "      <td>144.0</td>\n",
              "    </tr>\n",
              "    <tr>\n",
              "      <th>2009-01-01 15:00:00</th>\n",
              "      <td>01.01.2009 15:00:00</td>\n",
              "      <td>999.88</td>\n",
              "      <td>-5.69</td>\n",
              "      <td>267.48</td>\n",
              "      <td>-7.00</td>\n",
              "      <td>90.4</td>\n",
              "      <td>3.99</td>\n",
              "      <td>3.61</td>\n",
              "      <td>0.38</td>\n",
              "      <td>2.25</td>\n",
              "      <td>3.61</td>\n",
              "      <td>1300.51</td>\n",
              "      <td>1.17</td>\n",
              "      <td>1.88</td>\n",
              "      <td>134.9</td>\n",
              "    </tr>\n",
              "    <tr>\n",
              "      <th>2009-01-01 16:00:00</th>\n",
              "      <td>01.01.2009 16:00:00</td>\n",
              "      <td>999.94</td>\n",
              "      <td>-5.40</td>\n",
              "      <td>267.76</td>\n",
              "      <td>-6.86</td>\n",
              "      <td>89.4</td>\n",
              "      <td>4.08</td>\n",
              "      <td>3.65</td>\n",
              "      <td>0.43</td>\n",
              "      <td>2.27</td>\n",
              "      <td>3.65</td>\n",
              "      <td>1299.17</td>\n",
              "      <td>1.40</td>\n",
              "      <td>2.13</td>\n",
              "      <td>145.5</td>\n",
              "    </tr>\n",
              "    <tr>\n",
              "      <th>2009-01-01 17:00:00</th>\n",
              "      <td>01.01.2009 17:00:00</td>\n",
              "      <td>1000.17</td>\n",
              "      <td>-5.37</td>\n",
              "      <td>267.78</td>\n",
              "      <td>-6.82</td>\n",
              "      <td>89.4</td>\n",
              "      <td>4.09</td>\n",
              "      <td>3.66</td>\n",
              "      <td>0.43</td>\n",
              "      <td>2.28</td>\n",
              "      <td>3.66</td>\n",
              "      <td>1299.27</td>\n",
              "      <td>0.85</td>\n",
              "      <td>1.63</td>\n",
              "      <td>142.2</td>\n",
              "    </tr>\n",
              "    <tr>\n",
              "      <th>2009-01-01 18:00:00</th>\n",
              "      <td>01.01.2009 18:00:00</td>\n",
              "      <td>1000.16</td>\n",
              "      <td>-5.25</td>\n",
              "      <td>267.90</td>\n",
              "      <td>-6.75</td>\n",
              "      <td>89.1</td>\n",
              "      <td>4.13</td>\n",
              "      <td>3.68</td>\n",
              "      <td>0.45</td>\n",
              "      <td>2.29</td>\n",
              "      <td>3.68</td>\n",
              "      <td>1298.68</td>\n",
              "      <td>0.55</td>\n",
              "      <td>1.00</td>\n",
              "      <td>183.7</td>\n",
              "    </tr>\n",
              "    <tr>\n",
              "      <th>2009-01-01 19:00:00</th>\n",
              "      <td>01.01.2009 19:00:00</td>\n",
              "      <td>1000.22</td>\n",
              "      <td>-5.11</td>\n",
              "      <td>268.03</td>\n",
              "      <td>-6.57</td>\n",
              "      <td>89.4</td>\n",
              "      <td>4.17</td>\n",
              "      <td>3.73</td>\n",
              "      <td>0.44</td>\n",
              "      <td>2.32</td>\n",
              "      <td>3.73</td>\n",
              "      <td>1298.07</td>\n",
              "      <td>0.41</td>\n",
              "      <td>0.75</td>\n",
              "      <td>176.7</td>\n",
              "    </tr>\n",
              "    <tr>\n",
              "      <th>2009-01-01 20:00:00</th>\n",
              "      <td>01.01.2009 20:00:00</td>\n",
              "      <td>1000.22</td>\n",
              "      <td>-4.90</td>\n",
              "      <td>268.24</td>\n",
              "      <td>-6.38</td>\n",
              "      <td>89.3</td>\n",
              "      <td>4.24</td>\n",
              "      <td>3.79</td>\n",
              "      <td>0.45</td>\n",
              "      <td>2.36</td>\n",
              "      <td>3.78</td>\n",
              "      <td>1297.05</td>\n",
              "      <td>0.68</td>\n",
              "      <td>1.13</td>\n",
              "      <td>195.2</td>\n",
              "    </tr>\n",
              "    <tr>\n",
              "      <th>2009-01-01 21:00:00</th>\n",
              "      <td>01.01.2009 21:00:00</td>\n",
              "      <td>1000.19</td>\n",
              "      <td>-4.80</td>\n",
              "      <td>268.35</td>\n",
              "      <td>-6.14</td>\n",
              "      <td>90.2</td>\n",
              "      <td>4.27</td>\n",
              "      <td>3.85</td>\n",
              "      <td>0.42</td>\n",
              "      <td>2.40</td>\n",
              "      <td>3.85</td>\n",
              "      <td>1296.45</td>\n",
              "      <td>0.44</td>\n",
              "      <td>0.75</td>\n",
              "      <td>206.3</td>\n",
              "    </tr>\n",
              "    <tr>\n",
              "      <th>2009-01-01 22:00:00</th>\n",
              "      <td>01.01.2009 22:00:00</td>\n",
              "      <td>1000.00</td>\n",
              "      <td>-4.50</td>\n",
              "      <td>268.66</td>\n",
              "      <td>-5.82</td>\n",
              "      <td>90.4</td>\n",
              "      <td>4.37</td>\n",
              "      <td>3.95</td>\n",
              "      <td>0.42</td>\n",
              "      <td>2.46</td>\n",
              "      <td>3.95</td>\n",
              "      <td>1294.72</td>\n",
              "      <td>0.33</td>\n",
              "      <td>0.63</td>\n",
              "      <td>175.7</td>\n",
              "    </tr>\n",
              "    <tr>\n",
              "      <th>2009-01-01 23:00:00</th>\n",
              "      <td>01.01.2009 23:00:00</td>\n",
              "      <td>999.77</td>\n",
              "      <td>-4.47</td>\n",
              "      <td>268.71</td>\n",
              "      <td>-5.84</td>\n",
              "      <td>90.1</td>\n",
              "      <td>4.38</td>\n",
              "      <td>3.95</td>\n",
              "      <td>0.43</td>\n",
              "      <td>2.46</td>\n",
              "      <td>3.95</td>\n",
              "      <td>1294.29</td>\n",
              "      <td>0.65</td>\n",
              "      <td>1.00</td>\n",
              "      <td>219.3</td>\n",
              "    </tr>\n",
              "    <tr>\n",
              "      <th>2009-01-02 00:00:00</th>\n",
              "      <td>02.01.2009 00:00:00</td>\n",
              "      <td>999.59</td>\n",
              "      <td>-4.54</td>\n",
              "      <td>268.65</td>\n",
              "      <td>-5.46</td>\n",
              "      <td>93.2</td>\n",
              "      <td>4.36</td>\n",
              "      <td>4.06</td>\n",
              "      <td>0.30</td>\n",
              "      <td>2.53</td>\n",
              "      <td>4.06</td>\n",
              "      <td>1294.33</td>\n",
              "      <td>0.41</td>\n",
              "      <td>0.88</td>\n",
              "      <td>155.0</td>\n",
              "    </tr>\n",
              "    <tr>\n",
              "      <th>2009-01-02 01:00:00</th>\n",
              "      <td>02.01.2009 01:00:00</td>\n",
              "      <td>999.34</td>\n",
              "      <td>-4.44</td>\n",
              "      <td>268.77</td>\n",
              "      <td>-5.19</td>\n",
              "      <td>94.4</td>\n",
              "      <td>4.39</td>\n",
              "      <td>4.15</td>\n",
              "      <td>0.25</td>\n",
              "      <td>2.58</td>\n",
              "      <td>4.15</td>\n",
              "      <td>1293.47</td>\n",
              "      <td>0.28</td>\n",
              "      <td>1.00</td>\n",
              "      <td>148.1</td>\n",
              "    </tr>\n",
              "    <tr>\n",
              "      <th>2009-01-02 02:00:00</th>\n",
              "      <td>02.01.2009 02:00:00</td>\n",
              "      <td>998.93</td>\n",
              "      <td>-4.29</td>\n",
              "      <td>268.95</td>\n",
              "      <td>-5.04</td>\n",
              "      <td>94.5</td>\n",
              "      <td>4.44</td>\n",
              "      <td>4.20</td>\n",
              "      <td>0.24</td>\n",
              "      <td>2.62</td>\n",
              "      <td>4.20</td>\n",
              "      <td>1292.22</td>\n",
              "      <td>0.49</td>\n",
              "      <td>0.88</td>\n",
              "      <td>209.8</td>\n",
              "    </tr>\n",
              "  </tbody>\n",
              "</table>\n",
              "</div>\n",
              "    <div class=\"colab-df-buttons\">\n",
              "\n",
              "  <div class=\"colab-df-container\">\n",
              "    <button class=\"colab-df-convert\" onclick=\"convertToInteractive('df-e4bb8ee5-4919-4c6e-9671-216826d58d2a')\"\n",
              "            title=\"Convert this dataframe to an interactive table.\"\n",
              "            style=\"display:none;\">\n",
              "\n",
              "  <svg xmlns=\"http://www.w3.org/2000/svg\" height=\"24px\" viewBox=\"0 -960 960 960\">\n",
              "    <path d=\"M120-120v-720h720v720H120Zm60-500h600v-160H180v160Zm220 220h160v-160H400v160Zm0 220h160v-160H400v160ZM180-400h160v-160H180v160Zm440 0h160v-160H620v160ZM180-180h160v-160H180v160Zm440 0h160v-160H620v160Z\"/>\n",
              "  </svg>\n",
              "    </button>\n",
              "\n",
              "  <style>\n",
              "    .colab-df-container {\n",
              "      display:flex;\n",
              "      gap: 12px;\n",
              "    }\n",
              "\n",
              "    .colab-df-convert {\n",
              "      background-color: #E8F0FE;\n",
              "      border: none;\n",
              "      border-radius: 50%;\n",
              "      cursor: pointer;\n",
              "      display: none;\n",
              "      fill: #1967D2;\n",
              "      height: 32px;\n",
              "      padding: 0 0 0 0;\n",
              "      width: 32px;\n",
              "    }\n",
              "\n",
              "    .colab-df-convert:hover {\n",
              "      background-color: #E2EBFA;\n",
              "      box-shadow: 0px 1px 2px rgba(60, 64, 67, 0.3), 0px 1px 3px 1px rgba(60, 64, 67, 0.15);\n",
              "      fill: #174EA6;\n",
              "    }\n",
              "\n",
              "    .colab-df-buttons div {\n",
              "      margin-bottom: 4px;\n",
              "    }\n",
              "\n",
              "    [theme=dark] .colab-df-convert {\n",
              "      background-color: #3B4455;\n",
              "      fill: #D2E3FC;\n",
              "    }\n",
              "\n",
              "    [theme=dark] .colab-df-convert:hover {\n",
              "      background-color: #434B5C;\n",
              "      box-shadow: 0px 1px 3px 1px rgba(0, 0, 0, 0.15);\n",
              "      filter: drop-shadow(0px 1px 2px rgba(0, 0, 0, 0.3));\n",
              "      fill: #FFFFFF;\n",
              "    }\n",
              "  </style>\n",
              "\n",
              "    <script>\n",
              "      const buttonEl =\n",
              "        document.querySelector('#df-e4bb8ee5-4919-4c6e-9671-216826d58d2a button.colab-df-convert');\n",
              "      buttonEl.style.display =\n",
              "        google.colab.kernel.accessAllowed ? 'block' : 'none';\n",
              "\n",
              "      async function convertToInteractive(key) {\n",
              "        const element = document.querySelector('#df-e4bb8ee5-4919-4c6e-9671-216826d58d2a');\n",
              "        const dataTable =\n",
              "          await google.colab.kernel.invokeFunction('convertToInteractive',\n",
              "                                                    [key], {});\n",
              "        if (!dataTable) return;\n",
              "\n",
              "        const docLinkHtml = 'Like what you see? Visit the ' +\n",
              "          '<a target=\"_blank\" href=https://colab.research.google.com/notebooks/data_table.ipynb>data table notebook</a>'\n",
              "          + ' to learn more about interactive tables.';\n",
              "        element.innerHTML = '';\n",
              "        dataTable['output_type'] = 'display_data';\n",
              "        await google.colab.output.renderOutput(dataTable, element);\n",
              "        const docLink = document.createElement('div');\n",
              "        docLink.innerHTML = docLinkHtml;\n",
              "        element.appendChild(docLink);\n",
              "      }\n",
              "    </script>\n",
              "  </div>\n",
              "\n",
              "\n",
              "<div id=\"df-091c8fd5-881c-490c-9c14-7b5ea69fa361\">\n",
              "  <button class=\"colab-df-quickchart\" onclick=\"quickchart('df-091c8fd5-881c-490c-9c14-7b5ea69fa361')\"\n",
              "            title=\"Suggest charts.\"\n",
              "            style=\"display:none;\">\n",
              "\n",
              "<svg xmlns=\"http://www.w3.org/2000/svg\" height=\"24px\"viewBox=\"0 0 24 24\"\n",
              "     width=\"24px\">\n",
              "    <g>\n",
              "        <path d=\"M19 3H5c-1.1 0-2 .9-2 2v14c0 1.1.9 2 2 2h14c1.1 0 2-.9 2-2V5c0-1.1-.9-2-2-2zM9 17H7v-7h2v7zm4 0h-2V7h2v10zm4 0h-2v-4h2v4z\"/>\n",
              "    </g>\n",
              "</svg>\n",
              "  </button>\n",
              "\n",
              "<style>\n",
              "  .colab-df-quickchart {\n",
              "    background-color: #E8F0FE;\n",
              "    border: none;\n",
              "    border-radius: 50%;\n",
              "    cursor: pointer;\n",
              "    display: none;\n",
              "    fill: #1967D2;\n",
              "    height: 32px;\n",
              "    padding: 0 0 0 0;\n",
              "    width: 32px;\n",
              "  }\n",
              "\n",
              "  .colab-df-quickchart:hover {\n",
              "    background-color: #E2EBFA;\n",
              "    box-shadow: 0px 1px 2px rgba(60, 64, 67, 0.3), 0px 1px 3px 1px rgba(60, 64, 67, 0.15);\n",
              "    fill: #174EA6;\n",
              "  }\n",
              "\n",
              "  [theme=dark] .colab-df-quickchart {\n",
              "    background-color: #3B4455;\n",
              "    fill: #D2E3FC;\n",
              "  }\n",
              "\n",
              "  [theme=dark] .colab-df-quickchart:hover {\n",
              "    background-color: #434B5C;\n",
              "    box-shadow: 0px 1px 3px 1px rgba(0, 0, 0, 0.15);\n",
              "    filter: drop-shadow(0px 1px 2px rgba(0, 0, 0, 0.3));\n",
              "    fill: #FFFFFF;\n",
              "  }\n",
              "</style>\n",
              "\n",
              "  <script>\n",
              "    async function quickchart(key) {\n",
              "      const charts = await google.colab.kernel.invokeFunction(\n",
              "          'suggestCharts', [key], {});\n",
              "    }\n",
              "    (() => {\n",
              "      let quickchartButtonEl =\n",
              "        document.querySelector('#df-091c8fd5-881c-490c-9c14-7b5ea69fa361 button');\n",
              "      quickchartButtonEl.style.display =\n",
              "        google.colab.kernel.accessAllowed ? 'block' : 'none';\n",
              "    })();\n",
              "  </script>\n",
              "</div>\n",
              "    </div>\n",
              "  </div>\n"
            ]
          },
          "metadata": {},
          "execution_count": 5
        }
      ]
    },
    {
      "cell_type": "code",
      "metadata": {
        "colab": {
          "base_uri": "https://localhost:8080/",
          "height": 444
        },
        "id": "3fWZ3nYxS3oe",
        "outputId": "8ca31476-2f1d-445c-9a80-06c5ab7764fb"
      },
      "source": [
        "temp = df['T (degC)']\n",
        "temp.plot()"
      ],
      "execution_count": 6,
      "outputs": [
        {
          "output_type": "execute_result",
          "data": {
            "text/plain": [
              "<Axes: xlabel='Date Time'>"
            ]
          },
          "metadata": {},
          "execution_count": 6
        },
        {
          "output_type": "display_data",
          "data": {
            "text/plain": [
              "<Figure size 640x480 with 1 Axes>"
            ],
            "image/png": "[encoded data removed]"
          },
          "metadata": {}
        }
      ]
    },
    {
      "cell_type": "code",
      "metadata": {
        "id": "bY2yEu2QTBXP"
      },
      "source": [
        "# [[[1], [2], [3], [4], [5]]] [6]\n",
        "# [[[2], [3], [4], [5], [6]]] [7]\n",
        "# [[[3], [4], [5], [6], [7]]] [8]\n",
        "\n",
        "def df_to_X_y(df, window_size=5):\n",
        "  df_as_np = df.to_numpy()\n",
        "  X = []\n",
        "  y = []\n",
        "  for i in range(len(df_as_np)-window_size):\n",
        "    row = [[a] for a in df_as_np[i:i+window_size]]\n",
        "    X.append(row)\n",
        "    label = df_as_np[i+window_size]\n",
        "    y.append(label)\n",
        "  return np.array(X), np.array(y)"
      ],
      "execution_count": 7,
      "outputs": []
    },
    {
      "cell_type": "code",
      "metadata": {
        "colab": {
          "base_uri": "https://localhost:8080/"
        },
        "id": "qhGUH0NoV9Zq",
        "outputId": "6727f2f8-bcb0-4c2c-c580-fbb2a2ca8984"
      },
      "source": [
        "WINDOW_SIZE = 5\n",
        "X1, y1 = df_to_X_y(temp, WINDOW_SIZE)\n",
        "X1.shape, y1.shape"
      ],
      "execution_count": 8,
      "outputs": [
        {
          "output_type": "execute_result",
          "data": {
            "text/plain": [
              "((70086, 5, 1), (70086,))"
            ]
          },
          "metadata": {},
          "execution_count": 8
        }
      ]
    },
    {
      "cell_type": "code",
      "metadata": {
        "colab": {
          "base_uri": "https://localhost:8080/"
        },
        "id": "Vsy2-BjnWMhB",
        "outputId": "3524bfe6-8c9e-4285-f7d3-14d0a5f5c1d7"
      },
      "source": [
        "X_train1, y_train1 = X1[:60000], y1[:60000]\n",
        "X_val1, y_val1 = X1[60000:65000], y1[60000:65000]\n",
        "X_test1, y_test1 = X1[65000:], y1[65000:]\n",
        "X_train1.shape, y_train1.shape, X_val1.shape, y_val1.shape, X_test1.shape, y_test1.shape"
      ],
      "execution_count": 9,
      "outputs": [
        {
          "output_type": "execute_result",
          "data": {
            "text/plain": [
              "((60000, 5, 1), (60000,), (5000, 5, 1), (5000,), (5086, 5, 1), (5086,))"
            ]
          },
          "metadata": {},
          "execution_count": 9
        }
      ]
    },
    {
      "cell_type": "code",
      "metadata": {
        "colab": {
          "base_uri": "https://localhost:8080/"
        },
        "id": "4jZz4ZjpW217",
        "outputId": "5b66cb10-3539-4049-c42a-69cd592130a9"
      },
      "source": [
        "from tensorflow.keras.models import Sequential\n",
        "from tensorflow.keras.layers import *\n",
        "from tensorflow.keras.callbacks import ModelCheckpoint\n",
        "from tensorflow.keras.losses import MeanSquaredError\n",
        "from tensorflow.keras.metrics import RootMeanSquaredError\n",
        "from tensorflow.keras.optimizers import Adam\n",
        "\n",
        "model1 = Sequential()\n",
        "model1.add(InputLayer((5, 1)))\n",
        "model1.add(LSTM(64))\n",
        "model1.add(Dense(8, 'relu'))\n",
        "model1.add(Dense(1, 'linear'))\n",
        "\n",
        "model1.summary()"
      ],
      "execution_count": 10,
      "outputs": [
        {
          "output_type": "stream",
          "name": "stdout",
          "text": [
            "Model: \"sequential\"\n",
            "_________________________________________________________________\n",
            " Layer (type)                Output Shape              Param #   \n",
            "=================================================================\n",
            " lstm (LSTM)                 (None, 64)                16896     \n",
            "                                                                 \n",
            " dense (Dense)               (None, 8)                 520       \n",
            "                                                                 \n",
            " dense_1 (Dense)             (None, 1)                 9         \n",
            "                                                                 \n",
            "=================================================================\n",
            "Total params: 17,425\n",
            "Trainable params: 17,425\n",
            "Non-trainable params: 0\n",
            "_________________________________________________________________\n"
          ]
        }
      ]
    },
    {
      "cell_type": "code",
      "metadata": {
        "id": "5jMK7auDXwEr"
      },
      "source": [
        "cp1 = ModelCheckpoint('model1/', save_best_only=True)\n",
        "model1.compile(loss=MeanSquaredError(), optimizer=Adam(learning_rate=0.0001), metrics=[RootMeanSquaredError()])"
      ],
      "execution_count": 11,
      "outputs": []
    },
    {
      "cell_type": "code",
      "metadata": {
        "id": "CWeSakSwYLtr",
        "colab": {
          "base_uri": "https://localhost:8080/"
        },
        "outputId": "627a57fa-e13d-4018-80c6-1e8efddc70a1"
      },
      "source": [
        "model1.fit(X_train1, y_train1, validation_data=(X_val1, y_val1), epochs=10, callbacks=[cp1])"
      ],
      "execution_count": 12,
      "outputs": [
        {
          "output_type": "stream",
          "name": "stdout",
          "text": [
            "Epoch 1/10\n",
            "1871/1875 [============================>.] - ETA: 0s - loss: 39.3667 - root_mean_squared_error: 6.2743"
          ]
        },
        {
          "output_type": "stream",
          "name": "stderr",
          "text": [
            "WARNING:absl:Found untraced functions such as _update_step_xla, lstm_cell_layer_call_fn, lstm_cell_layer_call_and_return_conditional_losses while saving (showing 3 of 3). These functions will not be directly callable after loading.\n"
          ]
        },
        {
          "output_type": "stream",
          "name": "stdout",
          "text": [
            "\b\b\b\b\b\b\b\b\b\b\b\b\b\b\b\b\b\b\b\b\b\b\b\b\b\b\b\b\b\b\b\b\b\b\b\b\b\b\b\b\b\b\b\b\b\b\b\b\b\b\b\b\b\b\b\b\b\b\b\b\b\b\b\b\b\b\b\b\b\b\b\b\b\b\b\b\b\b\b\b\b\b\b\b\b\b\b\b\b\b\b\b\b\b\b\b\b\b\b\b\b\b\r1875/1875 [==============================] - 34s 15ms/step - loss: 39.2927 - root_mean_squared_error: 6.2684 - val_loss: 1.4515 - val_root_mean_squared_error: 1.2048\n",
            "Epoch 2/10\n",
            "1871/1875 [============================>.] - ETA: 0s - loss: 3.0007 - root_mean_squared_error: 1.7323"
          ]
        },
        {
          "output_type": "stream",
          "name": "stderr",
          "text": [
            "WARNING:absl:Found untraced functions such as _update_step_xla, lstm_cell_layer_call_fn, lstm_cell_layer_call_and_return_conditional_losses while saving (showing 3 of 3). These functions will not be directly callable after loading.\n"
          ]
        },
        {
          "output_type": "stream",
          "name": "stdout",
          "text": [
            "\b\b\b\b\b\b\b\b\b\b\b\b\b\b\b\b\b\b\b\b\b\b\b\b\b\b\b\b\b\b\b\b\b\b\b\b\b\b\b\b\b\b\b\b\b\b\b\b\b\b\b\b\b\b\b\b\b\b\b\b\b\b\b\b\b\b\b\b\b\b\b\b\b\b\b\b\b\b\b\b\b\b\b\b\b\b\b\b\b\b\b\b\b\b\b\b\b\b\b\b\b\r1875/1875 [==============================] - 15s 8ms/step - loss: 2.9961 - root_mean_squared_error: 1.7309 - val_loss: 0.6591 - val_root_mean_squared_error: 0.8119\n",
            "Epoch 3/10\n",
            "1866/1875 [============================>.] - ETA: 0s - loss: 1.1246 - root_mean_squared_error: 1.0605"
          ]
        },
        {
          "output_type": "stream",
          "name": "stderr",
          "text": [
            "WARNING:absl:Found untraced functions such as _update_step_xla, lstm_cell_layer_call_fn, lstm_cell_layer_call_and_return_conditional_losses while saving (showing 3 of 3). These functions will not be directly callable after loading.\n"
          ]
        },
        {
          "output_type": "stream",
          "name": "stdout",
          "text": [
            "\b\b\b\b\b\b\b\b\b\b\b\b\b\b\b\b\b\b\b\b\b\b\b\b\b\b\b\b\b\b\b\b\b\b\b\b\b\b\b\b\b\b\b\b\b\b\b\b\b\b\b\b\b\b\b\b\b\b\b\b\b\b\b\b\b\b\b\b\b\b\b\b\b\b\b\b\b\b\b\b\b\b\b\b\b\b\b\b\b\b\b\b\b\b\b\b\b\b\b\b\b\r1875/1875 [==============================] - 15s 8ms/step - loss: 1.1234 - root_mean_squared_error: 1.0599 - val_loss: 0.5631 - val_root_mean_squared_error: 0.7504\n",
            "Epoch 4/10\n",
            "1874/1875 [============================>.] - ETA: 0s - loss: 0.7904 - root_mean_squared_error: 0.8890"
          ]
        },
        {
          "output_type": "stream",
          "name": "stderr",
          "text": [
            "WARNING:absl:Found untraced functions such as _update_step_xla, lstm_cell_layer_call_fn, lstm_cell_layer_call_and_return_conditional_losses while saving (showing 3 of 3). These functions will not be directly callable after loading.\n"
          ]
        },
        {
          "output_type": "stream",
          "name": "stdout",
          "text": [
            "\b\b\b\b\b\b\b\b\b\b\b\b\b\b\b\b\b\b\b\b\b\b\b\b\b\b\b\b\b\b\b\b\b\b\b\b\b\b\b\b\b\b\b\b\b\b\b\b\b\b\b\b\b\b\b\b\b\b\b\b\b\b\b\b\b\b\b\b\b\b\b\b\b\b\b\b\b\b\b\b\b\b\b\b\b\b\b\b\b\b\b\b\b\b\b\b\b\b\b\b\b\r1875/1875 [==============================] - 17s 9ms/step - loss: 0.7904 - root_mean_squared_error: 0.8890 - val_loss: 0.5196 - val_root_mean_squared_error: 0.7208\n",
            "Epoch 5/10\n",
            "1870/1875 [============================>.] - ETA: 0s - loss: 0.7016 - root_mean_squared_error: 0.8376"
          ]
        },
        {
          "output_type": "stream",
          "name": "stderr",
          "text": [
            "WARNING:absl:Found untraced functions such as _update_step_xla, lstm_cell_layer_call_fn, lstm_cell_layer_call_and_return_conditional_losses while saving (showing 3 of 3). These functions will not be directly callable after loading.\n"
          ]
        },
        {
          "output_type": "stream",
          "name": "stdout",
          "text": [
            "\b\b\b\b\b\b\b\b\b\b\b\b\b\b\b\b\b\b\b\b\b\b\b\b\b\b\b\b\b\b\b\b\b\b\b\b\b\b\b\b\b\b\b\b\b\b\b\b\b\b\b\b\b\b\b\b\b\b\b\b\b\b\b\b\b\b\b\b\b\b\b\b\b\b\b\b\b\b\b\b\b\b\b\b\b\b\b\b\b\b\b\b\b\b\b\b\b\b\b\b\b\r1875/1875 [==============================] - 16s 9ms/step - loss: 0.7016 - root_mean_squared_error: 0.8376 - val_loss: 0.5170 - val_root_mean_squared_error: 0.7190\n",
            "Epoch 6/10\n",
            "1874/1875 [============================>.] - ETA: 0s - loss: 0.6739 - root_mean_squared_error: 0.8209"
          ]
        },
        {
          "output_type": "stream",
          "name": "stderr",
          "text": [
            "WARNING:absl:Found untraced functions such as _update_step_xla, lstm_cell_layer_call_fn, lstm_cell_layer_call_and_return_conditional_losses while saving (showing 3 of 3). These functions will not be directly callable after loading.\n"
          ]
        },
        {
          "output_type": "stream",
          "name": "stdout",
          "text": [
            "\b\b\b\b\b\b\b\b\b\b\b\b\b\b\b\b\b\b\b\b\b\b\b\b\b\b\b\b\b\b\b\b\b\b\b\b\b\b\b\b\b\b\b\b\b\b\b\b\b\b\b\b\b\b\b\b\b\b\b\b\b\b\b\b\b\b\b\b\b\b\b\b\b\b\b\b\b\b\b\b\b\b\b\b\b\b\b\b\b\b\b\b\b\b\b\b\b\b\b\b\b\r1875/1875 [==============================] - 15s 8ms/step - loss: 0.6738 - root_mean_squared_error: 0.8208 - val_loss: 0.4960 - val_root_mean_squared_error: 0.7043\n",
            "Epoch 7/10\n",
            "1875/1875 [==============================] - 12s 6ms/step - loss: 0.6616 - root_mean_squared_error: 0.8134 - val_loss: 0.4975 - val_root_mean_squared_error: 0.7053\n",
            "Epoch 8/10\n",
            "1865/1875 [============================>.] - ETA: 0s - loss: 0.6553 - root_mean_squared_error: 0.8095"
          ]
        },
        {
          "output_type": "stream",
          "name": "stderr",
          "text": [
            "WARNING:absl:Found untraced functions such as _update_step_xla, lstm_cell_layer_call_fn, lstm_cell_layer_call_and_return_conditional_losses while saving (showing 3 of 3). These functions will not be directly callable after loading.\n"
          ]
        },
        {
          "output_type": "stream",
          "name": "stdout",
          "text": [
            "\b\b\b\b\b\b\b\b\b\b\b\b\b\b\b\b\b\b\b\b\b\b\b\b\b\b\b\b\b\b\b\b\b\b\b\b\b\b\b\b\b\b\b\b\b\b\b\b\b\b\b\b\b\b\b\b\b\b\b\b\b\b\b\b\b\b\b\b\b\b\b\b\b\b\b\b\b\b\b\b\b\b\b\b\b\b\b\b\b\b\b\b\b\b\b\b\b\b\b\b\b\r1875/1875 [==============================] - 16s 8ms/step - loss: 0.6550 - root_mean_squared_error: 0.8093 - val_loss: 0.4905 - val_root_mean_squared_error: 0.7004\n",
            "Epoch 9/10\n",
            "1875/1875 [==============================] - 10s 6ms/step - loss: 0.6505 - root_mean_squared_error: 0.8065 - val_loss: 0.5076 - val_root_mean_squared_error: 0.7125\n",
            "Epoch 10/10\n",
            "1875/1875 [==============================] - ETA: 0s - loss: 0.6474 - root_mean_squared_error: 0.8046"
          ]
        },
        {
          "output_type": "stream",
          "name": "stderr",
          "text": [
            "WARNING:absl:Found untraced functions such as _update_step_xla, lstm_cell_layer_call_fn, lstm_cell_layer_call_and_return_conditional_losses while saving (showing 3 of 3). These functions will not be directly callable after loading.\n"
          ]
        },
        {
          "output_type": "stream",
          "name": "stdout",
          "text": [
            "\b\b\b\b\b\b\b\b\b\b\b\b\b\b\b\b\b\b\b\b\b\b\b\b\b\b\b\b\b\b\b\b\b\b\b\b\b\b\b\b\b\b\b\b\b\b\b\b\b\b\b\b\b\b\b\b\b\b\b\b\b\b\b\b\b\b\b\b\b\b\b\b\b\b\b\b\b\b\b\b\b\b\b\b\b\b\b\b\b\b\b\b\b\b\b\b\b\b\b\b\b\r1875/1875 [==============================] - 15s 8ms/step - loss: 0.6474 - root_mean_squared_error: 0.8046 - val_loss: 0.4894 - val_root_mean_squared_error: 0.6996\n"
          ]
        },
        {
          "output_type": "execute_result",
          "data": {
            "text/plain": [
              "<keras.callbacks.History at 0x7d4282ebd9f0>"
            ]
          },
          "metadata": {},
          "execution_count": 12
        }
      ]
    },
    {
      "cell_type": "code",
      "metadata": {
        "id": "vdaqGHG4YZkN"
      },
      "source": [
        "from tensorflow.keras.models import load_model\n",
        "model1 = load_model('model1/')"
      ],
      "execution_count": 13,
      "outputs": []
    },
    {
      "cell_type": "code",
      "metadata": {
        "colab": {
          "base_uri": "https://localhost:8080/",
          "height": 442
        },
        "id": "byObmr8CZRhp",
        "outputId": "8afc4980-0a8d-449e-a8cf-c59d7e5f73d9"
      },
      "source": [
        "train_predictions = model1.predict(X_train1).flatten()\n",
        "train_results = pd.DataFrame(data={'Train Predictions':train_predictions, 'Actuals':y_train1})\n",
        "train_results"
      ],
      "execution_count": 14,
      "outputs": [
        {
          "output_type": "stream",
          "name": "stdout",
          "text": [
            "1875/1875 [==============================] - 7s 3ms/step\n"
          ]
        },
        {
          "output_type": "execute_result",
          "data": {
            "text/plain": [
              "       Train Predictions  Actuals\n",
              "0              -9.865771    -9.67\n",
              "1              -9.625664    -9.17\n",
              "2              -8.743053    -8.10\n",
              "3              -7.285202    -7.66\n",
              "4              -7.143310    -7.04\n",
              "...                  ...      ...\n",
              "59995           6.067680     6.07\n",
              "59996           7.260002     9.88\n",
              "59997          12.360301    13.53\n",
              "59998          16.052862    15.43\n",
              "59999          16.315485    15.54\n",
              "\n",
              "[60000 rows x 2 columns]"
            ],
            "text/html": [
              "\n",
              "  <div id=\"df-c1124bab-ac66-4d5e-83d5-cc5cd05645f8\" class=\"colab-df-container\">\n",
              "    <div>\n",
              "<style scoped>\n",
              "    .dataframe tbody tr th:only-of-type {\n",
              "        vertical-align: middle;\n",
              "    }\n",
              "\n",
              "    .dataframe tbody tr th {\n",
              "        vertical-align: top;\n",
              "    }\n",
              "\n",
              "    .dataframe thead th {\n",
              "        text-align: right;\n",
              "    }\n",
              "</style>\n",
              "<table border=\"1\" class=\"dataframe\">\n",
              "  <thead>\n",
              "    <tr style=\"text-align: right;\">\n",
              "      <th></th>\n",
              "      <th>Train Predictions</th>\n",
              "      <th>Actuals</th>\n",
              "    </tr>\n",
              "  </thead>\n",
              "  <tbody>\n",
              "    <tr>\n",
              "      <th>0</th>\n",
              "      <td>-9.865771</td>\n",
              "      <td>-9.67</td>\n",
              "    </tr>\n",
              "    <tr>\n",
              "      <th>1</th>\n",
              "      <td>-9.625664</td>\n",
              "      <td>-9.17</td>\n",
              "    </tr>\n",
              "    <tr>\n",
              "      <th>2</th>\n",
              "      <td>-8.743053</td>\n",
              "      <td>-8.10</td>\n",
              "    </tr>\n",
              "    <tr>\n",
              "      <th>3</th>\n",
              "      <td>-7.285202</td>\n",
              "      <td>-7.66</td>\n",
              "    </tr>\n",
              "    <tr>\n",
              "      <th>4</th>\n",
              "      <td>-7.143310</td>\n",
              "      <td>-7.04</td>\n",
              "    </tr>\n",
              "    <tr>\n",
              "      <th>...</th>\n",
              "      <td>...</td>\n",
              "      <td>...</td>\n",
              "    </tr>\n",
              "    <tr>\n",
              "      <th>59995</th>\n",
              "      <td>6.067680</td>\n",
              "      <td>6.07</td>\n",
              "    </tr>\n",
              "    <tr>\n",
              "      <th>59996</th>\n",
              "      <td>7.260002</td>\n",
              "      <td>9.88</td>\n",
              "    </tr>\n",
              "    <tr>\n",
              "      <th>59997</th>\n",
              "      <td>12.360301</td>\n",
              "      <td>13.53</td>\n",
              "    </tr>\n",
              "    <tr>\n",
              "      <th>59998</th>\n",
              "      <td>16.052862</td>\n",
              "      <td>15.43</td>\n",
              "    </tr>\n",
              "    <tr>\n",
              "      <th>59999</th>\n",
              "      <td>16.315485</td>\n",
              "      <td>15.54</td>\n",
              "    </tr>\n",
              "  </tbody>\n",
              "</table>\n",
              "<p>60000 rows × 2 columns</p>\n",
              "</div>\n",
              "    <div class=\"colab-df-buttons\">\n",
              "\n",
              "  <div class=\"colab-df-container\">\n",
              "    <button class=\"colab-df-convert\" onclick=\"convertToInteractive('df-c1124bab-ac66-4d5e-83d5-cc5cd05645f8')\"\n",
              "            title=\"Convert this dataframe to an interactive table.\"\n",
              "            style=\"display:none;\">\n",
              "\n",
              "  <svg xmlns=\"http://www.w3.org/2000/svg\" height=\"24px\" viewBox=\"0 -960 960 960\">\n",
              "    <path d=\"M120-120v-720h720v720H120Zm60-500h600v-160H180v160Zm220 220h160v-160H400v160Zm0 220h160v-160H400v160ZM180-400h160v-160H180v160Zm440 0h160v-160H620v160ZM180-180h160v-160H180v160Zm440 0h160v-160H620v160Z\"/>\n",
              "  </svg>\n",
              "    </button>\n",
              "\n",
              "  <style>\n",
              "    .colab-df-container {\n",
              "      display:flex;\n",
              "      gap: 12px;\n",
              "    }\n",
              "\n",
              "    .colab-df-convert {\n",
              "      background-color: #E8F0FE;\n",
              "      border: none;\n",
              "      border-radius: 50%;\n",
              "      cursor: pointer;\n",
              "      display: none;\n",
              "      fill: #1967D2;\n",
              "      height: 32px;\n",
              "      padding: 0 0 0 0;\n",
              "      width: 32px;\n",
              "    }\n",
              "\n",
              "    .colab-df-convert:hover {\n",
              "      background-color: #E2EBFA;\n",
              "      box-shadow: 0px 1px 2px rgba(60, 64, 67, 0.3), 0px 1px 3px 1px rgba(60, 64, 67, 0.15);\n",
              "      fill: #174EA6;\n",
              "    }\n",
              "\n",
              "    .colab-df-buttons div {\n",
              "      margin-bottom: 4px;\n",
              "    }\n",
              "\n",
              "    [theme=dark] .colab-df-convert {\n",
              "      background-color: #3B4455;\n",
              "      fill: #D2E3FC;\n",
              "    }\n",
              "\n",
              "    [theme=dark] .colab-df-convert:hover {\n",
              "      background-color: #434B5C;\n",
              "      box-shadow: 0px 1px 3px 1px rgba(0, 0, 0, 0.15);\n",
              "      filter: drop-shadow(0px 1px 2px rgba(0, 0, 0, 0.3));\n",
              "      fill: #FFFFFF;\n",
              "    }\n",
              "  </style>\n",
              "\n",
              "    <script>\n",
              "      const buttonEl =\n",
              "        document.querySelector('#df-c1124bab-ac66-4d5e-83d5-cc5cd05645f8 button.colab-df-convert');\n",
              "      buttonEl.style.display =\n",
              "        google.colab.kernel.accessAllowed ? 'block' : 'none';\n",
              "\n",
              "      async function convertToInteractive(key) {\n",
              "        const element = document.querySelector('#df-c1124bab-ac66-4d5e-83d5-cc5cd05645f8');\n",
              "        const dataTable =\n",
              "          await google.colab.kernel.invokeFunction('convertToInteractive',\n",
              "                                                    [key], {});\n",
              "        if (!dataTable) return;\n",
              "\n",
              "        const docLinkHtml = 'Like what you see? Visit the ' +\n",
              "          '<a target=\"_blank\" href=https://colab.research.google.com/notebooks/data_table.ipynb>data table notebook</a>'\n",
              "          + ' to learn more about interactive tables.';\n",
              "        element.innerHTML = '';\n",
              "        dataTable['output_type'] = 'display_data';\n",
              "        await google.colab.output.renderOutput(dataTable, element);\n",
              "        const docLink = document.createElement('div');\n",
              "        docLink.innerHTML = docLinkHtml;\n",
              "        element.appendChild(docLink);\n",
              "      }\n",
              "    </script>\n",
              "  </div>\n",
              "\n",
              "\n",
              "<div id=\"df-82d4ad3c-3f03-4a43-89e0-39f19e5fb50e\">\n",
              "  <button class=\"colab-df-quickchart\" onclick=\"quickchart('df-82d4ad3c-3f03-4a43-89e0-39f19e5fb50e')\"\n",
              "            title=\"Suggest charts.\"\n",
              "            style=\"display:none;\">\n",
              "\n",
              "<svg xmlns=\"http://www.w3.org/2000/svg\" height=\"24px\"viewBox=\"0 0 24 24\"\n",
              "     width=\"24px\">\n",
              "    <g>\n",
              "        <path d=\"M19 3H5c-1.1 0-2 .9-2 2v14c0 1.1.9 2 2 2h14c1.1 0 2-.9 2-2V5c0-1.1-.9-2-2-2zM9 17H7v-7h2v7zm4 0h-2V7h2v10zm4 0h-2v-4h2v4z\"/>\n",
              "    </g>\n",
              "</svg>\n",
              "  </button>\n",
              "\n",
              "<style>\n",
              "  .colab-df-quickchart {\n",
              "    background-color: #E8F0FE;\n",
              "    border: none;\n",
              "    border-radius: 50%;\n",
              "    cursor: pointer;\n",
              "    display: none;\n",
              "    fill: #1967D2;\n",
              "    height: 32px;\n",
              "    padding: 0 0 0 0;\n",
              "    width: 32px;\n",
              "  }\n",
              "\n",
              "  .colab-df-quickchart:hover {\n",
              "    background-color: #E2EBFA;\n",
              "    box-shadow: 0px 1px 2px rgba(60, 64, 67, 0.3), 0px 1px 3px 1px rgba(60, 64, 67, 0.15);\n",
              "    fill: #174EA6;\n",
              "  }\n",
              "\n",
              "  [theme=dark] .colab-df-quickchart {\n",
              "    background-color: #3B4455;\n",
              "    fill: #D2E3FC;\n",
              "  }\n",
              "\n",
              "  [theme=dark] .colab-df-quickchart:hover {\n",
              "    background-color: #434B5C;\n",
              "    box-shadow: 0px 1px 3px 1px rgba(0, 0, 0, 0.15);\n",
              "    filter: drop-shadow(0px 1px 2px rgba(0, 0, 0, 0.3));\n",
              "    fill: #FFFFFF;\n",
              "  }\n",
              "</style>\n",
              "\n",
              "  <script>\n",
              "    async function quickchart(key) {\n",
              "      const charts = await google.colab.kernel.invokeFunction(\n",
              "          'suggestCharts', [key], {});\n",
              "    }\n",
              "    (() => {\n",
              "      let quickchartButtonEl =\n",
              "        document.querySelector('#df-82d4ad3c-3f03-4a43-89e0-39f19e5fb50e button');\n",
              "      quickchartButtonEl.style.display =\n",
              "        google.colab.kernel.accessAllowed ? 'block' : 'none';\n",
              "    })();\n",
              "  </script>\n",
              "</div>\n",
              "    </div>\n",
              "  </div>\n"
            ]
          },
          "metadata": {},
          "execution_count": 14
        }
      ]
    },
    {
      "cell_type": "code",
      "metadata": {
        "colab": {
          "base_uri": "https://localhost:8080/",
          "height": 448
        },
        "id": "KTqY8r6_Zpev",
        "outputId": "b7c0b835-f191-498a-d68b-74a6f98aaca9"
      },
      "source": [
        "import matplotlib.pyplot as plt\n",
        "plt.plot(train_results['Train Predictions'][50:100])\n",
        "plt.plot(train_results['Actuals'][50:100])"
      ],
      "execution_count": 15,
      "outputs": [
        {
          "output_type": "execute_result",
          "data": {
            "text/plain": [
              "[<matplotlib.lines.Line2D at 0x7d427b872c20>]"
            ]
          },
          "metadata": {},
          "execution_count": 15
        },
        {
          "output_type": "display_data",
          "data": {
            "text/plain": [
              "<Figure size 640x480 with 1 Axes>"
            ],
            "image/png": "[encoded data removed]"
          },
          "metadata": {}
        }
      ]
    },
    {
      "cell_type": "code",
      "metadata": {
        "colab": {
          "base_uri": "https://localhost:8080/",
          "height": 442
        },
        "id": "vuY5nmGYZ8ix",
        "outputId": "24ae5373-d30f-4a3e-c85b-feda89782d5d"
      },
      "source": [
        "val_predictions = model1.predict(X_val1).flatten()\n",
        "val_results = pd.DataFrame(data={'Val Predictions':val_predictions, 'Actuals':y_val1})\n",
        "val_results"
      ],
      "execution_count": 16,
      "outputs": [
        {
          "output_type": "stream",
          "name": "stdout",
          "text": [
            "157/157 [==============================] - 2s 2ms/step\n"
          ]
        },
        {
          "output_type": "execute_result",
          "data": {
            "text/plain": [
              "      Val Predictions  Actuals\n",
              "0           15.575789    14.02\n",
              "1           13.298514    13.67\n",
              "2           13.016503    12.27\n",
              "3           11.456452    11.19\n",
              "4           10.368154    10.85\n",
              "...               ...      ...\n",
              "4995        17.413935    18.27\n",
              "4996        17.311148    17.85\n",
              "4997        17.250250    16.65\n",
              "4998        15.843665    15.85\n",
              "4999        15.040000    15.09\n",
              "\n",
              "[5000 rows x 2 columns]"
            ],
            "text/html": [
              "\n",
              "  <div id=\"df-d359f4b3-2c2f-44f5-8763-5e6a3ad69d83\" class=\"colab-df-container\">\n",
              "    <div>\n",
              "<style scoped>\n",
              "    .dataframe tbody tr th:only-of-type {\n",
              "        vertical-align: middle;\n",
              "    }\n",
              "\n",
              "    .dataframe tbody tr th {\n",
              "        vertical-align: top;\n",
              "    }\n",
              "\n",
              "    .dataframe thead th {\n",
              "        text-align: right;\n",
              "    }\n",
              "</style>\n",
              "<table border=\"1\" class=\"dataframe\">\n",
              "  <thead>\n",
              "    <tr style=\"text-align: right;\">\n",
              "      <th></th>\n",
              "      <th>Val Predictions</th>\n",
              "      <th>Actuals</th>\n",
              "    </tr>\n",
              "  </thead>\n",
              "  <tbody>\n",
              "    <tr>\n",
              "      <th>0</th>\n",
              "      <td>15.575789</td>\n",
              "      <td>14.02</td>\n",
              "    </tr>\n",
              "    <tr>\n",
              "      <th>1</th>\n",
              "      <td>13.298514</td>\n",
              "      <td>13.67</td>\n",
              "    </tr>\n",
              "    <tr>\n",
              "      <th>2</th>\n",
              "      <td>13.016503</td>\n",
              "      <td>12.27</td>\n",
              "    </tr>\n",
              "    <tr>\n",
              "      <th>3</th>\n",
              "      <td>11.456452</td>\n",
              "      <td>11.19</td>\n",
              "    </tr>\n",
              "    <tr>\n",
              "      <th>4</th>\n",
              "      <td>10.368154</td>\n",
              "      <td>10.85</td>\n",
              "    </tr>\n",
              "    <tr>\n",
              "      <th>...</th>\n",
              "      <td>...</td>\n",
              "      <td>...</td>\n",
              "    </tr>\n",
              "    <tr>\n",
              "      <th>4995</th>\n",
              "      <td>17.413935</td>\n",
              "      <td>18.27</td>\n",
              "    </tr>\n",
              "    <tr>\n",
              "      <th>4996</th>\n",
              "      <td>17.311148</td>\n",
              "      <td>17.85</td>\n",
              "    </tr>\n",
              "    <tr>\n",
              "      <th>4997</th>\n",
              "      <td>17.250250</td>\n",
              "      <td>16.65</td>\n",
              "    </tr>\n",
              "    <tr>\n",
              "      <th>4998</th>\n",
              "      <td>15.843665</td>\n",
              "      <td>15.85</td>\n",
              "    </tr>\n",
              "    <tr>\n",
              "      <th>4999</th>\n",
              "      <td>15.040000</td>\n",
              "      <td>15.09</td>\n",
              "    </tr>\n",
              "  </tbody>\n",
              "</table>\n",
              "<p>5000 rows × 2 columns</p>\n",
              "</div>\n",
              "    <div class=\"colab-df-buttons\">\n",
              "\n",
              "  <div class=\"colab-df-container\">\n",
              "    <button class=\"colab-df-convert\" onclick=\"convertToInteractive('df-d359f4b3-2c2f-44f5-8763-5e6a3ad69d83')\"\n",
              "            title=\"Convert this dataframe to an interactive table.\"\n",
              "            style=\"display:none;\">\n",
              "\n",
              "  <svg xmlns=\"http://www.w3.org/2000/svg\" height=\"24px\" viewBox=\"0 -960 960 960\">\n",
              "    <path d=\"M120-120v-720h720v720H120Zm60-500h600v-160H180v160Zm220 220h160v-160H400v160Zm0 220h160v-160H400v160ZM180-400h160v-160H180v160Zm440 0h160v-160H620v160ZM180-180h160v-160H180v160Zm440 0h160v-160H620v160Z\"/>\n",
              "  </svg>\n",
              "    </button>\n",
              "\n",
              "  <style>\n",
              "    .colab-df-container {\n",
              "      display:flex;\n",
              "      gap: 12px;\n",
              "    }\n",
              "\n",
              "    .colab-df-convert {\n",
              "      background-color: #E8F0FE;\n",
              "      border: none;\n",
              "      border-radius: 50%;\n",
              "      cursor: pointer;\n",
              "      display: none;\n",
              "      fill: #1967D2;\n",
              "      height: 32px;\n",
              "      padding: 0 0 0 0;\n",
              "      width: 32px;\n",
              "    }\n",
              "\n",
              "    .colab-df-convert:hover {\n",
              "      background-color: #E2EBFA;\n",
              "      box-shadow: 0px 1px 2px rgba(60, 64, 67, 0.3), 0px 1px 3px 1px rgba(60, 64, 67, 0.15);\n",
              "      fill: #174EA6;\n",
              "    }\n",
              "\n",
              "    .colab-df-buttons div {\n",
              "      margin-bottom: 4px;\n",
              "    }\n",
              "\n",
              "    [theme=dark] .colab-df-convert {\n",
              "      background-color: #3B4455;\n",
              "      fill: #D2E3FC;\n",
              "    }\n",
              "\n",
              "    [theme=dark] .colab-df-convert:hover {\n",
              "      background-color: #434B5C;\n",
              "      box-shadow: 0px 1px 3px 1px rgba(0, 0, 0, 0.15);\n",
              "      filter: drop-shadow(0px 1px 2px rgba(0, 0, 0, 0.3));\n",
              "      fill: #FFFFFF;\n",
              "    }\n",
              "  </style>\n",
              "\n",
              "    <script>\n",
              "      const buttonEl =\n",
              "        document.querySelector('#df-d359f4b3-2c2f-44f5-8763-5e6a3ad69d83 button.colab-df-convert');\n",
              "      buttonEl.style.display =\n",
              "        google.colab.kernel.accessAllowed ? 'block' : 'none';\n",
              "\n",
              "      async function convertToInteractive(key) {\n",
              "        const element = document.querySelector('#df-d359f4b3-2c2f-44f5-8763-5e6a3ad69d83');\n",
              "        const dataTable =\n",
              "          await google.colab.kernel.invokeFunction('convertToInteractive',\n",
              "                                                    [key], {});\n",
              "        if (!dataTable) return;\n",
              "\n",
              "        const docLinkHtml = 'Like what you see? Visit the ' +\n",
              "          '<a target=\"_blank\" href=https://colab.research.google.com/notebooks/data_table.ipynb>data table notebook</a>'\n",
              "          + ' to learn more about interactive tables.';\n",
              "        element.innerHTML = '';\n",
              "        dataTable['output_type'] = 'display_data';\n",
              "        await google.colab.output.renderOutput(dataTable, element);\n",
              "        const docLink = document.createElement('div');\n",
              "        docLink.innerHTML = docLinkHtml;\n",
              "        element.appendChild(docLink);\n",
              "      }\n",
              "    </script>\n",
              "  </div>\n",
              "\n",
              "\n",
              "<div id=\"df-54c97e57-e1e0-476f-b5a8-36cdaad54046\">\n",
              "  <button class=\"colab-df-quickchart\" onclick=\"quickchart('df-54c97e57-e1e0-476f-b5a8-36cdaad54046')\"\n",
              "            title=\"Suggest charts.\"\n",
              "            style=\"display:none;\">\n",
              "\n",
              "<svg xmlns=\"http://www.w3.org/2000/svg\" height=\"24px\"viewBox=\"0 0 24 24\"\n",
              "     width=\"24px\">\n",
              "    <g>\n",
              "        <path d=\"M19 3H5c-1.1 0-2 .9-2 2v14c0 1.1.9 2 2 2h14c1.1 0 2-.9 2-2V5c0-1.1-.9-2-2-2zM9 17H7v-7h2v7zm4 0h-2V7h2v10zm4 0h-2v-4h2v4z\"/>\n",
              "    </g>\n",
              "</svg>\n",
              "  </button>\n",
              "\n",
              "<style>\n",
              "  .colab-df-quickchart {\n",
              "    background-color: #E8F0FE;\n",
              "    border: none;\n",
              "    border-radius: 50%;\n",
              "    cursor: pointer;\n",
              "    display: none;\n",
              "    fill: #1967D2;\n",
              "    height: 32px;\n",
              "    padding: 0 0 0 0;\n",
              "    width: 32px;\n",
              "  }\n",
              "\n",
              "  .colab-df-quickchart:hover {\n",
              "    background-color: #E2EBFA;\n",
              "    box-shadow: 0px 1px 2px rgba(60, 64, 67, 0.3), 0px 1px 3px 1px rgba(60, 64, 67, 0.15);\n",
              "    fill: #174EA6;\n",
              "  }\n",
              "\n",
              "  [theme=dark] .colab-df-quickchart {\n",
              "    background-color: #3B4455;\n",
              "    fill: #D2E3FC;\n",
              "  }\n",
              "\n",
              "  [theme=dark] .colab-df-quickchart:hover {\n",
              "    background-color: #434B5C;\n",
              "    box-shadow: 0px 1px 3px 1px rgba(0, 0, 0, 0.15);\n",
              "    filter: drop-shadow(0px 1px 2px rgba(0, 0, 0, 0.3));\n",
              "    fill: #FFFFFF;\n",
              "  }\n",
              "</style>\n",
              "\n",
              "  <script>\n",
              "    async function quickchart(key) {\n",
              "      const charts = await google.colab.kernel.invokeFunction(\n",
              "          'suggestCharts', [key], {});\n",
              "    }\n",
              "    (() => {\n",
              "      let quickchartButtonEl =\n",
              "        document.querySelector('#df-54c97e57-e1e0-476f-b5a8-36cdaad54046 button');\n",
              "      quickchartButtonEl.style.display =\n",
              "        google.colab.kernel.accessAllowed ? 'block' : 'none';\n",
              "    })();\n",
              "  </script>\n",
              "</div>\n",
              "    </div>\n",
              "  </div>\n"
            ]
          },
          "metadata": {},
          "execution_count": 16
        }
      ]
    },
    {
      "cell_type": "code",
      "metadata": {
        "colab": {
          "base_uri": "https://localhost:8080/",
          "height": 448
        },
        "id": "6MlctzuuaQww",
        "outputId": "615df238-d16a-4518-8997-031802b2176e"
      },
      "source": [
        "plt.plot(val_results['Val Predictions'][:100])\n",
        "plt.plot(val_results['Actuals'][:100])"
      ],
      "execution_count": 17,
      "outputs": [
        {
          "output_type": "execute_result",
          "data": {
            "text/plain": [
              "[<matplotlib.lines.Line2D at 0x7d427bf336d0>]"
            ]
          },
          "metadata": {},
          "execution_count": 17
        },
        {
          "output_type": "display_data",
          "data": {
            "text/plain": [
              "<Figure size 640x480 with 1 Axes>"
            ],
            "image/png": "[encoded data removed]"
          },
          "metadata": {}
        }
      ]
    },
    {
      "cell_type": "code",
      "metadata": {
        "colab": {
          "base_uri": "https://localhost:8080/",
          "height": 442
        },
        "id": "5O59Q8MTaRN7",
        "outputId": "570c572c-0077-4fc1-dd9c-a1fc2b279efd"
      },
      "source": [
        "test_predictions = model1.predict(X_test1).flatten()\n",
        "test_results = pd.DataFrame(data={'Test Predictions':test_predictions, 'Actuals':y_test1})\n",
        "test_results"
      ],
      "execution_count": 18,
      "outputs": [
        {
          "output_type": "stream",
          "name": "stdout",
          "text": [
            "159/159 [==============================] - 0s 2ms/step\n"
          ]
        },
        {
          "output_type": "execute_result",
          "data": {
            "text/plain": [
              "      Test Predictions  Actuals\n",
              "0            14.357814    13.99\n",
              "1            13.190873    13.46\n",
              "2            12.830297    12.93\n",
              "3            12.453811    12.43\n",
              "4            12.019649    12.17\n",
              "...                ...      ...\n",
              "5081         -0.810555    -0.98\n",
              "5082         -1.227598    -1.40\n",
              "5083         -1.635725    -2.75\n",
              "5084         -3.011534    -2.89\n",
              "5085         -3.093542    -3.93\n",
              "\n",
              "[5086 rows x 2 columns]"
            ],
            "text/html": [
              "\n",
              "  <div id=\"df-ee3cd266-3228-4133-bfd1-eed5acdd6121\" class=\"colab-df-container\">\n",
              "    <div>\n",
              "<style scoped>\n",
              "    .dataframe tbody tr th:only-of-type {\n",
              "        vertical-align: middle;\n",
              "    }\n",
              "\n",
              "    .dataframe tbody tr th {\n",
              "        vertical-align: top;\n",
              "    }\n",
              "\n",
              "    .dataframe thead th {\n",
              "        text-align: right;\n",
              "    }\n",
              "</style>\n",
              "<table border=\"1\" class=\"dataframe\">\n",
              "  <thead>\n",
              "    <tr style=\"text-align: right;\">\n",
              "      <th></th>\n",
              "      <th>Test Predictions</th>\n",
              "      <th>Actuals</th>\n",
              "    </tr>\n",
              "  </thead>\n",
              "  <tbody>\n",
              "    <tr>\n",
              "      <th>0</th>\n",
              "      <td>14.357814</td>\n",
              "      <td>13.99</td>\n",
              "    </tr>\n",
              "    <tr>\n",
              "      <th>1</th>\n",
              "      <td>13.190873</td>\n",
              "      <td>13.46</td>\n",
              "    </tr>\n",
              "    <tr>\n",
              "      <th>2</th>\n",
              "      <td>12.830297</td>\n",
              "      <td>12.93</td>\n",
              "    </tr>\n",
              "    <tr>\n",
              "      <th>3</th>\n",
              "      <td>12.453811</td>\n",
              "      <td>12.43</td>\n",
              "    </tr>\n",
              "    <tr>\n",
              "      <th>4</th>\n",
              "      <td>12.019649</td>\n",
              "      <td>12.17</td>\n",
              "    </tr>\n",
              "    <tr>\n",
              "      <th>...</th>\n",
              "      <td>...</td>\n",
              "      <td>...</td>\n",
              "    </tr>\n",
              "    <tr>\n",
              "      <th>5081</th>\n",
              "      <td>-0.810555</td>\n",
              "      <td>-0.98</td>\n",
              "    </tr>\n",
              "    <tr>\n",
              "      <th>5082</th>\n",
              "      <td>-1.227598</td>\n",
              "      <td>-1.40</td>\n",
              "    </tr>\n",
              "    <tr>\n",
              "      <th>5083</th>\n",
              "      <td>-1.635725</td>\n",
              "      <td>-2.75</td>\n",
              "    </tr>\n",
              "    <tr>\n",
              "      <th>5084</th>\n",
              "      <td>-3.011534</td>\n",
              "      <td>-2.89</td>\n",
              "    </tr>\n",
              "    <tr>\n",
              "      <th>5085</th>\n",
              "      <td>-3.093542</td>\n",
              "      <td>-3.93</td>\n",
              "    </tr>\n",
              "  </tbody>\n",
              "</table>\n",
              "<p>5086 rows × 2 columns</p>\n",
              "</div>\n",
              "    <div class=\"colab-df-buttons\">\n",
              "\n",
              "  <div class=\"colab-df-container\">\n",
              "    <button class=\"colab-df-convert\" onclick=\"convertToInteractive('df-ee3cd266-3228-4133-bfd1-eed5acdd6121')\"\n",
              "            title=\"Convert this dataframe to an interactive table.\"\n",
              "            style=\"display:none;\">\n",
              "\n",
              "  <svg xmlns=\"http://www.w3.org/2000/svg\" height=\"24px\" viewBox=\"0 -960 960 960\">\n",
              "    <path d=\"M120-120v-720h720v720H120Zm60-500h600v-160H180v160Zm220 220h160v-160H400v160Zm0 220h160v-160H400v160ZM180-400h160v-160H180v160Zm440 0h160v-160H620v160ZM180-180h160v-160H180v160Zm440 0h160v-160H620v160Z\"/>\n",
              "  </svg>\n",
              "    </button>\n",
              "\n",
              "  <style>\n",
              "    .colab-df-container {\n",
              "      display:flex;\n",
              "      gap: 12px;\n",
              "    }\n",
              "\n",
              "    .colab-df-convert {\n",
              "      background-color: #E8F0FE;\n",
              "      border: none;\n",
              "      border-radius: 50%;\n",
              "      cursor: pointer;\n",
              "      display: none;\n",
              "      fill: #1967D2;\n",
              "      height: 32px;\n",
              "      padding: 0 0 0 0;\n",
              "      width: 32px;\n",
              "    }\n",
              "\n",
              "    .colab-df-convert:hover {\n",
              "      background-color: #E2EBFA;\n",
              "      box-shadow: 0px 1px 2px rgba(60, 64, 67, 0.3), 0px 1px 3px 1px rgba(60, 64, 67, 0.15);\n",
              "      fill: #174EA6;\n",
              "    }\n",
              "\n",
              "    .colab-df-buttons div {\n",
              "      margin-bottom: 4px;\n",
              "    }\n",
              "\n",
              "    [theme=dark] .colab-df-convert {\n",
              "      background-color: #3B4455;\n",
              "      fill: #D2E3FC;\n",
              "    }\n",
              "\n",
              "    [theme=dark] .colab-df-convert:hover {\n",
              "      background-color: #434B5C;\n",
              "      box-shadow: 0px 1px 3px 1px rgba(0, 0, 0, 0.15);\n",
              "      filter: drop-shadow(0px 1px 2px rgba(0, 0, 0, 0.3));\n",
              "      fill: #FFFFFF;\n",
              "    }\n",
              "  </style>\n",
              "\n",
              "    <script>\n",
              "      const buttonEl =\n",
              "        document.querySelector('#df-ee3cd266-3228-4133-bfd1-eed5acdd6121 button.colab-df-convert');\n",
              "      buttonEl.style.display =\n",
              "        google.colab.kernel.accessAllowed ? 'block' : 'none';\n",
              "\n",
              "      async function convertToInteractive(key) {\n",
              "        const element = document.querySelector('#df-ee3cd266-3228-4133-bfd1-eed5acdd6121');\n",
              "        const dataTable =\n",
              "          await google.colab.kernel.invokeFunction('convertToInteractive',\n",
              "                                                    [key], {});\n",
              "        if (!dataTable) return;\n",
              "\n",
              "        const docLinkHtml = 'Like what you see? Visit the ' +\n",
              "          '<a target=\"_blank\" href=https://colab.research.google.com/notebooks/data_table.ipynb>data table notebook</a>'\n",
              "          + ' to learn more about interactive tables.';\n",
              "        element.innerHTML = '';\n",
              "        dataTable['output_type'] = 'display_data';\n",
              "        await google.colab.output.renderOutput(dataTable, element);\n",
              "        const docLink = document.createElement('div');\n",
              "        docLink.innerHTML = docLinkHtml;\n",
              "        element.appendChild(docLink);\n",
              "      }\n",
              "    </script>\n",
              "  </div>\n",
              "\n",
              "\n",
              "<div id=\"df-dcfb3003-cd8b-4069-8d0c-7da2da36af0c\">\n",
              "  <button class=\"colab-df-quickchart\" onclick=\"quickchart('df-dcfb3003-cd8b-4069-8d0c-7da2da36af0c')\"\n",
              "            title=\"Suggest charts.\"\n",
              "            style=\"display:none;\">\n",
              "\n",
              "<svg xmlns=\"http://www.w3.org/2000/svg\" height=\"24px\"viewBox=\"0 0 24 24\"\n",
              "     width=\"24px\">\n",
              "    <g>\n",
              "        <path d=\"M19 3H5c-1.1 0-2 .9-2 2v14c0 1.1.9 2 2 2h14c1.1 0 2-.9 2-2V5c0-1.1-.9-2-2-2zM9 17H7v-7h2v7zm4 0h-2V7h2v10zm4 0h-2v-4h2v4z\"/>\n",
              "    </g>\n",
              "</svg>\n",
              "  </button>\n",
              "\n",
              "<style>\n",
              "  .colab-df-quickchart {\n",
              "    background-color: #E8F0FE;\n",
              "    border: none;\n",
              "    border-radius: 50%;\n",
              "    cursor: pointer;\n",
              "    display: none;\n",
              "    fill: #1967D2;\n",
              "    height: 32px;\n",
              "    padding: 0 0 0 0;\n",
              "    width: 32px;\n",
              "  }\n",
              "\n",
              "  .colab-df-quickchart:hover {\n",
              "    background-color: #E2EBFA;\n",
              "    box-shadow: 0px 1px 2px rgba(60, 64, 67, 0.3), 0px 1px 3px 1px rgba(60, 64, 67, 0.15);\n",
              "    fill: #174EA6;\n",
              "  }\n",
              "\n",
              "  [theme=dark] .colab-df-quickchart {\n",
              "    background-color: #3B4455;\n",
              "    fill: #D2E3FC;\n",
              "  }\n",
              "\n",
              "  [theme=dark] .colab-df-quickchart:hover {\n",
              "    background-color: #434B5C;\n",
              "    box-shadow: 0px 1px 3px 1px rgba(0, 0, 0, 0.15);\n",
              "    filter: drop-shadow(0px 1px 2px rgba(0, 0, 0, 0.3));\n",
              "    fill: #FFFFFF;\n",
              "  }\n",
              "</style>\n",
              "\n",
              "  <script>\n",
              "    async function quickchart(key) {\n",
              "      const charts = await google.colab.kernel.invokeFunction(\n",
              "          'suggestCharts', [key], {});\n",
              "    }\n",
              "    (() => {\n",
              "      let quickchartButtonEl =\n",
              "        document.querySelector('#df-dcfb3003-cd8b-4069-8d0c-7da2da36af0c button');\n",
              "      quickchartButtonEl.style.display =\n",
              "        google.colab.kernel.accessAllowed ? 'block' : 'none';\n",
              "    })();\n",
              "  </script>\n",
              "</div>\n",
              "    </div>\n",
              "  </div>\n"
            ]
          },
          "metadata": {},
          "execution_count": 18
        }
      ]
    },
    {
      "cell_type": "code",
      "metadata": {
        "id": "m8UzGIfEaW-P",
        "colab": {
          "base_uri": "https://localhost:8080/",
          "height": 448
        },
        "outputId": "236e2bdf-a4ce-425d-bbf3-73e4caf5b851"
      },
      "source": [
        "plt.plot(test_results['Test Predictions'][:100])\n",
        "plt.plot(test_results['Actuals'][:100])"
      ],
      "execution_count": 19,
      "outputs": [
        {
          "output_type": "execute_result",
          "data": {
            "text/plain": [
              "[<matplotlib.lines.Line2D at 0x7d427adf13f0>]"
            ]
          },
          "metadata": {},
          "execution_count": 19
        },
        {
          "output_type": "display_data",
          "data": {
            "text/plain": [
              "<Figure size 640x480 with 1 Axes>"
            ],
            "image/png": "[encoded data removed]"
          },
          "metadata": {}
        }
      ]
    },
    {
      "cell_type": "code",
      "metadata": {
        "id": "nWdZkoPo-MZM"
      },
      "source": [
        "# Part 2"
      ],
      "execution_count": 20,
      "outputs": []
    },
    {
      "cell_type": "code",
      "metadata": {
        "id": "XFf7bCFlctu8"
      },
      "source": [
        "from sklearn.metrics import mean_squared_error as mse\n",
        "\n",
        "def plot_predictions1(model, X, y, start=0, end=100):\n",
        "  predictions = model.predict(X).flatten()\n",
        "  df = pd.DataFrame(data={'Predictions':predictions, 'Actuals':y})\n",
        "  plt.plot(df['Predictions'][start:end])\n",
        "  plt.plot(df['Actuals'][start:end])\n",
        "  return df, mse(y, predictions)"
      ],
      "execution_count": 21,
      "outputs": []
    },
    {
      "cell_type": "code",
      "metadata": {
        "colab": {
          "base_uri": "https://localhost:8080/",
          "height": 724
        },
        "id": "pdabyyStdavq",
        "outputId": "2871c8c8-9c70-4ea6-a763-18641c0de98e"
      },
      "source": [
        "plot_predictions1(model1, X_test1, y_test1)"
      ],
      "execution_count": 22,
      "outputs": [
        {
          "output_type": "stream",
          "name": "stdout",
          "text": [
            "159/159 [==============================] - 0s 2ms/step\n"
          ]
        },
        {
          "output_type": "execute_result",
          "data": {
            "text/plain": [
              "(      Predictions  Actuals\n",
              " 0       14.357814    13.99\n",
              " 1       13.190873    13.46\n",
              " 2       12.830297    12.93\n",
              " 3       12.453811    12.43\n",
              " 4       12.019649    12.17\n",
              " ...           ...      ...\n",
              " 5081    -0.810555    -0.98\n",
              " 5082    -1.227598    -1.40\n",
              " 5083    -1.635725    -2.75\n",
              " 5084    -3.011534    -2.89\n",
              " 5085    -3.093542    -3.93\n",
              " \n",
              " [5086 rows x 2 columns],\n",
              " 0.6294368914578091)"
            ]
          },
          "metadata": {},
          "execution_count": 22
        },
        {
          "output_type": "display_data",
          "data": {
            "text/plain": [
              "<Figure size 640x480 with 1 Axes>"
            ],
            "image/png": "[encoded data removed]"
          },
          "metadata": {}
        }
      ]
    },
    {
      "cell_type": "code",
      "metadata": {
        "colab": {
          "base_uri": "https://localhost:8080/"
        },
        "id": "K6KDLXc3dg3x",
        "outputId": "ed65582e-d94c-46b3-df99-e19f52acaee1"
      },
      "source": [
        "model2 = Sequential()\n",
        "model2.add(InputLayer((5, 1)))\n",
        "model2.add(Conv1D(64, kernel_size=2))\n",
        "model2.add(Flatten())\n",
        "model2.add(Dense(8, 'relu'))\n",
        "model2.add(Dense(1, 'linear'))\n",
        "\n",
        "model2.summary()"
      ],
      "execution_count": 23,
      "outputs": [
        {
          "output_type": "stream",
          "name": "stdout",
          "text": [
            "Model: \"sequential_1\"\n",
            "_________________________________________________________________\n",
            " Layer (type)                Output Shape              Param #   \n",
            "=================================================================\n",
            " conv1d (Conv1D)             (None, 4, 64)             192       \n",
            "                                                                 \n",
            " flatten (Flatten)           (None, 256)               0         \n",
            "                                                                 \n",
            " dense_2 (Dense)             (None, 8)                 2056      \n",
            "                                                                 \n",
            " dense_3 (Dense)             (None, 1)                 9         \n",
            "                                                                 \n",
            "=================================================================\n",
            "Total params: 2,257\n",
            "Trainable params: 2,257\n",
            "Non-trainable params: 0\n",
            "_________________________________________________________________\n"
          ]
        }
      ]
    },
    {
      "cell_type": "code",
      "metadata": {
        "id": "YoGw3DQeeTES"
      },
      "source": [
        "cp2 = ModelCheckpoint('model2/', save_best_only=True)\n",
        "model2.compile(loss=MeanSquaredError(), optimizer=Adam(learning_rate=0.0001), metrics=[RootMeanSquaredError()])"
      ],
      "execution_count": 24,
      "outputs": []
    },
    {
      "cell_type": "code",
      "metadata": {
        "colab": {
          "base_uri": "https://localhost:8080/"
        },
        "id": "fUe56iajetZe",
        "outputId": "78159141-35b3-4f67-8208-48b8b2b80c56"
      },
      "source": [
        "model2.fit(X_train1, y_train1, validation_data=(X_val1, y_val1), epochs=10, callbacks=[cp2])"
      ],
      "execution_count": 25,
      "outputs": [
        {
          "metadata": {
            "tags": null
          },
          "name": "stdout",
          "output_type": "stream",
          "text": [
            "Epoch 1/10\n",
            "1849/1875 [============================>.] - ETA: 0s - loss: 9.5530 - root_mean_squared_error: 3.0908"
          ]
        },
        {
          "metadata": {
            "tags": null
          },
          "name": "stderr",
          "output_type": "stream",
          "text": [
            "WARNING:absl:Found untraced functions such as _jit_compiled_convolution_op, _update_step_xla while saving (showing 2 of 2). These functions will not be directly callable after loading.\n"
          ]
        },
        {
          "metadata": {
            "tags": null
          },
          "name": "stdout",
          "output_type": "stream",
          "text": [
            "1875/1875 [==============================] - 5s 2ms/step - loss: 9.4426 - root_mean_squared_error: 3.0729 - val_loss: 1.0490 - val_root_mean_squared_error: 1.0242\n",
            "Epoch 2/10\n",
            "1861/1875 [============================>.] - ETA: 0s - loss: 1.1028 - root_mean_squared_error: 1.0502"
          ]
        },
        {
          "metadata": {
            "tags": null
          },
          "name": "stderr",
          "output_type": "stream",
          "text": [
            "WARNING:absl:Found untraced functions such as _jit_compiled_convolution_op, _update_step_xla while saving (showing 2 of 2). These functions will not be directly callable after loading.\n"
          ]
        },
        {
          "metadata": {
            "tags": null
          },
          "name": "stdout",
          "output_type": "stream",
          "text": [
            "1875/1875 [==============================] - 5s 3ms/step - loss: 1.1005 - root_mean_squared_error: 1.0490 - val_loss: 0.6592 - val_root_mean_squared_error: 0.8119\n",
            "Epoch 3/10\n",
            "1870/1875 [============================>.] - ETA: 0s - loss: 0.7866 - root_mean_squared_error: 0.8869"
          ]
        },
        {
          "metadata": {
            "tags": null
          },
          "name": "stderr",
          "output_type": "stream",
          "text": [
            "WARNING:absl:Found untraced functions such as _jit_compiled_convolution_op, _update_step_xla while saving (showing 2 of 2). These functions will not be directly callable after loading.\n"
          ]
        },
        {
          "metadata": {
            "tags": null
          },
          "name": "stdout",
          "output_type": "stream",
          "text": [
            "1875/1875 [==============================] - 5s 3ms/step - loss: 0.7865 - root_mean_squared_error: 0.8869 - val_loss: 0.5423 - val_root_mean_squared_error: 0.7364\n",
            "Epoch 4/10\n",
            "1852/1875 [============================>.] - ETA: 0s - loss: 0.7058 - root_mean_squared_error: 0.8401"
          ]
        },
        {
          "metadata": {
            "tags": null
          },
          "name": "stderr",
          "output_type": "stream",
          "text": [
            "WARNING:absl:Found untraced functions such as _jit_compiled_convolution_op, _update_step_xla while saving (showing 2 of 2). These functions will not be directly callable after loading.\n"
          ]
        },
        {
          "metadata": {
            "tags": null
          },
          "name": "stdout",
          "output_type": "stream",
          "text": [
            "1875/1875 [==============================] - 5s 3ms/step - loss: 0.7043 - root_mean_squared_error: 0.8392 - val_loss: 0.5114 - val_root_mean_squared_error: 0.7151\n",
            "Epoch 5/10\n",
            "1856/1875 [============================>.] - ETA: 0s - loss: 0.6892 - root_mean_squared_error: 0.8302"
          ]
        },
        {
          "metadata": {
            "tags": null
          },
          "name": "stderr",
          "output_type": "stream",
          "text": [
            "WARNING:absl:Found untraced functions such as _jit_compiled_convolution_op, _update_step_xla while saving (showing 2 of 2). These functions will not be directly callable after loading.\n"
          ]
        },
        {
          "metadata": {
            "tags": null
          },
          "name": "stdout",
          "output_type": "stream",
          "text": [
            "1875/1875 [==============================] - 5s 3ms/step - loss: 0.6887 - root_mean_squared_error: 0.8299 - val_loss: 0.5050 - val_root_mean_squared_error: 0.7106\n",
            "Epoch 6/10\n",
            "1852/1875 [============================>.] - ETA: 0s - loss: 0.6838 - root_mean_squared_error: 0.8269"
          ]
        },
        {
          "metadata": {
            "tags": null
          },
          "name": "stderr",
          "output_type": "stream",
          "text": [
            "WARNING:absl:Found untraced functions such as _jit_compiled_convolution_op, _update_step_xla while saving (showing 2 of 2). These functions will not be directly callable after loading.\n"
          ]
        },
        {
          "metadata": {
            "tags": null
          },
          "name": "stdout",
          "output_type": "stream",
          "text": [
            "1875/1875 [==============================] - 4s 2ms/step - loss: 0.6835 - root_mean_squared_error: 0.8267 - val_loss: 0.5047 - val_root_mean_squared_error: 0.7105\n",
            "Epoch 7/10\n",
            "1872/1875 [============================>.] - ETA: 0s - loss: 0.6809 - root_mean_squared_error: 0.8252"
          ]
        },
        {
          "metadata": {
            "tags": null
          },
          "name": "stderr",
          "output_type": "stream",
          "text": [
            "WARNING:absl:Found untraced functions such as _jit_compiled_convolution_op, _update_step_xla while saving (showing 2 of 2). These functions will not be directly callable after loading.\n"
          ]
        },
        {
          "metadata": {
            "tags": null
          },
          "name": "stdout",
          "output_type": "stream",
          "text": [
            "1875/1875 [==============================] - 5s 3ms/step - loss: 0.6806 - root_mean_squared_error: 0.8250 - val_loss: 0.5026 - val_root_mean_squared_error: 0.7089\n",
            "Epoch 8/10\n",
            "1864/1875 [============================>.] - ETA: 0s - loss: 0.6800 - root_mean_squared_error: 0.8246"
          ]
        },
        {
          "metadata": {
            "tags": null
          },
          "name": "stderr",
          "output_type": "stream",
          "text": [
            "WARNING:absl:Found untraced functions such as _jit_compiled_convolution_op, _update_step_xla while saving (showing 2 of 2). These functions will not be directly callable after loading.\n"
          ]
        },
        {
          "output_type": "stream",
          "name": "stdout",
          "text": [
            "1875/1875 [==============================] - 5s 2ms/step - loss: 0.6799 - root_mean_squared_error: 0.8246 - val_loss: 0.5000 - val_root_mean_squared_error: 0.7071\n",
            "Epoch 9/10\n",
            "1875/1875 [==============================] - 4s 2ms/step - loss: 0.6752 - root_mean_squared_error: 0.8217 - val_loss: 0.5076 - val_root_mean_squared_error: 0.7125\n",
            "Epoch 10/10\n",
            "1857/1875 [============================>.] - ETA: 0s - loss: 0.6642 - root_mean_squared_error: 0.8150"
          ]
        },
        {
          "output_type": "stream",
          "name": "stderr",
          "text": [
            "WARNING:absl:Found untraced functions such as _jit_compiled_convolution_op, _update_step_xla while saving (showing 2 of 2). These functions will not be directly callable after loading.\n"
          ]
        },
        {
          "output_type": "stream",
          "name": "stdout",
          "text": [
            "\b\b\b\b\b\b\b\b\b\b\b\b\b\b\b\b\b\b\b\b\b\b\b\b\b\b\b\b\b\b\b\b\b\b\b\b\b\b\b\b\b\b\b\b\b\b\b\b\b\b\b\b\b\b\b\b\b\b\b\b\b\b\b\b\b\b\b\b\b\b\b\b\b\b\b\b\b\b\b\b\b\b\b\b\b\b\b\b\b\b\b\b\b\b\b\b\b\b\b\b\b\r1875/1875 [==============================] - 5s 3ms/step - loss: 0.6633 - root_mean_squared_error: 0.8144 - val_loss: 0.4908 - val_root_mean_squared_error: 0.7006\n"
          ]
        },
        {
          "output_type": "execute_result",
          "data": {
            "text/plain": [
              "<keras.callbacks.History at 0x7d4265582080>"
            ]
          },
          "metadata": {},
          "execution_count": 25
        }
      ]
    },
    {
      "cell_type": "code",
      "metadata": {
        "colab": {
          "base_uri": "https://localhost:8080/"
        },
        "id": "_0mmRGP8exPo",
        "outputId": "58072ab9-f2a7-4986-b869-c365f06857f1"
      },
      "source": [
        "model3 = Sequential()\n",
        "model3.add(InputLayer((5, 1)))\n",
        "model3.add(GRU(64))\n",
        "model3.add(Dense(8, 'relu'))\n",
        "model3.add(Dense(1, 'linear'))\n",
        "model3.summary()"
      ],
      "execution_count": 26,
      "outputs": [
        {
          "output_type": "stream",
          "name": "stdout",
          "text": [
            "Model: \"sequential_2\"\n",
            "_________________________________________________________________\n",
            " Layer (type)                Output Shape              Param #   \n",
            "=================================================================\n",
            " gru (GRU)                   (None, 64)                12864     \n",
            "                                                                 \n",
            " dense_4 (Dense)             (None, 8)                 520       \n",
            "                                                                 \n",
            " dense_5 (Dense)             (None, 1)                 9         \n",
            "                                                                 \n",
            "=================================================================\n",
            "Total params: 13,393\n",
            "Trainable params: 13,393\n",
            "Non-trainable params: 0\n",
            "_________________________________________________________________\n"
          ]
        }
      ]
    },
    {
      "cell_type": "code",
      "metadata": {
        "id": "WbQzFWjXfa2i"
      },
      "source": [
        "cp3 = ModelCheckpoint('model3/', save_best_only=True)\n",
        "model3.compile(loss=MeanSquaredError(), optimizer=Adam(learning_rate=0.0001), metrics=[RootMeanSquaredError()])"
      ],
      "execution_count": 27,
      "outputs": []
    },
    {
      "cell_type": "code",
      "metadata": {
        "colab": {
          "base_uri": "https://localhost:8080/"
        },
        "id": "BzB6BUOQfivn",
        "outputId": "f29c838a-3a07-4dfe-b8c2-aee534fbe7a1"
      },
      "source": [
        "model3.fit(X_train1, y_train1, validation_data=(X_val1, y_val1), epochs=10, callbacks=[cp3])"
      ],
      "execution_count": 28,
      "outputs": [
        {
          "output_type": "stream",
          "name": "stdout",
          "text": [
            "Epoch 1/10\n",
            "1874/1875 [============================>.] - ETA: 0s - loss: 26.6269 - root_mean_squared_error: 5.1601"
          ]
        },
        {
          "output_type": "stream",
          "name": "stderr",
          "text": [
            "WARNING:absl:Found untraced functions such as _update_step_xla, gru_cell_layer_call_fn, gru_cell_layer_call_and_return_conditional_losses while saving (showing 3 of 3). These functions will not be directly callable after loading.\n"
          ]
        },
        {
          "output_type": "stream",
          "name": "stdout",
          "text": [
            "\b\b\b\b\b\b\b\b\b\b\b\b\b\b\b\b\b\b\b\b\b\b\b\b\b\b\b\b\b\b\b\b\b\b\b\b\b\b\b\b\b\b\b\b\b\b\b\b\b\b\b\b\b\b\b\b\b\b\b\b\b\b\b\b\b\b\b\b\b\b\b\b\b\b\b\b\b\b\b\b\b\b\b\b\b\b\b\b\b\b\b\b\b\b\b\b\b\b\b\b\b\b\r1875/1875 [==============================] - 16s 8ms/step - loss: 26.6150 - root_mean_squared_error: 5.1590 - val_loss: 1.1339 - val_root_mean_squared_error: 1.0649\n",
            "Epoch 2/10\n",
            "1871/1875 [============================>.] - ETA: 0s - loss: 1.9339 - root_mean_squared_error: 1.3906"
          ]
        },
        {
          "output_type": "stream",
          "name": "stderr",
          "text": [
            "WARNING:absl:Found untraced functions such as _update_step_xla, gru_cell_layer_call_fn, gru_cell_layer_call_and_return_conditional_losses while saving (showing 3 of 3). These functions will not be directly callable after loading.\n"
          ]
        },
        {
          "output_type": "stream",
          "name": "stdout",
          "text": [
            "\b\b\b\b\b\b\b\b\b\b\b\b\b\b\b\b\b\b\b\b\b\b\b\b\b\b\b\b\b\b\b\b\b\b\b\b\b\b\b\b\b\b\b\b\b\b\b\b\b\b\b\b\b\b\b\b\b\b\b\b\b\b\b\b\b\b\b\b\b\b\b\b\b\b\b\b\b\b\b\b\b\b\b\b\b\b\b\b\b\b\b\b\b\b\b\b\b\b\b\b\b\r1875/1875 [==============================] - 15s 8ms/step - loss: 1.9320 - root_mean_squared_error: 1.3900 - val_loss: 0.6527 - val_root_mean_squared_error: 0.8079\n",
            "Epoch 3/10\n",
            "1868/1875 [============================>.] - ETA: 0s - loss: 0.9275 - root_mean_squared_error: 0.9631"
          ]
        },
        {
          "output_type": "stream",
          "name": "stderr",
          "text": [
            "WARNING:absl:Found untraced functions such as _update_step_xla, gru_cell_layer_call_fn, gru_cell_layer_call_and_return_conditional_losses while saving (showing 3 of 3). These functions will not be directly callable after loading.\n"
          ]
        },
        {
          "output_type": "stream",
          "name": "stdout",
          "text": [
            "\b\b\b\b\b\b\b\b\b\b\b\b\b\b\b\b\b\b\b\b\b\b\b\b\b\b\b\b\b\b\b\b\b\b\b\b\b\b\b\b\b\b\b\b\b\b\b\b\b\b\b\b\b\b\b\b\b\b\b\b\b\b\b\b\b\b\b\b\b\b\b\b\b\b\b\b\b\b\b\b\b\b\b\b\b\b\b\b\b\b\b\b\b\b\b\b\b\b\b\b\b\r1875/1875 [==============================] - 14s 8ms/step - loss: 0.9270 - root_mean_squared_error: 0.9628 - val_loss: 0.5458 - val_root_mean_squared_error: 0.7388\n",
            "Epoch 4/10\n",
            "1872/1875 [============================>.] - ETA: 0s - loss: 0.7271 - root_mean_squared_error: 0.8527"
          ]
        },
        {
          "output_type": "stream",
          "name": "stderr",
          "text": [
            "WARNING:absl:Found untraced functions such as _update_step_xla, gru_cell_layer_call_fn, gru_cell_layer_call_and_return_conditional_losses while saving (showing 3 of 3). These functions will not be directly callable after loading.\n"
          ]
        },
        {
          "output_type": "stream",
          "name": "stdout",
          "text": [
            "\b\b\b\b\b\b\b\b\b\b\b\b\b\b\b\b\b\b\b\b\b\b\b\b\b\b\b\b\b\b\b\b\b\b\b\b\b\b\b\b\b\b\b\b\b\b\b\b\b\b\b\b\b\b\b\b\b\b\b\b\b\b\b\b\b\b\b\b\b\b\b\b\b\b\b\b\b\b\b\b\b\b\b\b\b\b\b\b\b\b\b\b\b\b\b\b\b\b\b\b\b\r1875/1875 [==============================] - 15s 8ms/step - loss: 0.7273 - root_mean_squared_error: 0.8528 - val_loss: 0.5120 - val_root_mean_squared_error: 0.7155\n",
            "Epoch 5/10\n",
            "1875/1875 [==============================] - 10s 5ms/step - loss: 0.6782 - root_mean_squared_error: 0.8235 - val_loss: 0.5352 - val_root_mean_squared_error: 0.7316\n",
            "Epoch 6/10\n",
            "1867/1875 [============================>.] - ETA: 0s - loss: 0.6623 - root_mean_squared_error: 0.8138"
          ]
        },
        {
          "output_type": "stream",
          "name": "stderr",
          "text": [
            "WARNING:absl:Found untraced functions such as _update_step_xla, gru_cell_layer_call_fn, gru_cell_layer_call_and_return_conditional_losses while saving (showing 3 of 3). These functions will not be directly callable after loading.\n"
          ]
        },
        {
          "output_type": "stream",
          "name": "stdout",
          "text": [
            "\b\b\b\b\b\b\b\b\b\b\b\b\b\b\b\b\b\b\b\b\b\b\b\b\b\b\b\b\b\b\b\b\b\b\b\b\b\b\b\b\b\b\b\b\b\b\b\b\b\b\b\b\b\b\b\b\b\b\b\b\b\b\b\b\b\b\b\b\b\b\b\b\b\b\b\b\b\b\b\b\b\b\b\b\b\b\b\b\b\b\b\b\b\b\b\b\b\b\b\b\b\r1875/1875 [==============================] - 13s 7ms/step - loss: 0.6616 - root_mean_squared_error: 0.8134 - val_loss: 0.4979 - val_root_mean_squared_error: 0.7056\n",
            "Epoch 7/10\n",
            "1870/1875 [============================>.] - ETA: 0s - loss: 0.6532 - root_mean_squared_error: 0.8082"
          ]
        },
        {
          "output_type": "stream",
          "name": "stderr",
          "text": [
            "WARNING:absl:Found untraced functions such as _update_step_xla, gru_cell_layer_call_fn, gru_cell_layer_call_and_return_conditional_losses while saving (showing 3 of 3). These functions will not be directly callable after loading.\n"
          ]
        },
        {
          "output_type": "stream",
          "name": "stdout",
          "text": [
            "\b\b\b\b\b\b\b\b\b\b\b\b\b\b\b\b\b\b\b\b\b\b\b\b\b\b\b\b\b\b\b\b\b\b\b\b\b\b\b\b\b\b\b\b\b\b\b\b\b\b\b\b\b\b\b\b\b\b\b\b\b\b\b\b\b\b\b\b\b\b\b\b\b\b\b\b\b\b\b\b\b\b\b\b\b\b\b\b\b\b\b\b\b\b\b\b\b\b\b\b\b\r1875/1875 [==============================] - 13s 7ms/step - loss: 0.6530 - root_mean_squared_error: 0.8081 - val_loss: 0.4955 - val_root_mean_squared_error: 0.7039\n",
            "Epoch 8/10\n",
            "1875/1875 [==============================] - 9s 5ms/step - loss: 0.6495 - root_mean_squared_error: 0.8059 - val_loss: 0.4993 - val_root_mean_squared_error: 0.7066\n",
            "Epoch 9/10\n",
            "1872/1875 [============================>.] - ETA: 0s - loss: 0.6460 - root_mean_squared_error: 0.8037"
          ]
        },
        {
          "output_type": "stream",
          "name": "stderr",
          "text": [
            "WARNING:absl:Found untraced functions such as _update_step_xla, gru_cell_layer_call_fn, gru_cell_layer_call_and_return_conditional_losses while saving (showing 3 of 3). These functions will not be directly callable after loading.\n"
          ]
        },
        {
          "output_type": "stream",
          "name": "stdout",
          "text": [
            "\b\b\b\b\b\b\b\b\b\b\b\b\b\b\b\b\b\b\b\b\b\b\b\b\b\b\b\b\b\b\b\b\b\b\b\b\b\b\b\b\b\b\b\b\b\b\b\b\b\b\b\b\b\b\b\b\b\b\b\b\b\b\b\b\b\b\b\b\b\b\b\b\b\b\b\b\b\b\b\b\b\b\b\b\b\b\b\b\b\b\b\b\b\b\b\b\b\b\b\b\b\r1875/1875 [==============================] - 13s 7ms/step - loss: 0.6461 - root_mean_squared_error: 0.8038 - val_loss: 0.4952 - val_root_mean_squared_error: 0.7037\n",
            "Epoch 10/10\n",
            "1875/1875 [==============================] - 9s 5ms/step - loss: 0.6440 - root_mean_squared_error: 0.8025 - val_loss: 0.5443 - val_root_mean_squared_error: 0.7378\n"
          ]
        },
        {
          "output_type": "execute_result",
          "data": {
            "text/plain": [
              "<keras.callbacks.History at 0x7d4282c40280>"
            ]
          },
          "metadata": {},
          "execution_count": 28
        }
      ]
    },
    {
      "cell_type": "code",
      "metadata": {
        "colab": {
          "base_uri": "https://localhost:8080/",
          "height": 455
        },
        "id": "hGpenRH8hcvR",
        "outputId": "f6d8d88d-13fd-46ad-9340-6037ea97eb53"
      },
      "source": [
        "temp_df = pd.DataFrame({'Temperature':temp})\n",
        "temp_df['Seconds'] = temp_df.index.map(pd.Timestamp.timestamp)\n",
        "temp_df"
      ],
      "execution_count": 29,
      "outputs": [
        {
          "output_type": "execute_result",
          "data": {
            "text/plain": [
              "                     Temperature       Seconds\n",
              "Date Time                                     \n",
              "2009-01-01 01:00:00        -8.05  1.230772e+09\n",
              "2009-01-01 02:00:00        -8.88  1.230775e+09\n",
              "2009-01-01 03:00:00        -8.81  1.230779e+09\n",
              "2009-01-01 04:00:00        -9.05  1.230782e+09\n",
              "2009-01-01 05:00:00        -9.63  1.230786e+09\n",
              "...                          ...           ...\n",
              "2016-12-31 19:10:00        -0.98  1.483211e+09\n",
              "2016-12-31 20:10:00        -1.40  1.483215e+09\n",
              "2016-12-31 21:10:00        -2.75  1.483219e+09\n",
              "2016-12-31 22:10:00        -2.89  1.483222e+09\n",
              "2016-12-31 23:10:00        -3.93  1.483226e+09\n",
              "\n",
              "[70091 rows x 2 columns]"
            ],
            "text/html": [
              "\n",
              "  <div id=\"df-dea8f9d5-9ed7-42f6-84c5-b76530238929\" class=\"colab-df-container\">\n",
              "    <div>\n",
              "<style scoped>\n",
              "    .dataframe tbody tr th:only-of-type {\n",
              "        vertical-align: middle;\n",
              "    }\n",
              "\n",
              "    .dataframe tbody tr th {\n",
              "        vertical-align: top;\n",
              "    }\n",
              "\n",
              "    .dataframe thead th {\n",
              "        text-align: right;\n",
              "    }\n",
              "</style>\n",
              "<table border=\"1\" class=\"dataframe\">\n",
              "  <thead>\n",
              "    <tr style=\"text-align: right;\">\n",
              "      <th></th>\n",
              "      <th>Temperature</th>\n",
              "      <th>Seconds</th>\n",
              "    </tr>\n",
              "    <tr>\n",
              "      <th>Date Time</th>\n",
              "      <th></th>\n",
              "      <th></th>\n",
              "    </tr>\n",
              "  </thead>\n",
              "  <tbody>\n",
              "    <tr>\n",
              "      <th>2009-01-01 01:00:00</th>\n",
              "      <td>-8.05</td>\n",
              "      <td>1.230772e+09</td>\n",
              "    </tr>\n",
              "    <tr>\n",
              "      <th>2009-01-01 02:00:00</th>\n",
              "      <td>-8.88</td>\n",
              "      <td>1.230775e+09</td>\n",
              "    </tr>\n",
              "    <tr>\n",
              "      <th>2009-01-01 03:00:00</th>\n",
              "      <td>-8.81</td>\n",
              "      <td>1.230779e+09</td>\n",
              "    </tr>\n",
              "    <tr>\n",
              "      <th>2009-01-01 04:00:00</th>\n",
              "      <td>-9.05</td>\n",
              "      <td>1.230782e+09</td>\n",
              "    </tr>\n",
              "    <tr>\n",
              "      <th>2009-01-01 05:00:00</th>\n",
              "      <td>-9.63</td>\n",
              "      <td>1.230786e+09</td>\n",
              "    </tr>\n",
              "    <tr>\n",
              "      <th>...</th>\n",
              "      <td>...</td>\n",
              "      <td>...</td>\n",
              "    </tr>\n",
              "    <tr>\n",
              "      <th>2016-12-31 19:10:00</th>\n",
              "      <td>-0.98</td>\n",
              "      <td>1.483211e+09</td>\n",
              "    </tr>\n",
              "    <tr>\n",
              "      <th>2016-12-31 20:10:00</th>\n",
              "      <td>-1.40</td>\n",
              "      <td>1.483215e+09</td>\n",
              "    </tr>\n",
              "    <tr>\n",
              "      <th>2016-12-31 21:10:00</th>\n",
              "      <td>-2.75</td>\n",
              "      <td>1.483219e+09</td>\n",
              "    </tr>\n",
              "    <tr>\n",
              "      <th>2016-12-31 22:10:00</th>\n",
              "      <td>-2.89</td>\n",
              "      <td>1.483222e+09</td>\n",
              "    </tr>\n",
              "    <tr>\n",
              "      <th>2016-12-31 23:10:00</th>\n",
              "      <td>-3.93</td>\n",
              "      <td>1.483226e+09</td>\n",
              "    </tr>\n",
              "  </tbody>\n",
              "</table>\n",
              "<p>70091 rows × 2 columns</p>\n",
              "</div>\n",
              "    <div class=\"colab-df-buttons\">\n",
              "\n",
              "  <div class=\"colab-df-container\">\n",
              "    <button class=\"colab-df-convert\" onclick=\"convertToInteractive('df-dea8f9d5-9ed7-42f6-84c5-b76530238929')\"\n",
              "            title=\"Convert this dataframe to an interactive table.\"\n",
              "            style=\"display:none;\">\n",
              "\n",
              "  <svg xmlns=\"http://www.w3.org/2000/svg\" height=\"24px\" viewBox=\"0 -960 960 960\">\n",
              "    <path d=\"M120-120v-720h720v720H120Zm60-500h600v-160H180v160Zm220 220h160v-160H400v160Zm0 220h160v-160H400v160ZM180-400h160v-160H180v160Zm440 0h160v-160H620v160ZM180-180h160v-160H180v160Zm440 0h160v-160H620v160Z\"/>\n",
              "  </svg>\n",
              "    </button>\n",
              "\n",
              "  <style>\n",
              "    .colab-df-container {\n",
              "      display:flex;\n",
              "      gap: 12px;\n",
              "    }\n",
              "\n",
              "    .colab-df-convert {\n",
              "      background-color: #E8F0FE;\n",
              "      border: none;\n",
              "      border-radius: 50%;\n",
              "      cursor: pointer;\n",
              "      display: none;\n",
              "      fill: #1967D2;\n",
              "      height: 32px;\n",
              "      padding: 0 0 0 0;\n",
              "      width: 32px;\n",
              "    }\n",
              "\n",
              "    .colab-df-convert:hover {\n",
              "      background-color: #E2EBFA;\n",
              "      box-shadow: 0px 1px 2px rgba(60, 64, 67, 0.3), 0px 1px 3px 1px rgba(60, 64, 67, 0.15);\n",
              "      fill: #174EA6;\n",
              "    }\n",
              "\n",
              "    .colab-df-buttons div {\n",
              "      margin-bottom: 4px;\n",
              "    }\n",
              "\n",
              "    [theme=dark] .colab-df-convert {\n",
              "      background-color: #3B4455;\n",
              "      fill: #D2E3FC;\n",
              "    }\n",
              "\n",
              "    [theme=dark] .colab-df-convert:hover {\n",
              "      background-color: #434B5C;\n",
              "      box-shadow: 0px 1px 3px 1px rgba(0, 0, 0, 0.15);\n",
              "      filter: drop-shadow(0px 1px 2px rgba(0, 0, 0, 0.3));\n",
              "      fill: #FFFFFF;\n",
              "    }\n",
              "  </style>\n",
              "\n",
              "    <script>\n",
              "      const buttonEl =\n",
              "        document.querySelector('#df-dea8f9d5-9ed7-42f6-84c5-b76530238929 button.colab-df-convert');\n",
              "      buttonEl.style.display =\n",
              "        google.colab.kernel.accessAllowed ? 'block' : 'none';\n",
              "\n",
              "      async function convertToInteractive(key) {\n",
              "        const element = document.querySelector('#df-dea8f9d5-9ed7-42f6-84c5-b76530238929');\n",
              "        const dataTable =\n",
              "          await google.colab.kernel.invokeFunction('convertToInteractive',\n",
              "                                                    [key], {});\n",
              "        if (!dataTable) return;\n",
              "\n",
              "        const docLinkHtml = 'Like what you see? Visit the ' +\n",
              "          '<a target=\"_blank\" href=https://colab.research.google.com/notebooks/data_table.ipynb>data table notebook</a>'\n",
              "          + ' to learn more about interactive tables.';\n",
              "        element.innerHTML = '';\n",
              "        dataTable['output_type'] = 'display_data';\n",
              "        await google.colab.output.renderOutput(dataTable, element);\n",
              "        const docLink = document.createElement('div');\n",
              "        docLink.innerHTML = docLinkHtml;\n",
              "        element.appendChild(docLink);\n",
              "      }\n",
              "    </script>\n",
              "  </div>\n",
              "\n",
              "\n",
              "<div id=\"df-ffe15eea-e8ec-41d6-8c25-99939fda4435\">\n",
              "  <button class=\"colab-df-quickchart\" onclick=\"quickchart('df-ffe15eea-e8ec-41d6-8c25-99939fda4435')\"\n",
              "            title=\"Suggest charts.\"\n",
              "            style=\"display:none;\">\n",
              "\n",
              "<svg xmlns=\"http://www.w3.org/2000/svg\" height=\"24px\"viewBox=\"0 0 24 24\"\n",
              "     width=\"24px\">\n",
              "    <g>\n",
              "        <path d=\"M19 3H5c-1.1 0-2 .9-2 2v14c0 1.1.9 2 2 2h14c1.1 0 2-.9 2-2V5c0-1.1-.9-2-2-2zM9 17H7v-7h2v7zm4 0h-2V7h2v10zm4 0h-2v-4h2v4z\"/>\n",
              "    </g>\n",
              "</svg>\n",
              "  </button>\n",
              "\n",
              "<style>\n",
              "  .colab-df-quickchart {\n",
              "    background-color: #E8F0FE;\n",
              "    border: none;\n",
              "    border-radius: 50%;\n",
              "    cursor: pointer;\n",
              "    display: none;\n",
              "    fill: #1967D2;\n",
              "    height: 32px;\n",
              "    padding: 0 0 0 0;\n",
              "    width: 32px;\n",
              "  }\n",
              "\n",
              "  .colab-df-quickchart:hover {\n",
              "    background-color: #E2EBFA;\n",
              "    box-shadow: 0px 1px 2px rgba(60, 64, 67, 0.3), 0px 1px 3px 1px rgba(60, 64, 67, 0.15);\n",
              "    fill: #174EA6;\n",
              "  }\n",
              "\n",
              "  [theme=dark] .colab-df-quickchart {\n",
              "    background-color: #3B4455;\n",
              "    fill: #D2E3FC;\n",
              "  }\n",
              "\n",
              "  [theme=dark] .colab-df-quickchart:hover {\n",
              "    background-color: #434B5C;\n",
              "    box-shadow: 0px 1px 3px 1px rgba(0, 0, 0, 0.15);\n",
              "    filter: drop-shadow(0px 1px 2px rgba(0, 0, 0, 0.3));\n",
              "    fill: #FFFFFF;\n",
              "  }\n",
              "</style>\n",
              "\n",
              "  <script>\n",
              "    async function quickchart(key) {\n",
              "      const charts = await google.colab.kernel.invokeFunction(\n",
              "          'suggestCharts', [key], {});\n",
              "    }\n",
              "    (() => {\n",
              "      let quickchartButtonEl =\n",
              "        document.querySelector('#df-ffe15eea-e8ec-41d6-8c25-99939fda4435 button');\n",
              "      quickchartButtonEl.style.display =\n",
              "        google.colab.kernel.accessAllowed ? 'block' : 'none';\n",
              "    })();\n",
              "  </script>\n",
              "</div>\n",
              "    </div>\n",
              "  </div>\n"
            ]
          },
          "metadata": {},
          "execution_count": 29
        }
      ]
    },
    {
      "cell_type": "code",
      "metadata": {
        "colab": {
          "base_uri": "https://localhost:8080/",
          "height": 238
        },
        "id": "J-YOd8tLhpE0",
        "outputId": "0f2eaf85-27f0-4c48-ec89-9e5f6488cc11"
      },
      "source": [
        "day = 60*60*24\n",
        "year = 365.2425*day\n",
        "\n",
        "temp_df['Day sin'] = np.sin(temp_df['Seconds'] * (2* np.pi / day))\n",
        "temp_df['Day cos'] = np.cos(temp_df['Seconds'] * (2 * np.pi / day))\n",
        "temp_df['Year sin'] = np.sin(temp_df['Seconds'] * (2 * np.pi / year))\n",
        "temp_df['Year cos'] = np.cos(temp_df['Seconds'] * (2 * np.pi / year))\n",
        "temp_df.head()"
      ],
      "execution_count": 30,
      "outputs": [
        {
          "output_type": "execute_result",
          "data": {
            "text/plain": [
              "                     Temperature       Seconds   Day sin   Day cos  Year sin  \\\n",
              "Date Time                                                                      \n",
              "2009-01-01 01:00:00        -8.05  1.230772e+09  0.258819  0.965926  0.010049   \n",
              "2009-01-01 02:00:00        -8.88  1.230775e+09  0.500000  0.866025  0.010766   \n",
              "2009-01-01 03:00:00        -8.81  1.230779e+09  0.707107  0.707107  0.011483   \n",
              "2009-01-01 04:00:00        -9.05  1.230782e+09  0.866025  0.500000  0.012199   \n",
              "2009-01-01 05:00:00        -9.63  1.230786e+09  0.965926  0.258819  0.012916   \n",
              "\n",
              "                     Year cos  \n",
              "Date Time                      \n",
              "2009-01-01 01:00:00  0.999950  \n",
              "2009-01-01 02:00:00  0.999942  \n",
              "2009-01-01 03:00:00  0.999934  \n",
              "2009-01-01 04:00:00  0.999926  \n",
              "2009-01-01 05:00:00  0.999917  "
            ],
            "text/html": [
              "\n",
              "  <div id=\"df-abdbd1a6-7499-41f8-9996-c52b96907255\" class=\"colab-df-container\">\n",
              "    <div>\n",
              "<style scoped>\n",
              "    .dataframe tbody tr th:only-of-type {\n",
              "        vertical-align: middle;\n",
              "    }\n",
              "\n",
              "    .dataframe tbody tr th {\n",
              "        vertical-align: top;\n",
              "    }\n",
              "\n",
              "    .dataframe thead th {\n",
              "        text-align: right;\n",
              "    }\n",
              "</style>\n",
              "<table border=\"1\" class=\"dataframe\">\n",
              "  <thead>\n",
              "    <tr style=\"text-align: right;\">\n",
              "      <th></th>\n",
              "      <th>Temperature</th>\n",
              "      <th>Seconds</th>\n",
              "      <th>Day sin</th>\n",
              "      <th>Day cos</th>\n",
              "      <th>Year sin</th>\n",
              "      <th>Year cos</th>\n",
              "    </tr>\n",
              "    <tr>\n",
              "      <th>Date Time</th>\n",
              "      <th></th>\n",
              "      <th></th>\n",
              "      <th></th>\n",
              "      <th></th>\n",
              "      <th></th>\n",
              "      <th></th>\n",
              "    </tr>\n",
              "  </thead>\n",
              "  <tbody>\n",
              "    <tr>\n",
              "      <th>2009-01-01 01:00:00</th>\n",
              "      <td>-8.05</td>\n",
              "      <td>1.230772e+09</td>\n",
              "      <td>0.258819</td>\n",
              "      <td>0.965926</td>\n",
              "      <td>0.010049</td>\n",
              "      <td>0.999950</td>\n",
              "    </tr>\n",
              "    <tr>\n",
              "      <th>2009-01-01 02:00:00</th>\n",
              "      <td>-8.88</td>\n",
              "      <td>1.230775e+09</td>\n",
              "      <td>0.500000</td>\n",
              "      <td>0.866025</td>\n",
              "      <td>0.010766</td>\n",
              "      <td>0.999942</td>\n",
              "    </tr>\n",
              "    <tr>\n",
              "      <th>2009-01-01 03:00:00</th>\n",
              "      <td>-8.81</td>\n",
              "      <td>1.230779e+09</td>\n",
              "      <td>0.707107</td>\n",
              "      <td>0.707107</td>\n",
              "      <td>0.011483</td>\n",
              "      <td>0.999934</td>\n",
              "    </tr>\n",
              "    <tr>\n",
              "      <th>2009-01-01 04:00:00</th>\n",
              "      <td>-9.05</td>\n",
              "      <td>1.230782e+09</td>\n",
              "      <td>0.866025</td>\n",
              "      <td>0.500000</td>\n",
              "      <td>0.012199</td>\n",
              "      <td>0.999926</td>\n",
              "    </tr>\n",
              "    <tr>\n",
              "      <th>2009-01-01 05:00:00</th>\n",
              "      <td>-9.63</td>\n",
              "      <td>1.230786e+09</td>\n",
              "      <td>0.965926</td>\n",
              "      <td>0.258819</td>\n",
              "      <td>0.012916</td>\n",
              "      <td>0.999917</td>\n",
              "    </tr>\n",
              "  </tbody>\n",
              "</table>\n",
              "</div>\n",
              "    <div class=\"colab-df-buttons\">\n",
              "\n",
              "  <div class=\"colab-df-container\">\n",
              "    <button class=\"colab-df-convert\" onclick=\"convertToInteractive('df-abdbd1a6-7499-41f8-9996-c52b96907255')\"\n",
              "            title=\"Convert this dataframe to an interactive table.\"\n",
              "            style=\"display:none;\">\n",
              "\n",
              "  <svg xmlns=\"http://www.w3.org/2000/svg\" height=\"24px\" viewBox=\"0 -960 960 960\">\n",
              "    <path d=\"M120-120v-720h720v720H120Zm60-500h600v-160H180v160Zm220 220h160v-160H400v160Zm0 220h160v-160H400v160ZM180-400h160v-160H180v160Zm440 0h160v-160H620v160ZM180-180h160v-160H180v160Zm440 0h160v-160H620v160Z\"/>\n",
              "  </svg>\n",
              "    </button>\n",
              "\n",
              "  <style>\n",
              "    .colab-df-container {\n",
              "      display:flex;\n",
              "      gap: 12px;\n",
              "    }\n",
              "\n",
              "    .colab-df-convert {\n",
              "      background-color: #E8F0FE;\n",
              "      border: none;\n",
              "      border-radius: 50%;\n",
              "      cursor: pointer;\n",
              "      display: none;\n",
              "      fill: #1967D2;\n",
              "      height: 32px;\n",
              "      padding: 0 0 0 0;\n",
              "      width: 32px;\n",
              "    }\n",
              "\n",
              "    .colab-df-convert:hover {\n",
              "      background-color: #E2EBFA;\n",
              "      box-shadow: 0px 1px 2px rgba(60, 64, 67, 0.3), 0px 1px 3px 1px rgba(60, 64, 67, 0.15);\n",
              "      fill: #174EA6;\n",
              "    }\n",
              "\n",
              "    .colab-df-buttons div {\n",
              "      margin-bottom: 4px;\n",
              "    }\n",
              "\n",
              "    [theme=dark] .colab-df-convert {\n",
              "      background-color: #3B4455;\n",
              "      fill: #D2E3FC;\n",
              "    }\n",
              "\n",
              "    [theme=dark] .colab-df-convert:hover {\n",
              "      background-color: #434B5C;\n",
              "      box-shadow: 0px 1px 3px 1px rgba(0, 0, 0, 0.15);\n",
              "      filter: drop-shadow(0px 1px 2px rgba(0, 0, 0, 0.3));\n",
              "      fill: #FFFFFF;\n",
              "    }\n",
              "  </style>\n",
              "\n",
              "    <script>\n",
              "      const buttonEl =\n",
              "        document.querySelector('#df-abdbd1a6-7499-41f8-9996-c52b96907255 button.colab-df-convert');\n",
              "      buttonEl.style.display =\n",
              "        google.colab.kernel.accessAllowed ? 'block' : 'none';\n",
              "\n",
              "      async function convertToInteractive(key) {\n",
              "        const element = document.querySelector('#df-abdbd1a6-7499-41f8-9996-c52b96907255');\n",
              "        const dataTable =\n",
              "          await google.colab.kernel.invokeFunction('convertToInteractive',\n",
              "                                                    [key], {});\n",
              "        if (!dataTable) return;\n",
              "\n",
              "        const docLinkHtml = 'Like what you see? Visit the ' +\n",
              "          '<a target=\"_blank\" href=https://colab.research.google.com/notebooks/data_table.ipynb>data table notebook</a>'\n",
              "          + ' to learn more about interactive tables.';\n",
              "        element.innerHTML = '';\n",
              "        dataTable['output_type'] = 'display_data';\n",
              "        await google.colab.output.renderOutput(dataTable, element);\n",
              "        const docLink = document.createElement('div');\n",
              "        docLink.innerHTML = docLinkHtml;\n",
              "        element.appendChild(docLink);\n",
              "      }\n",
              "    </script>\n",
              "  </div>\n",
              "\n",
              "\n",
              "<div id=\"df-d6d19ac0-5707-4cc9-b818-77e610464241\">\n",
              "  <button class=\"colab-df-quickchart\" onclick=\"quickchart('df-d6d19ac0-5707-4cc9-b818-77e610464241')\"\n",
              "            title=\"Suggest charts.\"\n",
              "            style=\"display:none;\">\n",
              "\n",
              "<svg xmlns=\"http://www.w3.org/2000/svg\" height=\"24px\"viewBox=\"0 0 24 24\"\n",
              "     width=\"24px\">\n",
              "    <g>\n",
              "        <path d=\"M19 3H5c-1.1 0-2 .9-2 2v14c0 1.1.9 2 2 2h14c1.1 0 2-.9 2-2V5c0-1.1-.9-2-2-2zM9 17H7v-7h2v7zm4 0h-2V7h2v10zm4 0h-2v-4h2v4z\"/>\n",
              "    </g>\n",
              "</svg>\n",
              "  </button>\n",
              "\n",
              "<style>\n",
              "  .colab-df-quickchart {\n",
              "    background-color: #E8F0FE;\n",
              "    border: none;\n",
              "    border-radius: 50%;\n",
              "    cursor: pointer;\n",
              "    display: none;\n",
              "    fill: #1967D2;\n",
              "    height: 32px;\n",
              "    padding: 0 0 0 0;\n",
              "    width: 32px;\n",
              "  }\n",
              "\n",
              "  .colab-df-quickchart:hover {\n",
              "    background-color: #E2EBFA;\n",
              "    box-shadow: 0px 1px 2px rgba(60, 64, 67, 0.3), 0px 1px 3px 1px rgba(60, 64, 67, 0.15);\n",
              "    fill: #174EA6;\n",
              "  }\n",
              "\n",
              "  [theme=dark] .colab-df-quickchart {\n",
              "    background-color: #3B4455;\n",
              "    fill: #D2E3FC;\n",
              "  }\n",
              "\n",
              "  [theme=dark] .colab-df-quickchart:hover {\n",
              "    background-color: #434B5C;\n",
              "    box-shadow: 0px 1px 3px 1px rgba(0, 0, 0, 0.15);\n",
              "    filter: drop-shadow(0px 1px 2px rgba(0, 0, 0, 0.3));\n",
              "    fill: #FFFFFF;\n",
              "  }\n",
              "</style>\n",
              "\n",
              "  <script>\n",
              "    async function quickchart(key) {\n",
              "      const charts = await google.colab.kernel.invokeFunction(\n",
              "          'suggestCharts', [key], {});\n",
              "    }\n",
              "    (() => {\n",
              "      let quickchartButtonEl =\n",
              "        document.querySelector('#df-d6d19ac0-5707-4cc9-b818-77e610464241 button');\n",
              "      quickchartButtonEl.style.display =\n",
              "        google.colab.kernel.accessAllowed ? 'block' : 'none';\n",
              "    })();\n",
              "  </script>\n",
              "</div>\n",
              "    </div>\n",
              "  </div>\n"
            ]
          },
          "metadata": {},
          "execution_count": 30
        }
      ]
    },
    {
      "cell_type": "code",
      "metadata": {
        "colab": {
          "base_uri": "https://localhost:8080/",
          "height": 238
        },
        "id": "KKF-LfUVjDpi",
        "outputId": "208e9c3d-33e6-452a-d655-a9ddd3a544fd"
      },
      "source": [
        "temp_df = temp_df.drop('Seconds', axis=1)\n",
        "temp_df.head()"
      ],
      "execution_count": 31,
      "outputs": [
        {
          "output_type": "execute_result",
          "data": {
            "text/plain": [
              "                     Temperature   Day sin   Day cos  Year sin  Year cos\n",
              "Date Time                                                               \n",
              "2009-01-01 01:00:00        -8.05  0.258819  0.965926  0.010049  0.999950\n",
              "2009-01-01 02:00:00        -8.88  0.500000  0.866025  0.010766  0.999942\n",
              "2009-01-01 03:00:00        -8.81  0.707107  0.707107  0.011483  0.999934\n",
              "2009-01-01 04:00:00        -9.05  0.866025  0.500000  0.012199  0.999926\n",
              "2009-01-01 05:00:00        -9.63  0.965926  0.258819  0.012916  0.999917"
            ],
            "text/html": [
              "\n",
              "  <div id=\"df-d1373e88-d05b-490c-a69b-fe635b3fa712\" class=\"colab-df-container\">\n",
              "    <div>\n",
              "<style scoped>\n",
              "    .dataframe tbody tr th:only-of-type {\n",
              "        vertical-align: middle;\n",
              "    }\n",
              "\n",
              "    .dataframe tbody tr th {\n",
              "        vertical-align: top;\n",
              "    }\n",
              "\n",
              "    .dataframe thead th {\n",
              "        text-align: right;\n",
              "    }\n",
              "</style>\n",
              "<table border=\"1\" class=\"dataframe\">\n",
              "  <thead>\n",
              "    <tr style=\"text-align: right;\">\n",
              "      <th></th>\n",
              "      <th>Temperature</th>\n",
              "      <th>Day sin</th>\n",
              "      <th>Day cos</th>\n",
              "      <th>Year sin</th>\n",
              "      <th>Year cos</th>\n",
              "    </tr>\n",
              "    <tr>\n",
              "      <th>Date Time</th>\n",
              "      <th></th>\n",
              "      <th></th>\n",
              "      <th></th>\n",
              "      <th></th>\n",
              "      <th></th>\n",
              "    </tr>\n",
              "  </thead>\n",
              "  <tbody>\n",
              "    <tr>\n",
              "      <th>2009-01-01 01:00:00</th>\n",
              "      <td>-8.05</td>\n",
              "      <td>0.258819</td>\n",
              "      <td>0.965926</td>\n",
              "      <td>0.010049</td>\n",
              "      <td>0.999950</td>\n",
              "    </tr>\n",
              "    <tr>\n",
              "      <th>2009-01-01 02:00:00</th>\n",
              "      <td>-8.88</td>\n",
              "      <td>0.500000</td>\n",
              "      <td>0.866025</td>\n",
              "      <td>0.010766</td>\n",
              "      <td>0.999942</td>\n",
              "    </tr>\n",
              "    <tr>\n",
              "      <th>2009-01-01 03:00:00</th>\n",
              "      <td>-8.81</td>\n",
              "      <td>0.707107</td>\n",
              "      <td>0.707107</td>\n",
              "      <td>0.011483</td>\n",
              "      <td>0.999934</td>\n",
              "    </tr>\n",
              "    <tr>\n",
              "      <th>2009-01-01 04:00:00</th>\n",
              "      <td>-9.05</td>\n",
              "      <td>0.866025</td>\n",
              "      <td>0.500000</td>\n",
              "      <td>0.012199</td>\n",
              "      <td>0.999926</td>\n",
              "    </tr>\n",
              "    <tr>\n",
              "      <th>2009-01-01 05:00:00</th>\n",
              "      <td>-9.63</td>\n",
              "      <td>0.965926</td>\n",
              "      <td>0.258819</td>\n",
              "      <td>0.012916</td>\n",
              "      <td>0.999917</td>\n",
              "    </tr>\n",
              "  </tbody>\n",
              "</table>\n",
              "</div>\n",
              "    <div class=\"colab-df-buttons\">\n",
              "\n",
              "  <div class=\"colab-df-container\">\n",
              "    <button class=\"colab-df-convert\" onclick=\"convertToInteractive('df-d1373e88-d05b-490c-a69b-fe635b3fa712')\"\n",
              "            title=\"Convert this dataframe to an interactive table.\"\n",
              "            style=\"display:none;\">\n",
              "\n",
              "  <svg xmlns=\"http://www.w3.org/2000/svg\" height=\"24px\" viewBox=\"0 -960 960 960\">\n",
              "    <path d=\"M120-120v-720h720v720H120Zm60-500h600v-160H180v160Zm220 220h160v-160H400v160Zm0 220h160v-160H400v160ZM180-400h160v-160H180v160Zm440 0h160v-160H620v160ZM180-180h160v-160H180v160Zm440 0h160v-160H620v160Z\"/>\n",
              "  </svg>\n",
              "    </button>\n",
              "\n",
              "  <style>\n",
              "    .colab-df-container {\n",
              "      display:flex;\n",
              "      gap: 12px;\n",
              "    }\n",
              "\n",
              "    .colab-df-convert {\n",
              "      background-color: #E8F0FE;\n",
              "      border: none;\n",
              "      border-radius: 50%;\n",
              "      cursor: pointer;\n",
              "      display: none;\n",
              "      fill: #1967D2;\n",
              "      height: 32px;\n",
              "      padding: 0 0 0 0;\n",
              "      width: 32px;\n",
              "    }\n",
              "\n",
              "    .colab-df-convert:hover {\n",
              "      background-color: #E2EBFA;\n",
              "      box-shadow: 0px 1px 2px rgba(60, 64, 67, 0.3), 0px 1px 3px 1px rgba(60, 64, 67, 0.15);\n",
              "      fill: #174EA6;\n",
              "    }\n",
              "\n",
              "    .colab-df-buttons div {\n",
              "      margin-bottom: 4px;\n",
              "    }\n",
              "\n",
              "    [theme=dark] .colab-df-convert {\n",
              "      background-color: #3B4455;\n",
              "      fill: #D2E3FC;\n",
              "    }\n",
              "\n",
              "    [theme=dark] .colab-df-convert:hover {\n",
              "      background-color: #434B5C;\n",
              "      box-shadow: 0px 1px 3px 1px rgba(0, 0, 0, 0.15);\n",
              "      filter: drop-shadow(0px 1px 2px rgba(0, 0, 0, 0.3));\n",
              "      fill: #FFFFFF;\n",
              "    }\n",
              "  </style>\n",
              "\n",
              "    <script>\n",
              "      const buttonEl =\n",
              "        document.querySelector('#df-d1373e88-d05b-490c-a69b-fe635b3fa712 button.colab-df-convert');\n",
              "      buttonEl.style.display =\n",
              "        google.colab.kernel.accessAllowed ? 'block' : 'none';\n",
              "\n",
              "      async function convertToInteractive(key) {\n",
              "        const element = document.querySelector('#df-d1373e88-d05b-490c-a69b-fe635b3fa712');\n",
              "        const dataTable =\n",
              "          await google.colab.kernel.invokeFunction('convertToInteractive',\n",
              "                                                    [key], {});\n",
              "        if (!dataTable) return;\n",
              "\n",
              "        const docLinkHtml = 'Like what you see? Visit the ' +\n",
              "          '<a target=\"_blank\" href=https://colab.research.google.com/notebooks/data_table.ipynb>data table notebook</a>'\n",
              "          + ' to learn more about interactive tables.';\n",
              "        element.innerHTML = '';\n",
              "        dataTable['output_type'] = 'display_data';\n",
              "        await google.colab.output.renderOutput(dataTable, element);\n",
              "        const docLink = document.createElement('div');\n",
              "        docLink.innerHTML = docLinkHtml;\n",
              "        element.appendChild(docLink);\n",
              "      }\n",
              "    </script>\n",
              "  </div>\n",
              "\n",
              "\n",
              "<div id=\"df-0289115c-973f-41bc-a4b7-5e619323b372\">\n",
              "  <button class=\"colab-df-quickchart\" onclick=\"quickchart('df-0289115c-973f-41bc-a4b7-5e619323b372')\"\n",
              "            title=\"Suggest charts.\"\n",
              "            style=\"display:none;\">\n",
              "\n",
              "<svg xmlns=\"http://www.w3.org/2000/svg\" height=\"24px\"viewBox=\"0 0 24 24\"\n",
              "     width=\"24px\">\n",
              "    <g>\n",
              "        <path d=\"M19 3H5c-1.1 0-2 .9-2 2v14c0 1.1.9 2 2 2h14c1.1 0 2-.9 2-2V5c0-1.1-.9-2-2-2zM9 17H7v-7h2v7zm4 0h-2V7h2v10zm4 0h-2v-4h2v4z\"/>\n",
              "    </g>\n",
              "</svg>\n",
              "  </button>\n",
              "\n",
              "<style>\n",
              "  .colab-df-quickchart {\n",
              "    background-color: #E8F0FE;\n",
              "    border: none;\n",
              "    border-radius: 50%;\n",
              "    cursor: pointer;\n",
              "    display: none;\n",
              "    fill: #1967D2;\n",
              "    height: 32px;\n",
              "    padding: 0 0 0 0;\n",
              "    width: 32px;\n",
              "  }\n",
              "\n",
              "  .colab-df-quickchart:hover {\n",
              "    background-color: #E2EBFA;\n",
              "    box-shadow: 0px 1px 2px rgba(60, 64, 67, 0.3), 0px 1px 3px 1px rgba(60, 64, 67, 0.15);\n",
              "    fill: #174EA6;\n",
              "  }\n",
              "\n",
              "  [theme=dark] .colab-df-quickchart {\n",
              "    background-color: #3B4455;\n",
              "    fill: #D2E3FC;\n",
              "  }\n",
              "\n",
              "  [theme=dark] .colab-df-quickchart:hover {\n",
              "    background-color: #434B5C;\n",
              "    box-shadow: 0px 1px 3px 1px rgba(0, 0, 0, 0.15);\n",
              "    filter: drop-shadow(0px 1px 2px rgba(0, 0, 0, 0.3));\n",
              "    fill: #FFFFFF;\n",
              "  }\n",
              "</style>\n",
              "\n",
              "  <script>\n",
              "    async function quickchart(key) {\n",
              "      const charts = await google.colab.kernel.invokeFunction(\n",
              "          'suggestCharts', [key], {});\n",
              "    }\n",
              "    (() => {\n",
              "      let quickchartButtonEl =\n",
              "        document.querySelector('#df-0289115c-973f-41bc-a4b7-5e619323b372 button');\n",
              "      quickchartButtonEl.style.display =\n",
              "        google.colab.kernel.accessAllowed ? 'block' : 'none';\n",
              "    })();\n",
              "  </script>\n",
              "</div>\n",
              "    </div>\n",
              "  </div>\n"
            ]
          },
          "metadata": {},
          "execution_count": 31
        }
      ]
    },
    {
      "cell_type": "code",
      "metadata": {
        "id": "Db8BJQONjbAT"
      },
      "source": [
        "def df_to_X_y2(df, window_size=6):\n",
        "  df_as_np = df.to_numpy()\n",
        "  X = []\n",
        "  y = []\n",
        "  for i in range(len(df_as_np)-window_size):\n",
        "    row = [r for r in df_as_np[i:i+window_size]]\n",
        "    X.append(row)\n",
        "    label = df_as_np[i+window_size][0]\n",
        "    y.append(label)\n",
        "  return np.array(X), np.array(y)"
      ],
      "execution_count": 32,
      "outputs": []
    },
    {
      "cell_type": "code",
      "metadata": {
        "colab": {
          "base_uri": "https://localhost:8080/"
        },
        "id": "eJhF1cIDleQ1",
        "outputId": "20c3aa2e-f399-4551-affc-909770e4db41"
      },
      "source": [
        "X2, y2 = df_to_X_y2(temp_df)\n",
        "X2.shape, y2.shape"
      ],
      "execution_count": 33,
      "outputs": [
        {
          "output_type": "execute_result",
          "data": {
            "text/plain": [
              "((70085, 6, 5), (70085,))"
            ]
          },
          "metadata": {},
          "execution_count": 33
        }
      ]
    },
    {
      "cell_type": "code",
      "metadata": {
        "colab": {
          "base_uri": "https://localhost:8080/"
        },
        "id": "FMOArQgyoTnq",
        "outputId": "3ec8e64f-7e4c-4649-88c6-fd7915c7f9a1"
      },
      "source": [
        "X2_train, y2_train = X2[:60000], y2[:60000]\n",
        "X2_val, y2_val = X2[60000:65000], y2[60000:65000]\n",
        "X2_test, y2_test = X2[65000:], y2[65000:]\n",
        "X2_train.shape, y2_train.shape, X2_val.shape, y2_val.shape, X2_test.shape, y2_test.shape"
      ],
      "execution_count": 34,
      "outputs": [
        {
          "output_type": "execute_result",
          "data": {
            "text/plain": [
              "((60000, 6, 5), (60000,), (5000, 6, 5), (5000,), (5085, 6, 5), (5085,))"
            ]
          },
          "metadata": {},
          "execution_count": 34
        }
      ]
    },
    {
      "cell_type": "code",
      "metadata": {
        "id": "887KpvYwpkZq"
      },
      "source": [
        "temp_training_mean = np.mean(X2_train[:, :, 0])\n",
        "temp_training_std = np.std(X2_train[:, :, 0])\n",
        "\n",
        "def preprocess(X):\n",
        "  X[:, :, 0] = (X[:, :, 0] - temp_training_mean) / temp_training_std\n",
        "  return X"
      ],
      "execution_count": 35,
      "outputs": []
    },
    {
      "cell_type": "code",
      "metadata": {
        "id": "z-Kaf4KTqSEV",
        "colab": {
          "base_uri": "https://localhost:8080/"
        },
        "outputId": "3ea9fbc0-cc35-4c28-9c2f-a8bf794eff40"
      },
      "source": [
        "preprocess(X2_train)\n",
        "preprocess(X2_val)\n",
        "preprocess(X2_test)"
      ],
      "execution_count": 36,
      "outputs": [
        {
          "output_type": "execute_result",
          "data": {
            "text/plain": [
              "array([[[ 1.04009706e+00, -9.65925826e-01,  2.58819045e-01,\n",
              "          5.22877889e-01, -8.52407598e-01],\n",
              "        [ 9.90732794e-01, -8.66025404e-01,  5.00000000e-01,\n",
              "          5.22266764e-01, -8.52782169e-01],\n",
              "        [ 8.49692028e-01, -7.07106781e-01,  7.07106781e-01,\n",
              "          5.21655371e-01, -8.53156301e-01],\n",
              "        [ 7.55664851e-01, -5.00000000e-01,  8.66025404e-01,\n",
              "          5.21043709e-01, -8.53529995e-01],\n",
              "        [ 6.66339032e-01, -2.58819045e-01,  9.65925826e-01,\n",
              "          5.20431780e-01, -8.53903251e-01],\n",
              "        [ 5.37051663e-01, -7.16474371e-12,  1.00000000e+00,\n",
              "          5.19819584e-01, -8.54276068e-01]],\n",
              "\n",
              "       [[ 9.90732794e-01, -8.66025404e-01,  5.00000000e-01,\n",
              "          5.22266764e-01, -8.52782169e-01],\n",
              "        [ 8.49692028e-01, -7.07106781e-01,  7.07106781e-01,\n",
              "          5.21655371e-01, -8.53156301e-01],\n",
              "        [ 7.55664851e-01, -5.00000000e-01,  8.66025404e-01,\n",
              "          5.21043709e-01, -8.53529995e-01],\n",
              "        [ 6.66339032e-01, -2.58819045e-01,  9.65925826e-01,\n",
              "          5.20431780e-01, -8.53903251e-01],\n",
              "        [ 5.37051663e-01, -7.16474371e-12,  1.00000000e+00,\n",
              "          5.19819584e-01, -8.54276068e-01],\n",
              "        [ 4.74758658e-01,  2.58819045e-01,  9.65925826e-01,\n",
              "          5.19207120e-01, -8.54648446e-01]],\n",
              "\n",
              "       [[ 8.49692028e-01, -7.07106781e-01,  7.07106781e-01,\n",
              "          5.21655371e-01, -8.53156301e-01],\n",
              "        [ 7.55664851e-01, -5.00000000e-01,  8.66025404e-01,\n",
              "          5.21043709e-01, -8.53529995e-01],\n",
              "        [ 6.66339032e-01, -2.58819045e-01,  9.65925826e-01,\n",
              "          5.20431780e-01, -8.53903251e-01],\n",
              "        [ 5.37051663e-01, -7.16474371e-12,  1.00000000e+00,\n",
              "          5.19819584e-01, -8.54276068e-01],\n",
              "        [ 4.74758658e-01,  2.58819045e-01,  9.65925826e-01,\n",
              "          5.19207120e-01, -8.54648446e-01],\n",
              "        [ 4.12465653e-01,  5.00000000e-01,  8.66025404e-01,\n",
              "          5.18594390e-01, -8.55020385e-01]],\n",
              "\n",
              "       ...,\n",
              "\n",
              "       [[-5.23104762e-01, -7.37277337e-01, -6.75590208e-01,\n",
              "          4.03308458e-03,  9.99991867e-01],\n",
              "        [-8.20465711e-01, -8.87010833e-01, -4.61748613e-01,\n",
              "          4.74986003e-03,  9.99988719e-01],\n",
              "        [-9.55629779e-01, -9.76296007e-01, -2.16439614e-01,\n",
              "          5.46663304e-03,  9.99985058e-01],\n",
              "        [-1.15661287e+00, -9.99048222e-01,  4.36193874e-02,\n",
              "          6.18340325e-03,  9.99980883e-01],\n",
              "        [-1.22243189e+00, -9.53716951e-01,  3.00705799e-01,\n",
              "          6.90017027e-03,  9.99976194e-01],\n",
              "        [-1.27179616e+00, -8.43391446e-01,  5.37299608e-01,\n",
              "          7.61693375e-03,  9.99970991e-01]],\n",
              "\n",
              "       [[-8.20465711e-01, -8.87010833e-01, -4.61748613e-01,\n",
              "          4.74986003e-03,  9.99988719e-01],\n",
              "        [-9.55629779e-01, -9.76296007e-01, -2.16439614e-01,\n",
              "          5.46663304e-03,  9.99985058e-01],\n",
              "        [-1.15661287e+00, -9.99048222e-01,  4.36193874e-02,\n",
              "          6.18340325e-03,  9.99980883e-01],\n",
              "        [-1.22243189e+00, -9.53716951e-01,  3.00705799e-01,\n",
              "          6.90017027e-03,  9.99976194e-01],\n",
              "        [-1.27179616e+00, -8.43391446e-01,  5.37299608e-01,\n",
              "          7.61693375e-03,  9.99970991e-01],\n",
              "        [-1.43046702e+00, -6.75590208e-01,  7.37277337e-01,\n",
              "          8.33369332e-03,  9.99965274e-01]],\n",
              "\n",
              "       [[-9.55629779e-01, -9.76296007e-01, -2.16439614e-01,\n",
              "          5.46663304e-03,  9.99985058e-01],\n",
              "        [-1.15661287e+00, -9.99048222e-01,  4.36193874e-02,\n",
              "          6.18340325e-03,  9.99980883e-01],\n",
              "        [-1.22243189e+00, -9.53716951e-01,  3.00705799e-01,\n",
              "          6.90017027e-03,  9.99976194e-01],\n",
              "        [-1.27179616e+00, -8.43391446e-01,  5.37299608e-01,\n",
              "          7.61693375e-03,  9.99970991e-01],\n",
              "        [-1.43046702e+00, -6.75590208e-01,  7.37277337e-01,\n",
              "          8.33369332e-03,  9.99965274e-01],\n",
              "        [-1.44692178e+00, -4.61748613e-01,  8.87010833e-01,\n",
              "          9.05044860e-03,  9.99959044e-01]]])"
            ]
          },
          "metadata": {},
          "execution_count": 36
        }
      ]
    },
    {
      "cell_type": "code",
      "metadata": {
        "colab": {
          "base_uri": "https://localhost:8080/"
        },
        "id": "NpFVgXYJqbt8",
        "outputId": "714107e9-64fc-4ac6-c957-724c8d2caeee"
      },
      "source": [
        "model4 = Sequential()\n",
        "model4.add(InputLayer((6, 5)))\n",
        "model4.add(LSTM(64))\n",
        "model4.add(Dense(8, 'relu'))\n",
        "model4.add(Dense(1, 'linear'))\n",
        "\n",
        "model4.summary()"
      ],
      "execution_count": 37,
      "outputs": [
        {
          "output_type": "stream",
          "name": "stdout",
          "text": [
            "Model: \"sequential_3\"\n",
            "_________________________________________________________________\n",
            " Layer (type)                Output Shape              Param #   \n",
            "=================================================================\n",
            " lstm_1 (LSTM)               (None, 64)                17920     \n",
            "                                                                 \n",
            " dense_6 (Dense)             (None, 8)                 520       \n",
            "                                                                 \n",
            " dense_7 (Dense)             (None, 1)                 9         \n",
            "                                                                 \n",
            "=================================================================\n",
            "Total params: 18,449\n",
            "Trainable params: 18,449\n",
            "Non-trainable params: 0\n",
            "_________________________________________________________________\n"
          ]
        }
      ]
    },
    {
      "cell_type": "code",
      "metadata": {
        "id": "3RD8D_SXqkk8"
      },
      "source": [
        "cp4 = ModelCheckpoint('model4/', save_best_only=True)\n",
        "model4.compile(loss=MeanSquaredError(), optimizer=Adam(learning_rate=0.0001), metrics=[RootMeanSquaredError()])"
      ],
      "execution_count": 38,
      "outputs": []
    },
    {
      "cell_type": "code",
      "metadata": {
        "colab": {
          "base_uri": "https://localhost:8080/"
        },
        "id": "GB5aik6bqogC",
        "outputId": "c976fdff-14a8-483a-9d22-a3e1a39f38d8"
      },
      "source": [
        "model4.fit(X2_train, y2_train, validation_data=(X2_val, y2_val), epochs=10, callbacks=[cp4])"
      ],
      "execution_count": 39,
      "outputs": [
        {
          "output_type": "stream",
          "name": "stdout",
          "text": [
            "Epoch 1/10\n",
            "1870/1875 [============================>.] - ETA: 0s - loss: 35.8481 - root_mean_squared_error: 5.9873"
          ]
        },
        {
          "output_type": "stream",
          "name": "stderr",
          "text": [
            "WARNING:absl:Found untraced functions such as _update_step_xla, lstm_cell_2_layer_call_fn, lstm_cell_2_layer_call_and_return_conditional_losses while saving (showing 3 of 3). These functions will not be directly callable after loading.\n"
          ]
        },
        {
          "output_type": "stream",
          "name": "stdout",
          "text": [
            "\b\b\b\b\b\b\b\b\b\b\b\b\b\b\b\b\b\b\b\b\b\b\b\b\b\b\b\b\b\b\b\b\b\b\b\b\b\b\b\b\b\b\b\b\b\b\b\b\b\b\b\b\b\b\b\b\b\b\b\b\b\b\b\b\b\b\b\b\b\b\b\b\b\b\b\b\b\b\b\b\b\b\b\b\b\b\b\b\b\b\b\b\b\b\b\b\b\b\b\b\b\b\r1875/1875 [==============================] - 18s 9ms/step - loss: 35.7725 - root_mean_squared_error: 5.9810 - val_loss: 3.8578 - val_root_mean_squared_error: 1.9641\n",
            "Epoch 2/10\n",
            "1874/1875 [============================>.] - ETA: 0s - loss: 4.1307 - root_mean_squared_error: 2.0324"
          ]
        },
        {
          "output_type": "stream",
          "name": "stderr",
          "text": [
            "WARNING:absl:Found untraced functions such as _update_step_xla, lstm_cell_2_layer_call_fn, lstm_cell_2_layer_call_and_return_conditional_losses while saving (showing 3 of 3). These functions will not be directly callable after loading.\n"
          ]
        },
        {
          "output_type": "stream",
          "name": "stdout",
          "text": [
            "\b\b\b\b\b\b\b\b\b\b\b\b\b\b\b\b\b\b\b\b\b\b\b\b\b\b\b\b\b\b\b\b\b\b\b\b\b\b\b\b\b\b\b\b\b\b\b\b\b\b\b\b\b\b\b\b\b\b\b\b\b\b\b\b\b\b\b\b\b\b\b\b\b\b\b\b\b\b\b\b\b\b\b\b\b\b\b\b\b\b\b\b\b\b\b\b\b\b\b\b\b\r1875/1875 [==============================] - 16s 9ms/step - loss: 4.1299 - root_mean_squared_error: 2.0322 - val_loss: 1.4898 - val_root_mean_squared_error: 1.2206\n",
            "Epoch 3/10\n",
            "1875/1875 [==============================] - ETA: 0s - loss: 1.5300 - root_mean_squared_error: 1.2369"
          ]
        },
        {
          "output_type": "stream",
          "name": "stderr",
          "text": [
            "WARNING:absl:Found untraced functions such as _update_step_xla, lstm_cell_2_layer_call_fn, lstm_cell_2_layer_call_and_return_conditional_losses while saving (showing 3 of 3). These functions will not be directly callable after loading.\n"
          ]
        },
        {
          "output_type": "stream",
          "name": "stdout",
          "text": [
            "\b\b\b\b\b\b\b\b\b\b\b\b\b\b\b\b\b\b\b\b\b\b\b\b\b\b\b\b\b\b\b\b\b\b\b\b\b\b\b\b\b\b\b\b\b\b\b\b\b\b\b\b\b\b\b\b\b\b\b\b\b\b\b\b\b\b\b\b\b\b\b\b\b\b\b\b\b\b\b\b\b\b\b\b\b\b\b\b\b\b\b\b\b\b\b\b\b\b\b\b\b\r1875/1875 [==============================] - 16s 8ms/step - loss: 1.5300 - root_mean_squared_error: 1.2369 - val_loss: 0.9172 - val_root_mean_squared_error: 0.9577\n",
            "Epoch 4/10\n",
            "1868/1875 [============================>.] - ETA: 0s - loss: 0.9961 - root_mean_squared_error: 0.9980"
          ]
        },
        {
          "output_type": "stream",
          "name": "stderr",
          "text": [
            "WARNING:absl:Found untraced functions such as _update_step_xla, lstm_cell_2_layer_call_fn, lstm_cell_2_layer_call_and_return_conditional_losses while saving (showing 3 of 3). These functions will not be directly callable after loading.\n"
          ]
        },
        {
          "output_type": "stream",
          "name": "stdout",
          "text": [
            "\b\b\b\b\b\b\b\b\b\b\b\b\b\b\b\b\b\b\b\b\b\b\b\b\b\b\b\b\b\b\b\b\b\b\b\b\b\b\b\b\b\b\b\b\b\b\b\b\b\b\b\b\b\b\b\b\b\b\b\b\b\b\b\b\b\b\b\b\b\b\b\b\b\b\b\b\b\b\b\b\b\b\b\b\b\b\b\b\b\b\b\b\b\b\b\b\b\b\b\b\b\r1875/1875 [==============================] - 16s 9ms/step - loss: 0.9968 - root_mean_squared_error: 0.9984 - val_loss: 0.7116 - val_root_mean_squared_error: 0.8436\n",
            "Epoch 5/10\n",
            "1869/1875 [============================>.] - ETA: 0s - loss: 0.7758 - root_mean_squared_error: 0.8808"
          ]
        },
        {
          "output_type": "stream",
          "name": "stderr",
          "text": [
            "WARNING:absl:Found untraced functions such as _update_step_xla, lstm_cell_2_layer_call_fn, lstm_cell_2_layer_call_and_return_conditional_losses while saving (showing 3 of 3). These functions will not be directly callable after loading.\n"
          ]
        },
        {
          "output_type": "stream",
          "name": "stdout",
          "text": [
            "\b\b\b\b\b\b\b\b\b\b\b\b\b\b\b\b\b\b\b\b\b\b\b\b\b\b\b\b\b\b\b\b\b\b\b\b\b\b\b\b\b\b\b\b\b\b\b\b\b\b\b\b\b\b\b\b\b\b\b\b\b\b\b\b\b\b\b\b\b\b\b\b\b\b\b\b\b\b\b\b\b\b\b\b\b\b\b\b\b\b\b\b\b\b\b\b\b\b\b\b\b\r1875/1875 [==============================] - 16s 8ms/step - loss: 0.7752 - root_mean_squared_error: 0.8804 - val_loss: 0.5644 - val_root_mean_squared_error: 0.7513\n",
            "Epoch 6/10\n",
            "1875/1875 [==============================] - ETA: 0s - loss: 0.6417 - root_mean_squared_error: 0.8010"
          ]
        },
        {
          "output_type": "stream",
          "name": "stderr",
          "text": [
            "WARNING:absl:Found untraced functions such as _update_step_xla, lstm_cell_2_layer_call_fn, lstm_cell_2_layer_call_and_return_conditional_losses while saving (showing 3 of 3). These functions will not be directly callable after loading.\n"
          ]
        },
        {
          "output_type": "stream",
          "name": "stdout",
          "text": [
            "\b\b\b\b\b\b\b\b\b\b\b\b\b\b\b\b\b\b\b\b\b\b\b\b\b\b\b\b\b\b\b\b\b\b\b\b\b\b\b\b\b\b\b\b\b\b\b\b\b\b\b\b\b\b\b\b\b\b\b\b\b\b\b\b\b\b\b\b\b\b\b\b\b\b\b\b\b\b\b\b\b\b\b\b\b\b\b\b\b\b\b\b\b\b\b\b\b\b\b\b\b\r1875/1875 [==============================] - 16s 9ms/step - loss: 0.6417 - root_mean_squared_error: 0.8010 - val_loss: 0.4761 - val_root_mean_squared_error: 0.6900\n",
            "Epoch 7/10\n",
            "1868/1875 [============================>.] - ETA: 0s - loss: 0.5705 - root_mean_squared_error: 0.7553"
          ]
        },
        {
          "output_type": "stream",
          "name": "stderr",
          "text": [
            "WARNING:absl:Found untraced functions such as _update_step_xla, lstm_cell_2_layer_call_fn, lstm_cell_2_layer_call_and_return_conditional_losses while saving (showing 3 of 3). These functions will not be directly callable after loading.\n"
          ]
        },
        {
          "output_type": "stream",
          "name": "stdout",
          "text": [
            "\b\b\b\b\b\b\b\b\b\b\b\b\b\b\b\b\b\b\b\b\b\b\b\b\b\b\b\b\b\b\b\b\b\b\b\b\b\b\b\b\b\b\b\b\b\b\b\b\b\b\b\b\b\b\b\b\b\b\b\b\b\b\b\b\b\b\b\b\b\b\b\b\b\b\b\b\b\b\b\b\b\b\b\b\b\b\b\b\b\b\b\b\b\b\b\b\b\b\b\b\b\r1875/1875 [==============================] - 18s 10ms/step - loss: 0.5704 - root_mean_squared_error: 0.7552 - val_loss: 0.4516 - val_root_mean_squared_error: 0.6720\n",
            "Epoch 8/10\n",
            "1872/1875 [============================>.] - ETA: 0s - loss: 0.5415 - root_mean_squared_error: 0.7359"
          ]
        },
        {
          "output_type": "stream",
          "name": "stderr",
          "text": [
            "WARNING:absl:Found untraced functions such as _update_step_xla, lstm_cell_2_layer_call_fn, lstm_cell_2_layer_call_and_return_conditional_losses while saving (showing 3 of 3). These functions will not be directly callable after loading.\n"
          ]
        },
        {
          "output_type": "stream",
          "name": "stdout",
          "text": [
            "\b\b\b\b\b\b\b\b\b\b\b\b\b\b\b\b\b\b\b\b\b\b\b\b\b\b\b\b\b\b\b\b\b\b\b\b\b\b\b\b\b\b\b\b\b\b\b\b\b\b\b\b\b\b\b\b\b\b\b\b\b\b\b\b\b\b\b\b\b\b\b\b\b\b\b\b\b\b\b\b\b\b\b\b\b\b\b\b\b\b\b\b\b\b\b\b\b\b\b\b\b\r1875/1875 [==============================] - 16s 9ms/step - loss: 0.5425 - root_mean_squared_error: 0.7366 - val_loss: 0.4325 - val_root_mean_squared_error: 0.6577\n",
            "Epoch 9/10\n",
            "1867/1875 [============================>.] - ETA: 0s - loss: 0.5322 - root_mean_squared_error: 0.7295"
          ]
        },
        {
          "output_type": "stream",
          "name": "stderr",
          "text": [
            "WARNING:absl:Found untraced functions such as _update_step_xla, lstm_cell_2_layer_call_fn, lstm_cell_2_layer_call_and_return_conditional_losses while saving (showing 3 of 3). These functions will not be directly callable after loading.\n"
          ]
        },
        {
          "output_type": "stream",
          "name": "stdout",
          "text": [
            "\b\b\b\b\b\b\b\b\b\b\b\b\b\b\b\b\b\b\b\b\b\b\b\b\b\b\b\b\b\b\b\b\b\b\b\b\b\b\b\b\b\b\b\b\b\b\b\b\b\b\b\b\b\b\b\b\b\b\b\b\b\b\b\b\b\b\b\b\b\b\b\b\b\b\b\b\b\b\b\b\b\b\b\b\b\b\b\b\b\b\b\b\b\b\b\b\b\b\b\b\b\r1875/1875 [==============================] - 15s 8ms/step - loss: 0.5320 - root_mean_squared_error: 0.7294 - val_loss: 0.4107 - val_root_mean_squared_error: 0.6408\n",
            "Epoch 10/10\n",
            "1875/1875 [==============================] - 11s 6ms/step - loss: 0.5263 - root_mean_squared_error: 0.7255 - val_loss: 0.4390 - val_root_mean_squared_error: 0.6625\n"
          ]
        },
        {
          "output_type": "execute_result",
          "data": {
            "text/plain": [
              "<keras.callbacks.History at 0x7d428311fd00>"
            ]
          },
          "metadata": {},
          "execution_count": 39
        }
      ]
    },
    {
      "cell_type": "code",
      "metadata": {
        "colab": {
          "base_uri": "https://localhost:8080/",
          "height": 724
        },
        "id": "FmwshpETs-jE",
        "outputId": "52e8370d-9365-4395-ec0d-1584e77054a9"
      },
      "source": [
        "plot_predictions1(model4, X2_test, y2_test)"
      ],
      "execution_count": 40,
      "outputs": [
        {
          "output_type": "stream",
          "name": "stdout",
          "text": [
            "159/159 [==============================] - 1s 3ms/step\n"
          ]
        },
        {
          "output_type": "execute_result",
          "data": {
            "text/plain": [
              "(      Predictions  Actuals\n",
              " 0       12.908133    13.46\n",
              " 1       12.495893    12.93\n",
              " 2       12.111392    12.43\n",
              " 3       11.844192    12.17\n",
              " 4       11.993779    11.55\n",
              " ...           ...      ...\n",
              " 5080    -1.162703    -0.98\n",
              " 5081    -1.550497    -1.40\n",
              " 5082    -1.796711    -2.75\n",
              " 5083    -3.186282    -2.89\n",
              " 5084    -3.331385    -3.93\n",
              " \n",
              " [5085 rows x 2 columns],\n",
              " 0.5364853433362665)"
            ]
          },
          "metadata": {},
          "execution_count": 40
        },
        {
          "output_type": "display_data",
          "data": {
            "text/plain": [
              "<Figure size 640x480 with 1 Axes>"
            ],
            "image/png": "[encoded data removed]"
          },
          "metadata": {}
        }
      ]
    },
    {
      "cell_type": "code",
      "metadata": {
        "colab": {
          "base_uri": "https://localhost:8080/",
          "height": 238
        },
        "id": "FpOwEbBttY8C",
        "outputId": "06004dbb-a960-432d-e4c4-492e07d0171b"
      },
      "source": [
        "p_temp_df = pd.concat([df['p (mbar)'], temp_df], axis=1)\n",
        "p_temp_df.head()"
      ],
      "execution_count": 41,
      "outputs": [
        {
          "output_type": "execute_result",
          "data": {
            "text/plain": [
              "                     p (mbar)  Temperature   Day sin   Day cos  Year sin  \\\n",
              "Date Time                                                                  \n",
              "2009-01-01 01:00:00    996.50        -8.05  0.258819  0.965926  0.010049   \n",
              "2009-01-01 02:00:00    996.62        -8.88  0.500000  0.866025  0.010766   \n",
              "2009-01-01 03:00:00    996.84        -8.81  0.707107  0.707107  0.011483   \n",
              "2009-01-01 04:00:00    996.99        -9.05  0.866025  0.500000  0.012199   \n",
              "2009-01-01 05:00:00    997.46        -9.63  0.965926  0.258819  0.012916   \n",
              "\n",
              "                     Year cos  \n",
              "Date Time                      \n",
              "2009-01-01 01:00:00  0.999950  \n",
              "2009-01-01 02:00:00  0.999942  \n",
              "2009-01-01 03:00:00  0.999934  \n",
              "2009-01-01 04:00:00  0.999926  \n",
              "2009-01-01 05:00:00  0.999917  "
            ],
            "text/html": [
              "\n",
              "  <div id=\"df-5e14ada8-d1f1-4b70-b0de-b3c30d9975c3\" class=\"colab-df-container\">\n",
              "    <div>\n",
              "<style scoped>\n",
              "    .dataframe tbody tr th:only-of-type {\n",
              "        vertical-align: middle;\n",
              "    }\n",
              "\n",
              "    .dataframe tbody tr th {\n",
              "        vertical-align: top;\n",
              "    }\n",
              "\n",
              "    .dataframe thead th {\n",
              "        text-align: right;\n",
              "    }\n",
              "</style>\n",
              "<table border=\"1\" class=\"dataframe\">\n",
              "  <thead>\n",
              "    <tr style=\"text-align: right;\">\n",
              "      <th></th>\n",
              "      <th>p (mbar)</th>\n",
              "      <th>Temperature</th>\n",
              "      <th>Day sin</th>\n",
              "      <th>Day cos</th>\n",
              "      <th>Year sin</th>\n",
              "      <th>Year cos</th>\n",
              "    </tr>\n",
              "    <tr>\n",
              "      <th>Date Time</th>\n",
              "      <th></th>\n",
              "      <th></th>\n",
              "      <th></th>\n",
              "      <th></th>\n",
              "      <th></th>\n",
              "      <th></th>\n",
              "    </tr>\n",
              "  </thead>\n",
              "  <tbody>\n",
              "    <tr>\n",
              "      <th>2009-01-01 01:00:00</th>\n",
              "      <td>996.50</td>\n",
              "      <td>-8.05</td>\n",
              "      <td>0.258819</td>\n",
              "      <td>0.965926</td>\n",
              "      <td>0.010049</td>\n",
              "      <td>0.999950</td>\n",
              "    </tr>\n",
              "    <tr>\n",
              "      <th>2009-01-01 02:00:00</th>\n",
              "      <td>996.62</td>\n",
              "      <td>-8.88</td>\n",
              "      <td>0.500000</td>\n",
              "      <td>0.866025</td>\n",
              "      <td>0.010766</td>\n",
              "      <td>0.999942</td>\n",
              "    </tr>\n",
              "    <tr>\n",
              "      <th>2009-01-01 03:00:00</th>\n",
              "      <td>996.84</td>\n",
              "      <td>-8.81</td>\n",
              "      <td>0.707107</td>\n",
              "      <td>0.707107</td>\n",
              "      <td>0.011483</td>\n",
              "      <td>0.999934</td>\n",
              "    </tr>\n",
              "    <tr>\n",
              "      <th>2009-01-01 04:00:00</th>\n",
              "      <td>996.99</td>\n",
              "      <td>-9.05</td>\n",
              "      <td>0.866025</td>\n",
              "      <td>0.500000</td>\n",
              "      <td>0.012199</td>\n",
              "      <td>0.999926</td>\n",
              "    </tr>\n",
              "    <tr>\n",
              "      <th>2009-01-01 05:00:00</th>\n",
              "      <td>997.46</td>\n",
              "      <td>-9.63</td>\n",
              "      <td>0.965926</td>\n",
              "      <td>0.258819</td>\n",
              "      <td>0.012916</td>\n",
              "      <td>0.999917</td>\n",
              "    </tr>\n",
              "  </tbody>\n",
              "</table>\n",
              "</div>\n",
              "    <div class=\"colab-df-buttons\">\n",
              "\n",
              "  <div class=\"colab-df-container\">\n",
              "    <button class=\"colab-df-convert\" onclick=\"convertToInteractive('df-5e14ada8-d1f1-4b70-b0de-b3c30d9975c3')\"\n",
              "            title=\"Convert this dataframe to an interactive table.\"\n",
              "            style=\"display:none;\">\n",
              "\n",
              "  <svg xmlns=\"http://www.w3.org/2000/svg\" height=\"24px\" viewBox=\"0 -960 960 960\">\n",
              "    <path d=\"M120-120v-720h720v720H120Zm60-500h600v-160H180v160Zm220 220h160v-160H400v160Zm0 220h160v-160H400v160ZM180-400h160v-160H180v160Zm440 0h160v-160H620v160ZM180-180h160v-160H180v160Zm440 0h160v-160H620v160Z\"/>\n",
              "  </svg>\n",
              "    </button>\n",
              "\n",
              "  <style>\n",
              "    .colab-df-container {\n",
              "      display:flex;\n",
              "      gap: 12px;\n",
              "    }\n",
              "\n",
              "    .colab-df-convert {\n",
              "      background-color: #E8F0FE;\n",
              "      border: none;\n",
              "      border-radius: 50%;\n",
              "      cursor: pointer;\n",
              "      display: none;\n",
              "      fill: #1967D2;\n",
              "      height: 32px;\n",
              "      padding: 0 0 0 0;\n",
              "      width: 32px;\n",
              "    }\n",
              "\n",
              "    .colab-df-convert:hover {\n",
              "      background-color: #E2EBFA;\n",
              "      box-shadow: 0px 1px 2px rgba(60, 64, 67, 0.3), 0px 1px 3px 1px rgba(60, 64, 67, 0.15);\n",
              "      fill: #174EA6;\n",
              "    }\n",
              "\n",
              "    .colab-df-buttons div {\n",
              "      margin-bottom: 4px;\n",
              "    }\n",
              "\n",
              "    [theme=dark] .colab-df-convert {\n",
              "      background-color: #3B4455;\n",
              "      fill: #D2E3FC;\n",
              "    }\n",
              "\n",
              "    [theme=dark] .colab-df-convert:hover {\n",
              "      background-color: #434B5C;\n",
              "      box-shadow: 0px 1px 3px 1px rgba(0, 0, 0, 0.15);\n",
              "      filter: drop-shadow(0px 1px 2px rgba(0, 0, 0, 0.3));\n",
              "      fill: #FFFFFF;\n",
              "    }\n",
              "  </style>\n",
              "\n",
              "    <script>\n",
              "      const buttonEl =\n",
              "        document.querySelector('#df-5e14ada8-d1f1-4b70-b0de-b3c30d9975c3 button.colab-df-convert');\n",
              "      buttonEl.style.display =\n",
              "        google.colab.kernel.accessAllowed ? 'block' : 'none';\n",
              "\n",
              "      async function convertToInteractive(key) {\n",
              "        const element = document.querySelector('#df-5e14ada8-d1f1-4b70-b0de-b3c30d9975c3');\n",
              "        const dataTable =\n",
              "          await google.colab.kernel.invokeFunction('convertToInteractive',\n",
              "                                                    [key], {});\n",
              "        if (!dataTable) return;\n",
              "\n",
              "        const docLinkHtml = 'Like what you see? Visit the ' +\n",
              "          '<a target=\"_blank\" href=https://colab.research.google.com/notebooks/data_table.ipynb>data table notebook</a>'\n",
              "          + ' to learn more about interactive tables.';\n",
              "        element.innerHTML = '';\n",
              "        dataTable['output_type'] = 'display_data';\n",
              "        await google.colab.output.renderOutput(dataTable, element);\n",
              "        const docLink = document.createElement('div');\n",
              "        docLink.innerHTML = docLinkHtml;\n",
              "        element.appendChild(docLink);\n",
              "      }\n",
              "    </script>\n",
              "  </div>\n",
              "\n",
              "\n",
              "<div id=\"df-b94b2942-47e4-4ec3-92af-ac69d20ac6cb\">\n",
              "  <button class=\"colab-df-quickchart\" onclick=\"quickchart('df-b94b2942-47e4-4ec3-92af-ac69d20ac6cb')\"\n",
              "            title=\"Suggest charts.\"\n",
              "            style=\"display:none;\">\n",
              "\n",
              "<svg xmlns=\"http://www.w3.org/2000/svg\" height=\"24px\"viewBox=\"0 0 24 24\"\n",
              "     width=\"24px\">\n",
              "    <g>\n",
              "        <path d=\"M19 3H5c-1.1 0-2 .9-2 2v14c0 1.1.9 2 2 2h14c1.1 0 2-.9 2-2V5c0-1.1-.9-2-2-2zM9 17H7v-7h2v7zm4 0h-2V7h2v10zm4 0h-2v-4h2v4z\"/>\n",
              "    </g>\n",
              "</svg>\n",
              "  </button>\n",
              "\n",
              "<style>\n",
              "  .colab-df-quickchart {\n",
              "    background-color: #E8F0FE;\n",
              "    border: none;\n",
              "    border-radius: 50%;\n",
              "    cursor: pointer;\n",
              "    display: none;\n",
              "    fill: #1967D2;\n",
              "    height: 32px;\n",
              "    padding: 0 0 0 0;\n",
              "    width: 32px;\n",
              "  }\n",
              "\n",
              "  .colab-df-quickchart:hover {\n",
              "    background-color: #E2EBFA;\n",
              "    box-shadow: 0px 1px 2px rgba(60, 64, 67, 0.3), 0px 1px 3px 1px rgba(60, 64, 67, 0.15);\n",
              "    fill: #174EA6;\n",
              "  }\n",
              "\n",
              "  [theme=dark] .colab-df-quickchart {\n",
              "    background-color: #3B4455;\n",
              "    fill: #D2E3FC;\n",
              "  }\n",
              "\n",
              "  [theme=dark] .colab-df-quickchart:hover {\n",
              "    background-color: #434B5C;\n",
              "    box-shadow: 0px 1px 3px 1px rgba(0, 0, 0, 0.15);\n",
              "    filter: drop-shadow(0px 1px 2px rgba(0, 0, 0, 0.3));\n",
              "    fill: #FFFFFF;\n",
              "  }\n",
              "</style>\n",
              "\n",
              "  <script>\n",
              "    async function quickchart(key) {\n",
              "      const charts = await google.colab.kernel.invokeFunction(\n",
              "          'suggestCharts', [key], {});\n",
              "    }\n",
              "    (() => {\n",
              "      let quickchartButtonEl =\n",
              "        document.querySelector('#df-b94b2942-47e4-4ec3-92af-ac69d20ac6cb button');\n",
              "      quickchartButtonEl.style.display =\n",
              "        google.colab.kernel.accessAllowed ? 'block' : 'none';\n",
              "    })();\n",
              "  </script>\n",
              "</div>\n",
              "    </div>\n",
              "  </div>\n"
            ]
          },
          "metadata": {},
          "execution_count": 41
        }
      ]
    },
    {
      "cell_type": "code",
      "metadata": {
        "id": "7EViSFyntz9j"
      },
      "source": [
        "def df_to_X_y3(df, window_size=7):\n",
        "  df_as_np = df.to_numpy()\n",
        "  X = []\n",
        "  y = []\n",
        "  for i in range(len(df_as_np)-window_size):\n",
        "    row = [r for r in df_as_np[i:i+window_size]]\n",
        "    X.append(row)\n",
        "    label = [df_as_np[i+window_size][0], df_as_np[i+window_size][1]]\n",
        "    y.append(label)\n",
        "  return np.array(X), np.array(y)"
      ],
      "execution_count": 42,
      "outputs": []
    },
    {
      "cell_type": "code",
      "metadata": {
        "colab": {
          "base_uri": "https://localhost:8080/"
        },
        "id": "M6iv-AUQuJdX",
        "outputId": "77d7850f-282a-4ed1-fd0f-e73d4a33d70b"
      },
      "source": [
        "X3, y3 = df_to_X_y3(p_temp_df)\n",
        "X3.shape, y3.shape"
      ],
      "execution_count": 43,
      "outputs": [
        {
          "output_type": "execute_result",
          "data": {
            "text/plain": [
              "((70084, 7, 6), (70084, 2))"
            ]
          },
          "metadata": {},
          "execution_count": 43
        }
      ]
    },
    {
      "cell_type": "code",
      "metadata": {
        "colab": {
          "base_uri": "https://localhost:8080/"
        },
        "id": "JAaiWt0buKa4",
        "outputId": "35027df5-f9d5-46bf-e777-483370882309"
      },
      "source": [
        "X3_train, y3_train = X3[:60000], y3[:60000]\n",
        "X3_val, y3_val = X3[60000:65000], y3[60000:65000]\n",
        "X3_test, y3_test = X3[65000:], y3[65000:]\n",
        "X3_train.shape, y3_train.shape, X3_val.shape, y3_val.shape, X3_test.shape, y3_test.shape"
      ],
      "execution_count": 44,
      "outputs": [
        {
          "output_type": "execute_result",
          "data": {
            "text/plain": [
              "((60000, 7, 6), (60000, 2), (5000, 7, 6), (5000, 2), (5084, 7, 6), (5084, 2))"
            ]
          },
          "metadata": {},
          "execution_count": 44
        }
      ]
    },
    {
      "cell_type": "code",
      "metadata": {
        "id": "Y-1iWv_AuKSk"
      },
      "source": [
        "p_training_mean3 = np.mean(X3_train[:, :, 0])\n",
        "p_training_std3 = np.std(X3_train[:, :, 0])\n",
        "\n",
        "temp_training_mean3 = np.mean(X3_train[:, :, 1])\n",
        "temp_training_std3 = np.std(X3_train[:, :, 1])\n",
        "\n",
        "def preprocess3(X):\n",
        "  X[:, :, 0] = (X[:, :, 0] - p_training_mean3) / p_training_std3\n",
        "  X[:, :, 1] = (X[:, :, 1] - temp_training_mean3) / temp_training_std3\n",
        "\n",
        "def preprocess_output3(y):\n",
        "  y[:, 0] = (y[:, 0] - p_training_mean3) / p_training_std3\n",
        "  y[:, 1] = (y[:, 1] - temp_training_mean3) / temp_training_std3\n",
        "  return y"
      ],
      "execution_count": 45,
      "outputs": []
    },
    {
      "cell_type": "code",
      "metadata": {
        "id": "tA3BDAuluKHO"
      },
      "source": [
        "preprocess3(X3_train)\n",
        "preprocess3(X3_val)\n",
        "preprocess3(X3_test)"
      ],
      "execution_count": 46,
      "outputs": []
    },
    {
      "cell_type": "code",
      "metadata": {
        "colab": {
          "base_uri": "https://localhost:8080/"
        },
        "id": "nyxUc20CuJ4p",
        "outputId": "d42b59a7-ee31-42cd-c0eb-a84bad082c05"
      },
      "source": [
        "preprocess_output3(y3_train)\n",
        "preprocess_output3(y3_val)\n",
        "preprocess_output3(y3_test)"
      ],
      "execution_count": 47,
      "outputs": [
        {
          "output_type": "execute_result",
          "data": {
            "text/plain": [
              "array([[-0.7934386 ,  0.41245076],\n",
              "       [-0.76312281,  0.35368268],\n",
              "       [-0.72189335,  0.32312327],\n",
              "       ...,\n",
              "       [ 1.48145784, -1.43051636],\n",
              "       [ 1.41597574, -1.44697142],\n",
              "       [ 1.35049365, -1.56920903]])"
            ]
          },
          "metadata": {},
          "execution_count": 47
        }
      ]
    },
    {
      "cell_type": "code",
      "metadata": {
        "colab": {
          "base_uri": "https://localhost:8080/"
        },
        "id": "czHWSE2Uv4Br",
        "outputId": "7dbb1c19-80b8-455f-ce67-41af7bcc5baf"
      },
      "source": [
        "model5 = Sequential()\n",
        "model5.add(InputLayer((7, 6)))\n",
        "model5.add(LSTM(64))\n",
        "model5.add(Dense(8, 'relu'))\n",
        "model5.add(Dense(2, 'linear'))\n",
        "\n",
        "model5.summary()"
      ],
      "execution_count": 48,
      "outputs": [
        {
          "output_type": "stream",
          "name": "stdout",
          "text": [
            "Model: \"sequential_4\"\n",
            "_________________________________________________________________\n",
            " Layer (type)                Output Shape              Param #   \n",
            "=================================================================\n",
            " lstm_2 (LSTM)               (None, 64)                18176     \n",
            "                                                                 \n",
            " dense_8 (Dense)             (None, 8)                 520       \n",
            "                                                                 \n",
            " dense_9 (Dense)             (None, 2)                 18        \n",
            "                                                                 \n",
            "=================================================================\n",
            "Total params: 18,714\n",
            "Trainable params: 18,714\n",
            "Non-trainable params: 0\n",
            "_________________________________________________________________\n"
          ]
        }
      ]
    },
    {
      "cell_type": "code",
      "metadata": {
        "id": "HY4LnQYxwDI2"
      },
      "source": [
        "cp5 = ModelCheckpoint('model5/', save_best_only=True)\n",
        "model5.compile(loss=MeanSquaredError(), optimizer=Adam(learning_rate=0.0001), metrics=[RootMeanSquaredError()])"
      ],
      "execution_count": 49,
      "outputs": []
    },
    {
      "cell_type": "code",
      "metadata": {
        "colab": {
          "base_uri": "https://localhost:8080/"
        },
        "id": "pR6NEXeSwF6J",
        "outputId": "8a8995e7-3f1a-44b2-df95-70ea65790ebd"
      },
      "source": [
        "model5.fit(X3_train, y3_train, validation_data=(X3_val, y3_val), epochs=10, callbacks=[cp5])"
      ],
      "execution_count": 50,
      "outputs": [
        {
          "output_type": "stream",
          "name": "stdout",
          "text": [
            "Epoch 1/10\n",
            "1868/1875 [============================>.] - ETA: 0s - loss: 0.1359 - root_mean_squared_error: 0.3687"
          ]
        },
        {
          "output_type": "stream",
          "name": "stderr",
          "text": [
            "WARNING:absl:Found untraced functions such as _update_step_xla, lstm_cell_3_layer_call_fn, lstm_cell_3_layer_call_and_return_conditional_losses while saving (showing 3 of 3). These functions will not be directly callable after loading.\n"
          ]
        },
        {
          "output_type": "stream",
          "name": "stdout",
          "text": [
            "\b\b\b\b\b\b\b\b\b\b\b\b\b\b\b\b\b\b\b\b\b\b\b\b\b\b\b\b\b\b\b\b\b\b\b\b\b\b\b\b\b\b\b\b\b\b\b\b\b\b\b\b\b\b\b\b\b\b\b\b\b\b\b\b\b\b\b\b\b\b\b\b\b\b\b\b\b\b\b\b\b\b\b\b\b\b\b\b\b\b\b\b\b\b\b\b\b\b\b\b\b\r1875/1875 [==============================] - 20s 9ms/step - loss: 0.1355 - root_mean_squared_error: 0.3681 - val_loss: 0.0341 - val_root_mean_squared_error: 0.1848\n",
            "Epoch 2/10\n",
            "1871/1875 [============================>.] - ETA: 0s - loss: 0.0254 - root_mean_squared_error: 0.1593"
          ]
        },
        {
          "output_type": "stream",
          "name": "stderr",
          "text": [
            "WARNING:absl:Found untraced functions such as _update_step_xla, lstm_cell_3_layer_call_fn, lstm_cell_3_layer_call_and_return_conditional_losses while saving (showing 3 of 3). These functions will not be directly callable after loading.\n"
          ]
        },
        {
          "output_type": "stream",
          "name": "stdout",
          "text": [
            "\b\b\b\b\b\b\b\b\b\b\b\b\b\b\b\b\b\b\b\b\b\b\b\b\b\b\b\b\b\b\b\b\b\b\b\b\b\b\b\b\b\b\b\b\b\b\b\b\b\b\b\b\b\b\b\b\b\b\b\b\b\b\b\b\b\b\b\b\b\b\b\b\b\b\b\b\b\b\b\b\b\b\b\b\b\b\b\b\b\b\b\b\b\b\b\b\b\b\b\b\b\r1875/1875 [==============================] - 17s 9ms/step - loss: 0.0254 - root_mean_squared_error: 0.1593 - val_loss: 0.0163 - val_root_mean_squared_error: 0.1276\n",
            "Epoch 3/10\n",
            "1872/1875 [============================>.] - ETA: 0s - loss: 0.0124 - root_mean_squared_error: 0.1116"
          ]
        },
        {
          "output_type": "stream",
          "name": "stderr",
          "text": [
            "WARNING:absl:Found untraced functions such as _update_step_xla, lstm_cell_3_layer_call_fn, lstm_cell_3_layer_call_and_return_conditional_losses while saving (showing 3 of 3). These functions will not be directly callable after loading.\n"
          ]
        },
        {
          "output_type": "stream",
          "name": "stdout",
          "text": [
            "\b\b\b\b\b\b\b\b\b\b\b\b\b\b\b\b\b\b\b\b\b\b\b\b\b\b\b\b\b\b\b\b\b\b\b\b\b\b\b\b\b\b\b\b\b\b\b\b\b\b\b\b\b\b\b\b\b\b\b\b\b\b\b\b\b\b\b\b\b\b\b\b\b\b\b\b\b\b\b\b\b\b\b\b\b\b\b\b\b\b\b\b\b\b\b\b\b\b\b\b\b\r1875/1875 [==============================] - 16s 9ms/step - loss: 0.0124 - root_mean_squared_error: 0.1116 - val_loss: 0.0081 - val_root_mean_squared_error: 0.0902\n",
            "Epoch 4/10\n",
            "1870/1875 [============================>.] - ETA: 0s - loss: 0.0083 - root_mean_squared_error: 0.0911"
          ]
        },
        {
          "output_type": "stream",
          "name": "stderr",
          "text": [
            "WARNING:absl:Found untraced functions such as _update_step_xla, lstm_cell_3_layer_call_fn, lstm_cell_3_layer_call_and_return_conditional_losses while saving (showing 3 of 3). These functions will not be directly callable after loading.\n"
          ]
        },
        {
          "output_type": "stream",
          "name": "stdout",
          "text": [
            "\b\b\b\b\b\b\b\b\b\b\b\b\b\b\b\b\b\b\b\b\b\b\b\b\b\b\b\b\b\b\b\b\b\b\b\b\b\b\b\b\b\b\b\b\b\b\b\b\b\b\b\b\b\b\b\b\b\b\b\b\b\b\b\b\b\b\b\b\b\b\b\b\b\b\b\b\b\b\b\b\b\b\b\b\b\b\b\b\b\b\b\b\b\b\b\b\b\b\b\b\b\r1875/1875 [==============================] - 19s 10ms/step - loss: 0.0083 - root_mean_squared_error: 0.0910 - val_loss: 0.0061 - val_root_mean_squared_error: 0.0780\n",
            "Epoch 5/10\n",
            "1870/1875 [============================>.] - ETA: 0s - loss: 0.0067 - root_mean_squared_error: 0.0821"
          ]
        },
        {
          "output_type": "stream",
          "name": "stderr",
          "text": [
            "WARNING:absl:Found untraced functions such as _update_step_xla, lstm_cell_3_layer_call_fn, lstm_cell_3_layer_call_and_return_conditional_losses while saving (showing 3 of 3). These functions will not be directly callable after loading.\n"
          ]
        },
        {
          "output_type": "stream",
          "name": "stdout",
          "text": [
            "\b\b\b\b\b\b\b\b\b\b\b\b\b\b\b\b\b\b\b\b\b\b\b\b\b\b\b\b\b\b\b\b\b\b\b\b\b\b\b\b\b\b\b\b\b\b\b\b\b\b\b\b\b\b\b\b\b\b\b\b\b\b\b\b\b\b\b\b\b\b\b\b\b\b\b\b\b\b\b\b\b\b\b\b\b\b\b\b\b\b\b\b\b\b\b\b\b\b\b\b\b\r1875/1875 [==============================] - 16s 9ms/step - loss: 0.0067 - root_mean_squared_error: 0.0821 - val_loss: 0.0048 - val_root_mean_squared_error: 0.0693\n",
            "Epoch 6/10\n",
            "1871/1875 [============================>.] - ETA: 0s - loss: 0.0059 - root_mean_squared_error: 0.0766"
          ]
        },
        {
          "output_type": "stream",
          "name": "stderr",
          "text": [
            "WARNING:absl:Found untraced functions such as _update_step_xla, lstm_cell_3_layer_call_fn, lstm_cell_3_layer_call_and_return_conditional_losses while saving (showing 3 of 3). These functions will not be directly callable after loading.\n"
          ]
        },
        {
          "output_type": "stream",
          "name": "stdout",
          "text": [
            "\b\b\b\b\b\b\b\b\b\b\b\b\b\b\b\b\b\b\b\b\b\b\b\b\b\b\b\b\b\b\b\b\b\b\b\b\b\b\b\b\b\b\b\b\b\b\b\b\b\b\b\b\b\b\b\b\b\b\b\b\b\b\b\b\b\b\b\b\b\b\b\b\b\b\b\b\b\b\b\b\b\b\b\b\b\b\b\b\b\b\b\b\b\b\b\b\b\b\b\b\b\r1875/1875 [==============================] - 16s 9ms/step - loss: 0.0059 - root_mean_squared_error: 0.0766 - val_loss: 0.0042 - val_root_mean_squared_error: 0.0651\n",
            "Epoch 7/10\n",
            "1869/1875 [============================>.] - ETA: 0s - loss: 0.0054 - root_mean_squared_error: 0.0735"
          ]
        },
        {
          "output_type": "stream",
          "name": "stderr",
          "text": [
            "WARNING:absl:Found untraced functions such as _update_step_xla, lstm_cell_3_layer_call_fn, lstm_cell_3_layer_call_and_return_conditional_losses while saving (showing 3 of 3). These functions will not be directly callable after loading.\n"
          ]
        },
        {
          "output_type": "stream",
          "name": "stdout",
          "text": [
            "\b\b\b\b\b\b\b\b\b\b\b\b\b\b\b\b\b\b\b\b\b\b\b\b\b\b\b\b\b\b\b\b\b\b\b\b\b\b\b\b\b\b\b\b\b\b\b\b\b\b\b\b\b\b\b\b\b\b\b\b\b\b\b\b\b\b\b\b\b\b\b\b\b\b\b\b\b\b\b\b\b\b\b\b\b\b\b\b\b\b\b\b\b\b\b\b\b\b\b\b\b\r1875/1875 [==============================] - 17s 9ms/step - loss: 0.0054 - root_mean_squared_error: 0.0735 - val_loss: 0.0039 - val_root_mean_squared_error: 0.0628\n",
            "Epoch 8/10\n",
            "1873/1875 [============================>.] - ETA: 0s - loss: 0.0052 - root_mean_squared_error: 0.0719"
          ]
        },
        {
          "output_type": "stream",
          "name": "stderr",
          "text": [
            "WARNING:absl:Found untraced functions such as _update_step_xla, lstm_cell_3_layer_call_fn, lstm_cell_3_layer_call_and_return_conditional_losses while saving (showing 3 of 3). These functions will not be directly callable after loading.\n"
          ]
        },
        {
          "output_type": "stream",
          "name": "stdout",
          "text": [
            "\b\b\b\b\b\b\b\b\b\b\b\b\b\b\b\b\b\b\b\b\b\b\b\b\b\b\b\b\b\b\b\b\b\b\b\b\b\b\b\b\b\b\b\b\b\b\b\b\b\b\b\b\b\b\b\b\b\b\b\b\b\b\b\b\b\b\b\b\b\b\b\b\b\b\b\b\b\b\b\b\b\b\b\b\b\b\b\b\b\b\b\b\b\b\b\b\b\b\b\b\b\r1875/1875 [==============================] - 18s 9ms/step - loss: 0.0052 - root_mean_squared_error: 0.0719 - val_loss: 0.0038 - val_root_mean_squared_error: 0.0616\n",
            "Epoch 9/10\n",
            "1875/1875 [==============================] - 13s 7ms/step - loss: 0.0051 - root_mean_squared_error: 0.0711 - val_loss: 0.0040 - val_root_mean_squared_error: 0.0629\n",
            "Epoch 10/10\n",
            "1875/1875 [==============================] - ETA: 0s - loss: 0.0050 - root_mean_squared_error: 0.0704"
          ]
        },
        {
          "output_type": "stream",
          "name": "stderr",
          "text": [
            "WARNING:absl:Found untraced functions such as _update_step_xla, lstm_cell_3_layer_call_fn, lstm_cell_3_layer_call_and_return_conditional_losses while saving (showing 3 of 3). These functions will not be directly callable after loading.\n"
          ]
        },
        {
          "output_type": "stream",
          "name": "stdout",
          "text": [
            "\b\b\b\b\b\b\b\b\b\b\b\b\b\b\b\b\b\b\b\b\b\b\b\b\b\b\b\b\b\b\b\b\b\b\b\b\b\b\b\b\b\b\b\b\b\b\b\b\b\b\b\b\b\b\b\b\b\b\b\b\b\b\b\b\b\b\b\b\b\b\b\b\b\b\b\b\b\b\b\b\b\b\b\b\b\b\b\b\b\b\b\b\b\b\b\b\b\b\b\b\b\r1875/1875 [==============================] - 18s 9ms/step - loss: 0.0050 - root_mean_squared_error: 0.0704 - val_loss: 0.0037 - val_root_mean_squared_error: 0.0608\n"
          ]
        },
        {
          "output_type": "execute_result",
          "data": {
            "text/plain": [
              "<keras.callbacks.History at 0x7d426927e350>"
            ]
          },
          "metadata": {},
          "execution_count": 50
        }
      ]
    },
    {
      "cell_type": "code",
      "metadata": {
        "id": "AzIN93E2xRjE"
      },
      "source": [
        "def plot_predictions2(model, X, y, start=0, end=100):\n",
        "  predictions = model.predict(X)\n",
        "  p_preds, temp_preds = predictions[:, 0], predictions[:, 1]\n",
        "  p_actuals, temp_actuals = y[:, 0], y[:, 1]\n",
        "  df = pd.DataFrame(data={'Temperature Predictions': temp_preds,\n",
        "                          'Temperature Actuals':temp_actuals,\n",
        "                          'Pressure Predictions': p_preds,\n",
        "                          'Pressure Actuals': p_actuals\n",
        "                          })\n",
        "  plt.plot(df['Temperature Predictions'][start:end])\n",
        "  plt.plot(df['Temperature Actuals'][start:end])\n",
        "  plt.plot(df['Pressure Predictions'][start:end])\n",
        "  plt.plot(df['Pressure Actuals'][start:end])\n",
        "  return df[start:end]"
      ],
      "execution_count": 51,
      "outputs": []
    },
    {
      "cell_type": "code",
      "metadata": {
        "colab": {
          "base_uri": "https://localhost:8080/",
          "height": 855
        },
        "id": "QzXcewu_zy2k",
        "outputId": "4ee38da4-149c-42b7-cb0e-6db9d426e3d8"
      },
      "source": [
        "plot_predictions2(model5, X3_test, y3_test)"
      ],
      "execution_count": 52,
      "outputs": [
        {
          "output_type": "stream",
          "name": "stdout",
          "text": [
            "159/159 [==============================] - 1s 3ms/step\n"
          ]
        },
        {
          "output_type": "execute_result",
          "data": {
            "text/plain": [
              "    Temperature Predictions  Temperature Actuals  Pressure Predictions  \\\n",
              "0                  0.400899             0.412451             -0.789956   \n",
              "1                  0.357297             0.353683             -0.776494   \n",
              "2                  0.317171             0.323123             -0.740666   \n",
              "3                  0.316043             0.250251             -0.687034   \n",
              "4                  0.261431             0.254952             -0.599144   \n",
              "..                      ...                  ...                   ...   \n",
              "95                 0.689056             0.716869             -0.418605   \n",
              "96                 0.651128             0.687485             -0.419485   \n",
              "97                 0.636887             0.663978             -0.401330   \n",
              "98                 0.637847             0.641646             -0.388971   \n",
              "99                 0.644976             0.653400             -0.378313   \n",
              "\n",
              "    Pressure Actuals  \n",
              "0          -0.793439  \n",
              "1          -0.763123  \n",
              "2          -0.721893  \n",
              "3          -0.652773  \n",
              "4          -0.652773  \n",
              "..               ...  \n",
              "95         -0.416310  \n",
              "96         -0.399333  \n",
              "97         -0.399333  \n",
              "98         -0.400546  \n",
              "99         -0.369018  \n",
              "\n",
              "[100 rows x 4 columns]"
            ],
            "text/html": [
              "\n",
              "  <div id=\"df-3e135c78-b551-4e81-bddc-49c9720e3290\" class=\"colab-df-container\">\n",
              "    <div>\n",
              "<style scoped>\n",
              "    .dataframe tbody tr th:only-of-type {\n",
              "        vertical-align: middle;\n",
              "    }\n",
              "\n",
              "    .dataframe tbody tr th {\n",
              "        vertical-align: top;\n",
              "    }\n",
              "\n",
              "    .dataframe thead th {\n",
              "        text-align: right;\n",
              "    }\n",
              "</style>\n",
              "<table border=\"1\" class=\"dataframe\">\n",
              "  <thead>\n",
              "    <tr style=\"text-align: right;\">\n",
              "      <th></th>\n",
              "      <th>Temperature Predictions</th>\n",
              "      <th>Temperature Actuals</th>\n",
              "      <th>Pressure Predictions</th>\n",
              "      <th>Pressure Actuals</th>\n",
              "    </tr>\n",
              "  </thead>\n",
              "  <tbody>\n",
              "    <tr>\n",
              "      <th>0</th>\n",
              "      <td>0.400899</td>\n",
              "      <td>0.412451</td>\n",
              "      <td>-0.789956</td>\n",
              "      <td>-0.793439</td>\n",
              "    </tr>\n",
              "    <tr>\n",
              "      <th>1</th>\n",
              "      <td>0.357297</td>\n",
              "      <td>0.353683</td>\n",
              "      <td>-0.776494</td>\n",
              "      <td>-0.763123</td>\n",
              "    </tr>\n",
              "    <tr>\n",
              "      <th>2</th>\n",
              "      <td>0.317171</td>\n",
              "      <td>0.323123</td>\n",
              "      <td>-0.740666</td>\n",
              "      <td>-0.721893</td>\n",
              "    </tr>\n",
              "    <tr>\n",
              "      <th>3</th>\n",
              "      <td>0.316043</td>\n",
              "      <td>0.250251</td>\n",
              "      <td>-0.687034</td>\n",
              "      <td>-0.652773</td>\n",
              "    </tr>\n",
              "    <tr>\n",
              "      <th>4</th>\n",
              "      <td>0.261431</td>\n",
              "      <td>0.254952</td>\n",
              "      <td>-0.599144</td>\n",
              "      <td>-0.652773</td>\n",
              "    </tr>\n",
              "    <tr>\n",
              "      <th>...</th>\n",
              "      <td>...</td>\n",
              "      <td>...</td>\n",
              "      <td>...</td>\n",
              "      <td>...</td>\n",
              "    </tr>\n",
              "    <tr>\n",
              "      <th>95</th>\n",
              "      <td>0.689056</td>\n",
              "      <td>0.716869</td>\n",
              "      <td>-0.418605</td>\n",
              "      <td>-0.416310</td>\n",
              "    </tr>\n",
              "    <tr>\n",
              "      <th>96</th>\n",
              "      <td>0.651128</td>\n",
              "      <td>0.687485</td>\n",
              "      <td>-0.419485</td>\n",
              "      <td>-0.399333</td>\n",
              "    </tr>\n",
              "    <tr>\n",
              "      <th>97</th>\n",
              "      <td>0.636887</td>\n",
              "      <td>0.663978</td>\n",
              "      <td>-0.401330</td>\n",
              "      <td>-0.399333</td>\n",
              "    </tr>\n",
              "    <tr>\n",
              "      <th>98</th>\n",
              "      <td>0.637847</td>\n",
              "      <td>0.641646</td>\n",
              "      <td>-0.388971</td>\n",
              "      <td>-0.400546</td>\n",
              "    </tr>\n",
              "    <tr>\n",
              "      <th>99</th>\n",
              "      <td>0.644976</td>\n",
              "      <td>0.653400</td>\n",
              "      <td>-0.378313</td>\n",
              "      <td>-0.369018</td>\n",
              "    </tr>\n",
              "  </tbody>\n",
              "</table>\n",
              "<p>100 rows × 4 columns</p>\n",
              "</div>\n",
              "    <div class=\"colab-df-buttons\">\n",
              "\n",
              "  <div class=\"colab-df-container\">\n",
              "    <button class=\"colab-df-convert\" onclick=\"convertToInteractive('df-3e135c78-b551-4e81-bddc-49c9720e3290')\"\n",
              "            title=\"Convert this dataframe to an interactive table.\"\n",
              "            style=\"display:none;\">\n",
              "\n",
              "  <svg xmlns=\"http://www.w3.org/2000/svg\" height=\"24px\" viewBox=\"0 -960 960 960\">\n",
              "    <path d=\"M120-120v-720h720v720H120Zm60-500h600v-160H180v160Zm220 220h160v-160H400v160Zm0 220h160v-160H400v160ZM180-400h160v-160H180v160Zm440 0h160v-160H620v160ZM180-180h160v-160H180v160Zm440 0h160v-160H620v160Z\"/>\n",
              "  </svg>\n",
              "    </button>\n",
              "\n",
              "  <style>\n",
              "    .colab-df-container {\n",
              "      display:flex;\n",
              "      gap: 12px;\n",
              "    }\n",
              "\n",
              "    .colab-df-convert {\n",
              "      background-color: #E8F0FE;\n",
              "      border: none;\n",
              "      border-radius: 50%;\n",
              "      cursor: pointer;\n",
              "      display: none;\n",
              "      fill: #1967D2;\n",
              "      height: 32px;\n",
              "      padding: 0 0 0 0;\n",
              "      width: 32px;\n",
              "    }\n",
              "\n",
              "    .colab-df-convert:hover {\n",
              "      background-color: #E2EBFA;\n",
              "      box-shadow: 0px 1px 2px rgba(60, 64, 67, 0.3), 0px 1px 3px 1px rgba(60, 64, 67, 0.15);\n",
              "      fill: #174EA6;\n",
              "    }\n",
              "\n",
              "    .colab-df-buttons div {\n",
              "      margin-bottom: 4px;\n",
              "    }\n",
              "\n",
              "    [theme=dark] .colab-df-convert {\n",
              "      background-color: #3B4455;\n",
              "      fill: #D2E3FC;\n",
              "    }\n",
              "\n",
              "    [theme=dark] .colab-df-convert:hover {\n",
              "      background-color: #434B5C;\n",
              "      box-shadow: 0px 1px 3px 1px rgba(0, 0, 0, 0.15);\n",
              "      filter: drop-shadow(0px 1px 2px rgba(0, 0, 0, 0.3));\n",
              "      fill: #FFFFFF;\n",
              "    }\n",
              "  </style>\n",
              "\n",
              "    <script>\n",
              "      const buttonEl =\n",
              "        document.querySelector('#df-3e135c78-b551-4e81-bddc-49c9720e3290 button.colab-df-convert');\n",
              "      buttonEl.style.display =\n",
              "        google.colab.kernel.accessAllowed ? 'block' : 'none';\n",
              "\n",
              "      async function convertToInteractive(key) {\n",
              "        const element = document.querySelector('#df-3e135c78-b551-4e81-bddc-49c9720e3290');\n",
              "        const dataTable =\n",
              "          await google.colab.kernel.invokeFunction('convertToInteractive',\n",
              "                                                    [key], {});\n",
              "        if (!dataTable) return;\n",
              "\n",
              "        const docLinkHtml = 'Like what you see? Visit the ' +\n",
              "          '<a target=\"_blank\" href=https://colab.research.google.com/notebooks/data_table.ipynb>data table notebook</a>'\n",
              "          + ' to learn more about interactive tables.';\n",
              "        element.innerHTML = '';\n",
              "        dataTable['output_type'] = 'display_data';\n",
              "        await google.colab.output.renderOutput(dataTable, element);\n",
              "        const docLink = document.createElement('div');\n",
              "        docLink.innerHTML = docLinkHtml;\n",
              "        element.appendChild(docLink);\n",
              "      }\n",
              "    </script>\n",
              "  </div>\n",
              "\n",
              "\n",
              "<div id=\"df-75976769-f5ca-4180-b78c-be920b8b9d48\">\n",
              "  <button class=\"colab-df-quickchart\" onclick=\"quickchart('df-75976769-f5ca-4180-b78c-be920b8b9d48')\"\n",
              "            title=\"Suggest charts.\"\n",
              "            style=\"display:none;\">\n",
              "\n",
              "<svg xmlns=\"http://www.w3.org/2000/svg\" height=\"24px\"viewBox=\"0 0 24 24\"\n",
              "     width=\"24px\">\n",
              "    <g>\n",
              "        <path d=\"M19 3H5c-1.1 0-2 .9-2 2v14c0 1.1.9 2 2 2h14c1.1 0 2-.9 2-2V5c0-1.1-.9-2-2-2zM9 17H7v-7h2v7zm4 0h-2V7h2v10zm4 0h-2v-4h2v4z\"/>\n",
              "    </g>\n",
              "</svg>\n",
              "  </button>\n",
              "\n",
              "<style>\n",
              "  .colab-df-quickchart {\n",
              "    background-color: #E8F0FE;\n",
              "    border: none;\n",
              "    border-radius: 50%;\n",
              "    cursor: pointer;\n",
              "    display: none;\n",
              "    fill: #1967D2;\n",
              "    height: 32px;\n",
              "    padding: 0 0 0 0;\n",
              "    width: 32px;\n",
              "  }\n",
              "\n",
              "  .colab-df-quickchart:hover {\n",
              "    background-color: #E2EBFA;\n",
              "    box-shadow: 0px 1px 2px rgba(60, 64, 67, 0.3), 0px 1px 3px 1px rgba(60, 64, 67, 0.15);\n",
              "    fill: #174EA6;\n",
              "  }\n",
              "\n",
              "  [theme=dark] .colab-df-quickchart {\n",
              "    background-color: #3B4455;\n",
              "    fill: #D2E3FC;\n",
              "  }\n",
              "\n",
              "  [theme=dark] .colab-df-quickchart:hover {\n",
              "    background-color: #434B5C;\n",
              "    box-shadow: 0px 1px 3px 1px rgba(0, 0, 0, 0.15);\n",
              "    filter: drop-shadow(0px 1px 2px rgba(0, 0, 0, 0.3));\n",
              "    fill: #FFFFFF;\n",
              "  }\n",
              "</style>\n",
              "\n",
              "  <script>\n",
              "    async function quickchart(key) {\n",
              "      const charts = await google.colab.kernel.invokeFunction(\n",
              "          'suggestCharts', [key], {});\n",
              "    }\n",
              "    (() => {\n",
              "      let quickchartButtonEl =\n",
              "        document.querySelector('#df-75976769-f5ca-4180-b78c-be920b8b9d48 button');\n",
              "      quickchartButtonEl.style.display =\n",
              "        google.colab.kernel.accessAllowed ? 'block' : 'none';\n",
              "    })();\n",
              "  </script>\n",
              "</div>\n",
              "    </div>\n",
              "  </div>\n"
            ]
          },
          "metadata": {},
          "execution_count": 52
        },
        {
          "output_type": "display_data",
          "data": {
            "text/plain": [
              "<Figure size 640x480 with 1 Axes>"
            ],
            "image/png": "[encoded data removed]"
          },
          "metadata": {}
        }
      ]
    },
    {
      "cell_type": "code",
      "metadata": {
        "id": "hplJkJvI0fTf"
      },
      "source": [
        "def postprocess_temp(arr):\n",
        "  arr = (arr*temp_training_std3) + temp_training_mean3\n",
        "  return arr\n",
        "\n",
        "def postprocess_p(arr):\n",
        "  arr = (arr*p_training_std3) + p_training_mean3\n",
        "  return arr"
      ],
      "execution_count": 53,
      "outputs": []
    },
    {
      "cell_type": "code",
      "metadata": {
        "id": "Jcmk5ZB21PDe"
      },
      "source": [
        "def plot_predictions2(model, X, y, start=0, end=100):\n",
        "  predictions = model.predict(X)\n",
        "  p_preds, temp_preds = postprocess_p(predictions[:, 0]), postprocess_temp(predictions[:, 1])\n",
        "  p_actuals, temp_actuals = postprocess_p(y[:, 0]), postprocess_temp(y[:, 1])\n",
        "  df = pd.DataFrame(data={'Temperature Predictions': temp_preds,\n",
        "                          'Temperature Actuals':temp_actuals,\n",
        "                          'Pressure Predictions': p_preds,\n",
        "                          'Pressure Actuals': p_actuals\n",
        "                          })\n",
        "  plt.plot(df['Temperature Predictions'][start:end])\n",
        "  plt.plot(df['Temperature Actuals'][start:end])\n",
        "  plt.plot(df['Pressure Predictions'][start:end])\n",
        "  plt.plot(df['Pressure Actuals'][start:end])\n",
        "  return df[start:end]"
      ],
      "execution_count": 54,
      "outputs": []
    },
    {
      "cell_type": "code",
      "metadata": {
        "colab": {
          "base_uri": "https://localhost:8080/",
          "height": 855
        },
        "id": "WdYOQkIN1gAK",
        "outputId": "091a5010-62e8-408a-a28b-fab644cf995a"
      },
      "source": [
        "post_processed_df = plot_predictions2(model5, X3_test, y3_test)\n",
        "post_processed_df"
      ],
      "execution_count": 55,
      "outputs": [
        {
          "output_type": "stream",
          "name": "stdout",
          "text": [
            "159/159 [==============================] - 1s 3ms/step\n"
          ]
        },
        {
          "output_type": "execute_result",
          "data": {
            "text/plain": [
              "    Temperature Predictions  Temperature Actuals  Pressure Predictions  \\\n",
              "0                 12.831717                12.93            982.458740   \n",
              "1                 12.460749                12.43            982.569763   \n",
              "2                 12.119354                12.17            982.865234   \n",
              "3                 12.109760                11.55            983.307495   \n",
              "4                 11.645123                11.59            984.032288   \n",
              "..                      ...                  ...                   ...   \n",
              "95                15.283367                15.52            985.521118   \n",
              "96                14.960668                15.27            985.513855   \n",
              "97                14.839510                15.07            985.663574   \n",
              "98                14.847680                14.88            985.765503   \n",
              "99                14.908332                14.98            985.853394   \n",
              "\n",
              "    Pressure Actuals  \n",
              "0             982.43  \n",
              "1             982.68  \n",
              "2             983.02  \n",
              "3             983.59  \n",
              "4             983.59  \n",
              "..               ...  \n",
              "95            985.54  \n",
              "96            985.68  \n",
              "97            985.68  \n",
              "98            985.67  \n",
              "99            985.93  \n",
              "\n",
              "[100 rows x 4 columns]"
            ],
            "text/html": [
              "\n",
              "  <div id=\"df-5c49c9fb-8b32-4ed9-9ef0-c613f0ba4c97\" class=\"colab-df-container\">\n",
              "    <div>\n",
              "<style scoped>\n",
              "    .dataframe tbody tr th:only-of-type {\n",
              "        vertical-align: middle;\n",
              "    }\n",
              "\n",
              "    .dataframe tbody tr th {\n",
              "        vertical-align: top;\n",
              "    }\n",
              "\n",
              "    .dataframe thead th {\n",
              "        text-align: right;\n",
              "    }\n",
              "</style>\n",
              "<table border=\"1\" class=\"dataframe\">\n",
              "  <thead>\n",
              "    <tr style=\"text-align: right;\">\n",
              "      <th></th>\n",
              "      <th>Temperature Predictions</th>\n",
              "      <th>Temperature Actuals</th>\n",
              "      <th>Pressure Predictions</th>\n",
              "      <th>Pressure Actuals</th>\n",
              "    </tr>\n",
              "  </thead>\n",
              "  <tbody>\n",
              "    <tr>\n",
              "      <th>0</th>\n",
              "      <td>12.831717</td>\n",
              "      <td>12.93</td>\n",
              "      <td>982.458740</td>\n",
              "      <td>982.43</td>\n",
              "    </tr>\n",
              "    <tr>\n",
              "      <th>1</th>\n",
              "      <td>12.460749</td>\n",
              "      <td>12.43</td>\n",
              "      <td>982.569763</td>\n",
              "      <td>982.68</td>\n",
              "    </tr>\n",
              "    <tr>\n",
              "      <th>2</th>\n",
              "      <td>12.119354</td>\n",
              "      <td>12.17</td>\n",
              "      <td>982.865234</td>\n",
              "      <td>983.02</td>\n",
              "    </tr>\n",
              "    <tr>\n",
              "      <th>3</th>\n",
              "      <td>12.109760</td>\n",
              "      <td>11.55</td>\n",
              "      <td>983.307495</td>\n",
              "      <td>983.59</td>\n",
              "    </tr>\n",
              "    <tr>\n",
              "      <th>4</th>\n",
              "      <td>11.645123</td>\n",
              "      <td>11.59</td>\n",
              "      <td>984.032288</td>\n",
              "      <td>983.59</td>\n",
              "    </tr>\n",
              "    <tr>\n",
              "      <th>...</th>\n",
              "      <td>...</td>\n",
              "      <td>...</td>\n",
              "      <td>...</td>\n",
              "      <td>...</td>\n",
              "    </tr>\n",
              "    <tr>\n",
              "      <th>95</th>\n",
              "      <td>15.283367</td>\n",
              "      <td>15.52</td>\n",
              "      <td>985.521118</td>\n",
              "      <td>985.54</td>\n",
              "    </tr>\n",
              "    <tr>\n",
              "      <th>96</th>\n",
              "      <td>14.960668</td>\n",
              "      <td>15.27</td>\n",
              "      <td>985.513855</td>\n",
              "      <td>985.68</td>\n",
              "    </tr>\n",
              "    <tr>\n",
              "      <th>97</th>\n",
              "      <td>14.839510</td>\n",
              "      <td>15.07</td>\n",
              "      <td>985.663574</td>\n",
              "      <td>985.68</td>\n",
              "    </tr>\n",
              "    <tr>\n",
              "      <th>98</th>\n",
              "      <td>14.847680</td>\n",
              "      <td>14.88</td>\n",
              "      <td>985.765503</td>\n",
              "      <td>985.67</td>\n",
              "    </tr>\n",
              "    <tr>\n",
              "      <th>99</th>\n",
              "      <td>14.908332</td>\n",
              "      <td>14.98</td>\n",
              "      <td>985.853394</td>\n",
              "      <td>985.93</td>\n",
              "    </tr>\n",
              "  </tbody>\n",
              "</table>\n",
              "<p>100 rows × 4 columns</p>\n",
              "</div>\n",
              "    <div class=\"colab-df-buttons\">\n",
              "\n",
              "  <div class=\"colab-df-container\">\n",
              "    <button class=\"colab-df-convert\" onclick=\"convertToInteractive('df-5c49c9fb-8b32-4ed9-9ef0-c613f0ba4c97')\"\n",
              "            title=\"Convert this dataframe to an interactive table.\"\n",
              "            style=\"display:none;\">\n",
              "\n",
              "  <svg xmlns=\"http://www.w3.org/2000/svg\" height=\"24px\" viewBox=\"0 -960 960 960\">\n",
              "    <path d=\"M120-120v-720h720v720H120Zm60-500h600v-160H180v160Zm220 220h160v-160H400v160Zm0 220h160v-160H400v160ZM180-400h160v-160H180v160Zm440 0h160v-160H620v160ZM180-180h160v-160H180v160Zm440 0h160v-160H620v160Z\"/>\n",
              "  </svg>\n",
              "    </button>\n",
              "\n",
              "  <style>\n",
              "    .colab-df-container {\n",
              "      display:flex;\n",
              "      gap: 12px;\n",
              "    }\n",
              "\n",
              "    .colab-df-convert {\n",
              "      background-color: #E8F0FE;\n",
              "      border: none;\n",
              "      border-radius: 50%;\n",
              "      cursor: pointer;\n",
              "      display: none;\n",
              "      fill: #1967D2;\n",
              "      height: 32px;\n",
              "      padding: 0 0 0 0;\n",
              "      width: 32px;\n",
              "    }\n",
              "\n",
              "    .colab-df-convert:hover {\n",
              "      background-color: #E2EBFA;\n",
              "      box-shadow: 0px 1px 2px rgba(60, 64, 67, 0.3), 0px 1px 3px 1px rgba(60, 64, 67, 0.15);\n",
              "      fill: #174EA6;\n",
              "    }\n",
              "\n",
              "    .colab-df-buttons div {\n",
              "      margin-bottom: 4px;\n",
              "    }\n",
              "\n",
              "    [theme=dark] .colab-df-convert {\n",
              "      background-color: #3B4455;\n",
              "      fill: #D2E3FC;\n",
              "    }\n",
              "\n",
              "    [theme=dark] .colab-df-convert:hover {\n",
              "      background-color: #434B5C;\n",
              "      box-shadow: 0px 1px 3px 1px rgba(0, 0, 0, 0.15);\n",
              "      filter: drop-shadow(0px 1px 2px rgba(0, 0, 0, 0.3));\n",
              "      fill: #FFFFFF;\n",
              "    }\n",
              "  </style>\n",
              "\n",
              "    <script>\n",
              "      const buttonEl =\n",
              "        document.querySelector('#df-5c49c9fb-8b32-4ed9-9ef0-c613f0ba4c97 button.colab-df-convert');\n",
              "      buttonEl.style.display =\n",
              "        google.colab.kernel.accessAllowed ? 'block' : 'none';\n",
              "\n",
              "      async function convertToInteractive(key) {\n",
              "        const element = document.querySelector('#df-5c49c9fb-8b32-4ed9-9ef0-c613f0ba4c97');\n",
              "        const dataTable =\n",
              "          await google.colab.kernel.invokeFunction('convertToInteractive',\n",
              "                                                    [key], {});\n",
              "        if (!dataTable) return;\n",
              "\n",
              "        const docLinkHtml = 'Like what you see? Visit the ' +\n",
              "          '<a target=\"_blank\" href=https://colab.research.google.com/notebooks/data_table.ipynb>data table notebook</a>'\n",
              "          + ' to learn more about interactive tables.';\n",
              "        element.innerHTML = '';\n",
              "        dataTable['output_type'] = 'display_data';\n",
              "        await google.colab.output.renderOutput(dataTable, element);\n",
              "        const docLink = document.createElement('div');\n",
              "        docLink.innerHTML = docLinkHtml;\n",
              "        element.appendChild(docLink);\n",
              "      }\n",
              "    </script>\n",
              "  </div>\n",
              "\n",
              "\n",
              "<div id=\"df-965c5679-1c06-4369-ab41-9786907cc752\">\n",
              "  <button class=\"colab-df-quickchart\" onclick=\"quickchart('df-965c5679-1c06-4369-ab41-9786907cc752')\"\n",
              "            title=\"Suggest charts.\"\n",
              "            style=\"display:none;\">\n",
              "\n",
              "<svg xmlns=\"http://www.w3.org/2000/svg\" height=\"24px\"viewBox=\"0 0 24 24\"\n",
              "     width=\"24px\">\n",
              "    <g>\n",
              "        <path d=\"M19 3H5c-1.1 0-2 .9-2 2v14c0 1.1.9 2 2 2h14c1.1 0 2-.9 2-2V5c0-1.1-.9-2-2-2zM9 17H7v-7h2v7zm4 0h-2V7h2v10zm4 0h-2v-4h2v4z\"/>\n",
              "    </g>\n",
              "</svg>\n",
              "  </button>\n",
              "\n",
              "<style>\n",
              "  .colab-df-quickchart {\n",
              "    background-color: #E8F0FE;\n",
              "    border: none;\n",
              "    border-radius: 50%;\n",
              "    cursor: pointer;\n",
              "    display: none;\n",
              "    fill: #1967D2;\n",
              "    height: 32px;\n",
              "    padding: 0 0 0 0;\n",
              "    width: 32px;\n",
              "  }\n",
              "\n",
              "  .colab-df-quickchart:hover {\n",
              "    background-color: #E2EBFA;\n",
              "    box-shadow: 0px 1px 2px rgba(60, 64, 67, 0.3), 0px 1px 3px 1px rgba(60, 64, 67, 0.15);\n",
              "    fill: #174EA6;\n",
              "  }\n",
              "\n",
              "  [theme=dark] .colab-df-quickchart {\n",
              "    background-color: #3B4455;\n",
              "    fill: #D2E3FC;\n",
              "  }\n",
              "\n",
              "  [theme=dark] .colab-df-quickchart:hover {\n",
              "    background-color: #434B5C;\n",
              "    box-shadow: 0px 1px 3px 1px rgba(0, 0, 0, 0.15);\n",
              "    filter: drop-shadow(0px 1px 2px rgba(0, 0, 0, 0.3));\n",
              "    fill: #FFFFFF;\n",
              "  }\n",
              "</style>\n",
              "\n",
              "  <script>\n",
              "    async function quickchart(key) {\n",
              "      const charts = await google.colab.kernel.invokeFunction(\n",
              "          'suggestCharts', [key], {});\n",
              "    }\n",
              "    (() => {\n",
              "      let quickchartButtonEl =\n",
              "        document.querySelector('#df-965c5679-1c06-4369-ab41-9786907cc752 button');\n",
              "      quickchartButtonEl.style.display =\n",
              "        google.colab.kernel.accessAllowed ? 'block' : 'none';\n",
              "    })();\n",
              "  </script>\n",
              "</div>\n",
              "    </div>\n",
              "  </div>\n"
            ]
          },
          "metadata": {},
          "execution_count": 55
        },
        {
          "output_type": "display_data",
          "data": {
            "text/plain": [
              "<Figure size 640x480 with 1 Axes>"
            ],
            "image/png": "[encoded data removed]"
          },
          "metadata": {}
        }
      ]
    },
    {
      "cell_type": "code",
      "metadata": {
        "colab": {
          "base_uri": "https://localhost:8080/",
          "height": 448
        },
        "id": "9m_fSfOq1ohj",
        "outputId": "94800201-d04c-4a3b-dad6-a23bba7ed1ea"
      },
      "source": [
        "start, end = 0, 100\n",
        "plt.plot(post_processed_df['Temperature Predictions'][start:end])\n",
        "plt.plot(post_processed_df['Temperature Actuals'][start:end])"
      ],
      "execution_count": 56,
      "outputs": [
        {
          "data": {
            "text/plain": [
              "[<matplotlib.lines.Line2D at 0x7d426b727d30>]"
            ]
          },
          "execution_count": 56,
          "metadata": {},
          "output_type": "execute_result"
        },
        {
          "output_type": "display_data",
          "data": {
            "text/plain": [
              "<Figure size 640x480 with 1 Axes>"
            ],
            "image/png": "[encoded data removed]"
          },
          "metadata": {}
        }
      ]
    },
    {
      "cell_type": "code",
      "metadata": {
        "colab": {
          "base_uri": "https://localhost:8080/",
          "height": 448
        },
        "id": "ORffwf-e125j",
        "outputId": "4afb01c9-f356-4418-f8e3-f1a9dccdbcd1"
      },
      "source": [
        "plt.plot(post_processed_df['Pressure Predictions'][start:end])\n",
        "plt.plot(post_processed_df['Pressure Actuals'][start:end])"
      ],
      "execution_count": 57,
      "outputs": [
        {
          "output_type": "execute_result",
          "data": {
            "text/plain": [
              "[<matplotlib.lines.Line2D at 0x7d426b6e12a0>]"
            ]
          },
          "metadata": {},
          "execution_count": 57
        },
        {
          "output_type": "display_data",
          "data": {
            "text/plain": [
              "<Figure size 640x480 with 1 Axes>"
            ],
            "image/png": "[encoded data removed]"
          },
          "metadata": {}
        }
      ]
    },
    {
      "cell_type": "code",
      "metadata": {
        "colab": {
          "base_uri": "https://localhost:8080/"
        },
        "id": "GmwCnsUj2B8A",
        "outputId": "d5b94a83-9ce0-49f0-931a-6054d116f8e1"
      },
      "source": [
        "model6 = Sequential()\n",
        "model6.add(InputLayer((7, 6)))\n",
        "model6.add(LSTM(32, return_sequences=True))\n",
        "model6.add(LSTM(64))\n",
        "model6.add(Dense(8, 'relu'))\n",
        "model6.add(Dense(2, 'linear'))\n",
        "\n",
        "model6.summary()"
      ],
      "execution_count": 58,
      "outputs": [
        {
          "output_type": "stream",
          "name": "stdout",
          "text": [
            "Model: \"sequential_5\"\n",
            "_________________________________________________________________\n",
            " Layer (type)                Output Shape              Param #   \n",
            "=================================================================\n",
            " lstm_3 (LSTM)               (None, 7, 32)             4992      \n",
            "                                                                 \n",
            " lstm_4 (LSTM)               (None, 64)                24832     \n",
            "                                                                 \n",
            " dense_10 (Dense)            (None, 8)                 520       \n",
            "                                                                 \n",
            " dense_11 (Dense)            (None, 2)                 18        \n",
            "                                                                 \n",
            "=================================================================\n",
            "Total params: 30,362\n",
            "Trainable params: 30,362\n",
            "Non-trainable params: 0\n",
            "_________________________________________________________________\n"
          ]
        }
      ]
    },
    {
      "cell_type": "code",
      "metadata": {
        "id": "cWepnsFE2Tnl"
      },
      "source": [
        "cp6 = ModelCheckpoint('model6/', save_best_only=True)\n",
        "model6.compile(loss=MeanSquaredError(), optimizer=Adam(learning_rate=0.0001), metrics=[RootMeanSquaredError()])"
      ],
      "execution_count": 59,
      "outputs": []
    },
    {
      "cell_type": "code",
      "metadata": {
        "colab": {
          "base_uri": "https://localhost:8080/"
        },
        "id": "7XnlR3om2aiA",
        "outputId": "be114f03-e846-4f8f-d59a-b91528fb4341"
      },
      "source": [
        "model6.fit(X3_train, y3_train, validation_data=(X3_val, y3_val), epochs=10, callbacks=[cp6])"
      ],
      "execution_count": 60,
      "outputs": [
        {
          "output_type": "stream",
          "name": "stdout",
          "text": [
            "Epoch 1/10\n",
            "1874/1875 [============================>.] - ETA: 0s - loss: 0.1588 - root_mean_squared_error: 0.3985"
          ]
        },
        {
          "output_type": "stream",
          "name": "stderr",
          "text": [
            "WARNING:absl:Found untraced functions such as _update_step_xla, lstm_cell_4_layer_call_fn, lstm_cell_4_layer_call_and_return_conditional_losses, lstm_cell_5_layer_call_fn, lstm_cell_5_layer_call_and_return_conditional_losses while saving (showing 5 of 5). These functions will not be directly callable after loading.\n"
          ]
        },
        {
          "output_type": "stream",
          "name": "stdout",
          "text": [
            "\b\b\b\b\b\b\b\b\b\b\b\b\b\b\b\b\b\b\b\b\b\b\b\b\b\b\b\b\b\b\b\b\b\b\b\b\b\b\b\b\b\b\b\b\b\b\b\b\b\b\b\b\b\b\b\b\b\b\b\b\b\b\b\b\b\b\b\b\b\b\b\b\b\b\b\b\b\b\b\b\b\b\b\b\b\b\b\b\b\b\b\b\b\b\b\b\b\b\b\b\b\r1875/1875 [==============================] - 33s 15ms/step - loss: 0.1587 - root_mean_squared_error: 0.3984 - val_loss: 0.0447 - val_root_mean_squared_error: 0.2115\n",
            "Epoch 2/10\n",
            "1871/1875 [============================>.] - ETA: 0s - loss: 0.0379 - root_mean_squared_error: 0.1947"
          ]
        },
        {
          "output_type": "stream",
          "name": "stderr",
          "text": [
            "WARNING:absl:Found untraced functions such as _update_step_xla, lstm_cell_4_layer_call_fn, lstm_cell_4_layer_call_and_return_conditional_losses, lstm_cell_5_layer_call_fn, lstm_cell_5_layer_call_and_return_conditional_losses while saving (showing 5 of 5). These functions will not be directly callable after loading.\n"
          ]
        },
        {
          "output_type": "stream",
          "name": "stdout",
          "text": [
            "\b\b\b\b\b\b\b\b\b\b\b\b\b\b\b\b\b\b\b\b\b\b\b\b\b\b\b\b\b\b\b\b\b\b\b\b\b\b\b\b\b\b\b\b\b\b\b\b\b\b\b\b\b\b\b\b\b\b\b\b\b\b\b\b\b\b\b\b\b\b\b\b\b\b\b\b\b\b\b\b\b\b\b\b\b\b\b\b\b\b\b\b\b\b\b\b\b\b\b\b\b\r1875/1875 [==============================] - 29s 15ms/step - loss: 0.0379 - root_mean_squared_error: 0.1947 - val_loss: 0.0306 - val_root_mean_squared_error: 0.1750\n",
            "Epoch 3/10\n",
            "1872/1875 [============================>.] - ETA: 0s - loss: 0.0199 - root_mean_squared_error: 0.1412"
          ]
        },
        {
          "output_type": "stream",
          "name": "stderr",
          "text": [
            "WARNING:absl:Found untraced functions such as _update_step_xla, lstm_cell_4_layer_call_fn, lstm_cell_4_layer_call_and_return_conditional_losses, lstm_cell_5_layer_call_fn, lstm_cell_5_layer_call_and_return_conditional_losses while saving (showing 5 of 5). These functions will not be directly callable after loading.\n"
          ]
        },
        {
          "output_type": "stream",
          "name": "stdout",
          "text": [
            "\b\b\b\b\b\b\b\b\b\b\b\b\b\b\b\b\b\b\b\b\b\b\b\b\b\b\b\b\b\b\b\b\b\b\b\b\b\b\b\b\b\b\b\b\b\b\b\b\b\b\b\b\b\b\b\b\b\b\b\b\b\b\b\b\b\b\b\b\b\b\b\b\b\b\b\b\b\b\b\b\b\b\b\b\b\b\b\b\b\b\b\b\b\b\b\b\b\b\b\b\b\r1875/1875 [==============================] - 28s 15ms/step - loss: 0.0199 - root_mean_squared_error: 0.1412 - val_loss: 0.0120 - val_root_mean_squared_error: 0.1098\n",
            "Epoch 4/10\n",
            "1870/1875 [============================>.] - ETA: 0s - loss: 0.0111 - root_mean_squared_error: 0.1054"
          ]
        },
        {
          "output_type": "stream",
          "name": "stderr",
          "text": [
            "WARNING:absl:Found untraced functions such as _update_step_xla, lstm_cell_4_layer_call_fn, lstm_cell_4_layer_call_and_return_conditional_losses, lstm_cell_5_layer_call_fn, lstm_cell_5_layer_call_and_return_conditional_losses while saving (showing 5 of 5). These functions will not be directly callable after loading.\n"
          ]
        },
        {
          "output_type": "stream",
          "name": "stdout",
          "text": [
            "\b\b\b\b\b\b\b\b\b\b\b\b\b\b\b\b\b\b\b\b\b\b\b\b\b\b\b\b\b\b\b\b\b\b\b\b\b\b\b\b\b\b\b\b\b\b\b\b\b\b\b\b\b\b\b\b\b\b\b\b\b\b\b\b\b\b\b\b\b\b\b\b\b\b\b\b\b\b\b\b\b\b\b\b\b\b\b\b\b\b\b\b\b\b\b\b\b\b\b\b\b\r1875/1875 [==============================] - 28s 15ms/step - loss: 0.0111 - root_mean_squared_error: 0.1054 - val_loss: 0.0085 - val_root_mean_squared_error: 0.0922\n",
            "Epoch 5/10\n",
            "1870/1875 [============================>.] - ETA: 0s - loss: 0.0090 - root_mean_squared_error: 0.0948"
          ]
        },
        {
          "output_type": "stream",
          "name": "stderr",
          "text": [
            "WARNING:absl:Found untraced functions such as _update_step_xla, lstm_cell_4_layer_call_fn, lstm_cell_4_layer_call_and_return_conditional_losses, lstm_cell_5_layer_call_fn, lstm_cell_5_layer_call_and_return_conditional_losses while saving (showing 5 of 5). These functions will not be directly callable after loading.\n"
          ]
        },
        {
          "output_type": "stream",
          "name": "stdout",
          "text": [
            "\b\b\b\b\b\b\b\b\b\b\b\b\b\b\b\b\b\b\b\b\b\b\b\b\b\b\b\b\b\b\b\b\b\b\b\b\b\b\b\b\b\b\b\b\b\b\b\b\b\b\b\b\b\b\b\b\b\b\b\b\b\b\b\b\b\b\b\b\b\b\b\b\b\b\b\b\b\b\b\b\b\b\b\b\b\b\b\b\b\b\b\b\b\b\b\b\b\b\b\b\b\r1875/1875 [==============================] - 28s 15ms/step - loss: 0.0090 - root_mean_squared_error: 0.0948 - val_loss: 0.0069 - val_root_mean_squared_error: 0.0829\n",
            "Epoch 6/10\n",
            "1874/1875 [============================>.] - ETA: 0s - loss: 0.0075 - root_mean_squared_error: 0.0867"
          ]
        },
        {
          "output_type": "stream",
          "name": "stderr",
          "text": [
            "WARNING:absl:Found untraced functions such as _update_step_xla, lstm_cell_4_layer_call_fn, lstm_cell_4_layer_call_and_return_conditional_losses, lstm_cell_5_layer_call_fn, lstm_cell_5_layer_call_and_return_conditional_losses while saving (showing 5 of 5). These functions will not be directly callable after loading.\n"
          ]
        },
        {
          "output_type": "stream",
          "name": "stdout",
          "text": [
            "\b\b\b\b\b\b\b\b\b\b\b\b\b\b\b\b\b\b\b\b\b\b\b\b\b\b\b\b\b\b\b\b\b\b\b\b\b\b\b\b\b\b\b\b\b\b\b\b\b\b\b\b\b\b\b\b\b\b\b\b\b\b\b\b\b\b\b\b\b\b\b\b\b\b\b\b\b\b\b\b\b\b\b\b\b\b\b\b\b\b\b\b\b\b\b\b\b\b\b\b\b\r1875/1875 [==============================] - 28s 15ms/step - loss: 0.0075 - root_mean_squared_error: 0.0867 - val_loss: 0.0058 - val_root_mean_squared_error: 0.0763\n",
            "Epoch 7/10\n",
            "1874/1875 [============================>.] - ETA: 0s - loss: 0.0064 - root_mean_squared_error: 0.0803"
          ]
        },
        {
          "output_type": "stream",
          "name": "stderr",
          "text": [
            "WARNING:absl:Found untraced functions such as _update_step_xla, lstm_cell_4_layer_call_fn, lstm_cell_4_layer_call_and_return_conditional_losses, lstm_cell_5_layer_call_fn, lstm_cell_5_layer_call_and_return_conditional_losses while saving (showing 5 of 5). These functions will not be directly callable after loading.\n"
          ]
        },
        {
          "output_type": "stream",
          "name": "stdout",
          "text": [
            "\b\b\b\b\b\b\b\b\b\b\b\b\b\b\b\b\b\b\b\b\b\b\b\b\b\b\b\b\b\b\b\b\b\b\b\b\b\b\b\b\b\b\b\b\b\b\b\b\b\b\b\b\b\b\b\b\b\b\b\b\b\b\b\b\b\b\b\b\b\b\b\b\b\b\b\b\b\b\b\b\b\b\b\b\b\b\b\b\b\b\b\b\b\b\b\b\b\b\b\b\b\r1875/1875 [==============================] - 28s 15ms/step - loss: 0.0064 - root_mean_squared_error: 0.0803 - val_loss: 0.0049 - val_root_mean_squared_error: 0.0697\n",
            "Epoch 8/10\n",
            "1870/1875 [============================>.] - ETA: 0s - loss: 0.0058 - root_mean_squared_error: 0.0760"
          ]
        },
        {
          "output_type": "stream",
          "name": "stderr",
          "text": [
            "WARNING:absl:Found untraced functions such as _update_step_xla, lstm_cell_4_layer_call_fn, lstm_cell_4_layer_call_and_return_conditional_losses, lstm_cell_5_layer_call_fn, lstm_cell_5_layer_call_and_return_conditional_losses while saving (showing 5 of 5). These functions will not be directly callable after loading.\n"
          ]
        },
        {
          "output_type": "stream",
          "name": "stdout",
          "text": [
            "\b\b\b\b\b\b\b\b\b\b\b\b\b\b\b\b\b\b\b\b\b\b\b\b\b\b\b\b\b\b\b\b\b\b\b\b\b\b\b\b\b\b\b\b\b\b\b\b\b\b\b\b\b\b\b\b\b\b\b\b\b\b\b\b\b\b\b\b\b\b\b\b\b\b\b\b\b\b\b\b\b\b\b\b\b\b\b\b\b\b\b\b\b\b\b\b\b\b\b\b\b\r1875/1875 [==============================] - 30s 16ms/step - loss: 0.0058 - root_mean_squared_error: 0.0760 - val_loss: 0.0044 - val_root_mean_squared_error: 0.0663\n",
            "Epoch 9/10\n",
            "1871/1875 [============================>.] - ETA: 0s - loss: 0.0055 - root_mean_squared_error: 0.0740"
          ]
        },
        {
          "output_type": "stream",
          "name": "stderr",
          "text": [
            "WARNING:absl:Found untraced functions such as _update_step_xla, lstm_cell_4_layer_call_fn, lstm_cell_4_layer_call_and_return_conditional_losses, lstm_cell_5_layer_call_fn, lstm_cell_5_layer_call_and_return_conditional_losses while saving (showing 5 of 5). These functions will not be directly callable after loading.\n"
          ]
        },
        {
          "output_type": "stream",
          "name": "stdout",
          "text": [
            "\b\b\b\b\b\b\b\b\b\b\b\b\b\b\b\b\b\b\b\b\b\b\b\b\b\b\b\b\b\b\b\b\b\b\b\b\b\b\b\b\b\b\b\b\b\b\b\b\b\b\b\b\b\b\b\b\b\b\b\b\b\b\b\b\b\b\b\b\b\b\b\b\b\b\b\b\b\b\b\b\b\b\b\b\b\b\b\b\b\b\b\b\b\b\b\b\b\b\b\b\b\r1875/1875 [==============================] - 30s 16ms/step - loss: 0.0055 - root_mean_squared_error: 0.0740 - val_loss: 0.0041 - val_root_mean_squared_error: 0.0644\n",
            "Epoch 10/10\n",
            "1875/1875 [==============================] - 20s 11ms/step - loss: 0.0053 - root_mean_squared_error: 0.0728 - val_loss: 0.0044 - val_root_mean_squared_error: 0.0666\n"
          ]
        },
        {
          "output_type": "execute_result",
          "data": {
            "text/plain": [
              "<keras.callbacks.History at 0x7d425f261b70>"
            ]
          },
          "metadata": {},
          "execution_count": 60
        }
      ]
    },
    {
      "cell_type": "code",
      "metadata": {
        "colab": {
          "base_uri": "https://localhost:8080/"
        },
        "id": "Fy6pKacl2bOW",
        "outputId": "7b68be2e-7c4c-43f2-8902-4c2ce136233a"
      },
      "source": [
        "model7 = Sequential()\n",
        "model7.add(InputLayer((7, 6)))\n",
        "model7.add(Conv1D(64, kernel_size=2, activation='relu'))\n",
        "model7.add(Flatten())\n",
        "model7.add(Dense(8, 'relu'))\n",
        "model7.add(Dense(2, 'linear'))\n",
        "model7.summary()\n",
        "\n",
        "cp7 = ModelCheckpoint('model6/', save_best_only=True)\n",
        "model7.compile(loss=MeanSquaredError(), optimizer=Adam(learning_rate=0.0001), metrics=[RootMeanSquaredError()])"
      ],
      "execution_count": 61,
      "outputs": [
        {
          "output_type": "stream",
          "name": "stdout",
          "text": [
            "Model: \"sequential_6\"\n",
            "_________________________________________________________________\n",
            " Layer (type)                Output Shape              Param #   \n",
            "=================================================================\n",
            " conv1d_1 (Conv1D)           (None, 6, 64)             832       \n",
            "                                                                 \n",
            " flatten_1 (Flatten)         (None, 384)               0         \n",
            "                                                                 \n",
            " dense_12 (Dense)            (None, 8)                 3080      \n",
            "                                                                 \n",
            " dense_13 (Dense)            (None, 2)                 18        \n",
            "                                                                 \n",
            "=================================================================\n",
            "Total params: 3,930\n",
            "Trainable params: 3,930\n",
            "Non-trainable params: 0\n",
            "_________________________________________________________________\n"
          ]
        }
      ]
    },
    {
      "cell_type": "code",
      "metadata": {
        "colab": {
          "base_uri": "https://localhost:8080/"
        },
        "id": "xMRDXuFY27JA",
        "outputId": "46b97556-d7b1-44d2-f087-d596b4682ce8"
      },
      "source": [
        "model7.fit(X3_train, y3_train, validation_data=(X3_val, y3_val), epochs=10, callbacks=[cp7])"
      ],
      "execution_count": 62,
      "outputs": [
        {
          "output_type": "stream",
          "name": "stdout",
          "text": [
            "Epoch 1/10\n",
            "1869/1875 [============================>.] - ETA: 0s - loss: 0.0983 - root_mean_squared_error: 0.3135"
          ]
        },
        {
          "output_type": "stream",
          "name": "stderr",
          "text": [
            "WARNING:absl:Found untraced functions such as _jit_compiled_convolution_op, _update_step_xla while saving (showing 2 of 2). These functions will not be directly callable after loading.\n"
          ]
        },
        {
          "output_type": "stream",
          "name": "stdout",
          "text": [
            "\b\b\b\b\b\b\b\b\b\b\b\b\b\b\b\b\b\b\b\b\b\b\b\b\b\b\b\b\b\b\b\b\b\b\b\b\b\b\b\b\b\b\b\b\b\b\b\b\b\b\b\b\b\b\b\b\b\b\b\b\b\b\b\b\b\b\b\b\b\b\b\b\b\b\b\b\b\b\b\b\b\b\b\b\b\b\b\b\b\b\b\b\b\b\b\b\b\b\b\b\b\r1875/1875 [==============================] - 6s 3ms/step - loss: 0.0980 - root_mean_squared_error: 0.3131 - val_loss: 0.0199 - val_root_mean_squared_error: 0.1409\n",
            "Epoch 2/10\n",
            "1867/1875 [============================>.] - ETA: 0s - loss: 0.0152 - root_mean_squared_error: 0.1234"
          ]
        },
        {
          "output_type": "stream",
          "name": "stderr",
          "text": [
            "WARNING:absl:Found untraced functions such as _jit_compiled_convolution_op, _update_step_xla while saving (showing 2 of 2). These functions will not be directly callable after loading.\n"
          ]
        },
        {
          "output_type": "stream",
          "name": "stdout",
          "text": [
            "\b\b\b\b\b\b\b\b\b\b\b\b\b\b\b\b\b\b\b\b\b\b\b\b\b\b\b\b\b\b\b\b\b\b\b\b\b\b\b\b\b\b\b\b\b\b\b\b\b\b\b\b\b\b\b\b\b\b\b\b\b\b\b\b\b\b\b\b\b\b\b\b\b\b\b\b\b\b\b\b\b\b\b\b\b\b\b\b\b\b\b\b\b\b\b\b\b\b\b\b\b\r1875/1875 [==============================] - 5s 3ms/step - loss: 0.0152 - root_mean_squared_error: 0.1233 - val_loss: 0.0103 - val_root_mean_squared_error: 0.1016\n",
            "Epoch 3/10\n",
            "1869/1875 [============================>.] - ETA: 0s - loss: 0.0099 - root_mean_squared_error: 0.0995"
          ]
        },
        {
          "output_type": "stream",
          "name": "stderr",
          "text": [
            "WARNING:absl:Found untraced functions such as _jit_compiled_convolution_op, _update_step_xla while saving (showing 2 of 2). These functions will not be directly callable after loading.\n"
          ]
        },
        {
          "output_type": "stream",
          "name": "stdout",
          "text": [
            "\b\b\b\b\b\b\b\b\b\b\b\b\b\b\b\b\b\b\b\b\b\b\b\b\b\b\b\b\b\b\b\b\b\b\b\b\b\b\b\b\b\b\b\b\b\b\b\b\b\b\b\b\b\b\b\b\b\b\b\b\b\b\b\b\b\b\b\b\b\b\b\b\b\b\b\b\b\b\b\b\b\b\b\b\b\b\b\b\b\b\b\b\b\b\b\b\b\b\b\b\b\r1875/1875 [==============================] - 5s 3ms/step - loss: 0.0099 - root_mean_squared_error: 0.0995 - val_loss: 0.0075 - val_root_mean_squared_error: 0.0864\n",
            "Epoch 4/10\n",
            "1857/1875 [============================>.] - ETA: 0s - loss: 0.0080 - root_mean_squared_error: 0.0894"
          ]
        },
        {
          "output_type": "stream",
          "name": "stderr",
          "text": [
            "WARNING:absl:Found untraced functions such as _jit_compiled_convolution_op, _update_step_xla while saving (showing 2 of 2). These functions will not be directly callable after loading.\n"
          ]
        },
        {
          "output_type": "stream",
          "name": "stdout",
          "text": [
            "\b\b\b\b\b\b\b\b\b\b\b\b\b\b\b\b\b\b\b\b\b\b\b\b\b\b\b\b\b\b\b\b\b\b\b\b\b\b\b\b\b\b\b\b\b\b\b\b\b\b\b\b\b\b\b\b\b\b\b\b\b\b\b\b\b\b\b\b\b\b\b\b\b\b\b\b\b\b\b\b\b\b\b\b\b\b\b\b\b\b\b\b\b\b\b\b\b\b\b\b\b\r1875/1875 [==============================] - 5s 3ms/step - loss: 0.0080 - root_mean_squared_error: 0.0893 - val_loss: 0.0062 - val_root_mean_squared_error: 0.0790\n",
            "Epoch 5/10\n",
            "1856/1875 [============================>.] - ETA: 0s - loss: 0.0070 - root_mean_squared_error: 0.0836"
          ]
        },
        {
          "output_type": "stream",
          "name": "stderr",
          "text": [
            "WARNING:absl:Found untraced functions such as _jit_compiled_convolution_op, _update_step_xla while saving (showing 2 of 2). These functions will not be directly callable after loading.\n"
          ]
        },
        {
          "output_type": "stream",
          "name": "stdout",
          "text": [
            "\b\b\b\b\b\b\b\b\b\b\b\b\b\b\b\b\b\b\b\b\b\b\b\b\b\b\b\b\b\b\b\b\b\b\b\b\b\b\b\b\b\b\b\b\b\b\b\b\b\b\b\b\b\b\b\b\b\b\b\b\b\b\b\b\b\b\b\b\b\b\b\b\b\b\b\b\b\b\b\b\b\b\b\b\b\b\b\b\b\b\b\b\b\b\b\b\b\b\b\b\b\r1875/1875 [==============================] - 5s 3ms/step - loss: 0.0070 - root_mean_squared_error: 0.0836 - val_loss: 0.0056 - val_root_mean_squared_error: 0.0748\n",
            "Epoch 6/10\n",
            "1869/1875 [============================>.] - ETA: 0s - loss: 0.0064 - root_mean_squared_error: 0.0801"
          ]
        },
        {
          "output_type": "stream",
          "name": "stderr",
          "text": [
            "WARNING:absl:Found untraced functions such as _jit_compiled_convolution_op, _update_step_xla while saving (showing 2 of 2). These functions will not be directly callable after loading.\n"
          ]
        },
        {
          "output_type": "stream",
          "name": "stdout",
          "text": [
            "\b\b\b\b\b\b\b\b\b\b\b\b\b\b\b\b\b\b\b\b\b\b\b\b\b\b\b\b\b\b\b\b\b\b\b\b\b\b\b\b\b\b\b\b\b\b\b\b\b\b\b\b\b\b\b\b\b\b\b\b\b\b\b\b\b\b\b\b\b\b\b\b\b\b\b\b\b\b\b\b\b\b\b\b\b\b\b\b\b\b\b\b\b\b\b\b\b\b\b\b\b\r1875/1875 [==============================] - 5s 3ms/step - loss: 0.0064 - root_mean_squared_error: 0.0801 - val_loss: 0.0051 - val_root_mean_squared_error: 0.0714\n",
            "Epoch 7/10\n",
            "1867/1875 [============================>.] - ETA: 0s - loss: 0.0060 - root_mean_squared_error: 0.0776"
          ]
        },
        {
          "output_type": "stream",
          "name": "stderr",
          "text": [
            "WARNING:absl:Found untraced functions such as _jit_compiled_convolution_op, _update_step_xla while saving (showing 2 of 2). These functions will not be directly callable after loading.\n"
          ]
        },
        {
          "output_type": "stream",
          "name": "stdout",
          "text": [
            "\b\b\b\b\b\b\b\b\b\b\b\b\b\b\b\b\b\b\b\b\b\b\b\b\b\b\b\b\b\b\b\b\b\b\b\b\b\b\b\b\b\b\b\b\b\b\b\b\b\b\b\b\b\b\b\b\b\b\b\b\b\b\b\b\b\b\b\b\b\b\b\b\b\b\b\b\b\b\b\b\b\b\b\b\b\b\b\b\b\b\b\b\b\b\b\b\b\b\b\b\b\r1875/1875 [==============================] - 5s 3ms/step - loss: 0.0060 - root_mean_squared_error: 0.0777 - val_loss: 0.0048 - val_root_mean_squared_error: 0.0695\n",
            "Epoch 8/10\n",
            "1865/1875 [============================>.] - ETA: 0s - loss: 0.0058 - root_mean_squared_error: 0.0760"
          ]
        },
        {
          "output_type": "stream",
          "name": "stderr",
          "text": [
            "WARNING:absl:Found untraced functions such as _jit_compiled_convolution_op, _update_step_xla while saving (showing 2 of 2). These functions will not be directly callable after loading.\n"
          ]
        },
        {
          "output_type": "stream",
          "name": "stdout",
          "text": [
            "\b\b\b\b\b\b\b\b\b\b\b\b\b\b\b\b\b\b\b\b\b\b\b\b\b\b\b\b\b\b\b\b\b\b\b\b\b\b\b\b\b\b\b\b\b\b\b\b\b\b\b\b\b\b\b\b\b\b\b\b\b\b\b\b\b\b\b\b\b\b\b\b\b\b\b\b\b\b\b\b\b\b\b\b\b\b\b\b\b\b\b\b\b\b\b\b\b\b\b\b\b\r1875/1875 [==============================] - 5s 3ms/step - loss: 0.0058 - root_mean_squared_error: 0.0759 - val_loss: 0.0046 - val_root_mean_squared_error: 0.0679\n",
            "Epoch 9/10\n",
            "1867/1875 [============================>.] - ETA: 0s - loss: 0.0056 - root_mean_squared_error: 0.0746"
          ]
        },
        {
          "output_type": "stream",
          "name": "stderr",
          "text": [
            "WARNING:absl:Found untraced functions such as _jit_compiled_convolution_op, _update_step_xla while saving (showing 2 of 2). These functions will not be directly callable after loading.\n"
          ]
        },
        {
          "output_type": "stream",
          "name": "stdout",
          "text": [
            "\b\b\b\b\b\b\b\b\b\b\b\b\b\b\b\b\b\b\b\b\b\b\b\b\b\b\b\b\b\b\b\b\b\b\b\b\b\b\b\b\b\b\b\b\b\b\b\b\b\b\b\b\b\b\b\b\b\b\b\b\b\b\b\b\b\b\b\b\b\b\b\b\b\b\b\b\b\b\b\b\b\b\b\b\b\b\b\b\b\b\b\b\b\b\b\b\b\b\b\b\b\r1875/1875 [==============================] - 5s 3ms/step - loss: 0.0056 - root_mean_squared_error: 0.0746 - val_loss: 0.0045 - val_root_mean_squared_error: 0.0669\n",
            "Epoch 10/10\n",
            "1859/1875 [============================>.] - ETA: 0s - loss: 0.0054 - root_mean_squared_error: 0.0737"
          ]
        },
        {
          "output_type": "stream",
          "name": "stderr",
          "text": [
            "WARNING:absl:Found untraced functions such as _jit_compiled_convolution_op, _update_step_xla while saving (showing 2 of 2). These functions will not be directly callable after loading.\n"
          ]
        },
        {
          "output_type": "stream",
          "name": "stdout",
          "text": [
            "\b\b\b\b\b\b\b\b\b\b\b\b\b\b\b\b\b\b\b\b\b\b\b\b\b\b\b\b\b\b\b\b\b\b\b\b\b\b\b\b\b\b\b\b\b\b\b\b\b\b\b\b\b\b\b\b\b\b\b\b\b\b\b\b\b\b\b\b\b\b\b\b\b\b\b\b\b\b\b\b\b\b\b\b\b\b\b\b\b\b\b\b\b\b\b\b\b\b\b\b\b\r1875/1875 [==============================] - 5s 3ms/step - loss: 0.0054 - root_mean_squared_error: 0.0737 - val_loss: 0.0044 - val_root_mean_squared_error: 0.0661\n"
          ]
        },
        {
          "output_type": "execute_result",
          "data": {
            "text/plain": [
              "<keras.callbacks.History at 0x7d42634b2a40>"
            ]
          },
          "metadata": {},
          "execution_count": 62
        }
      ]
    }
  ]
}